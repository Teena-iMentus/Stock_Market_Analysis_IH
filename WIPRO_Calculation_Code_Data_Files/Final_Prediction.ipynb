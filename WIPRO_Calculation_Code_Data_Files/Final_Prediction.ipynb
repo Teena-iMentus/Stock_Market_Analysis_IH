{
 "cells": [
  {
   "cell_type": "code",
   "execution_count": 269,
   "metadata": {},
   "outputs": [],
   "source": [
    "import pandas as pd\n",
    "pd.set_option('display.max_columns',40)\n",
    "import os\n",
    "os.chdir(\"C:\\\\Users\\\\dell\\\\Desktop\\\\Exp_Dist(WIPRO)\\\\Exp_dist_dataset4_75%_prediction\")"
   ]
  },
  {
   "cell_type": "code",
   "execution_count": 270,
   "metadata": {},
   "outputs": [
    {
     "data": {
      "text/plain": [
       "['Processed_distnce_updated_distnce_ideal_target(WIPRO)_dataset4.csv',\n",
       " 'Processed_distnce_updated_distnce_ideal_target_1_(WIPRO).csv']"
      ]
     },
     "execution_count": 270,
     "metadata": {},
     "output_type": "execute_result"
    }
   ],
   "source": [
    "# Path to your data folder in Google Drive\n",
    "data_folder = \"C:\\\\Users\\\\dell\\\\Desktop\\\\Exp_Dist(WIPRO)\\\\Exp_dist_dataset4_75%_prediction\"\n",
    "\n",
    "# List files in the specified folder to confirm access\n",
    "folder_path = os.path.join(data_folder)  # Update 'path_to_your_data_folder' with your actual folder path\n",
    "file_list = os.listdir(folder_path)\n",
    "file_list"
   ]
  },
  {
   "cell_type": "code",
   "execution_count": 271,
   "metadata": {},
   "outputs": [],
   "source": [
    "s = pd.read_csv(\"Processed_distnce_updated_distnce_ideal_target_1_(WIPRO).csv\")"
   ]
  },
  {
   "cell_type": "code",
   "execution_count": 272,
   "metadata": {},
   "outputs": [
    {
     "data": {
      "text/plain": [
       "Index(['Time Stamp', 'Open', 'High', 'Low', 'Close', 'SellersLevel4',\n",
       "       'SellersLevel3', 'SellersLevel2', 'SellersLevel1', 'SellersLevel0',\n",
       "       'BuyersLevel0', 'BuyersLevel1', 'BuyersLevel2', 'BuyersLevel3',\n",
       "       'BuyersLevel4', 'BuyersInControlPrice', 'SellersInControlPrice',\n",
       "       'Entry', 'Defence', 'Stop', 'Target', 'Actual_100%_dis',\n",
       "       'Predicted_100%_dis', 'Predicted_75%_dis', 'Actual_Ideal',\n",
       "       'Predicted_Ideal_75%', 'Profit', 'Actual_ideal_profit',\n",
       "       'PIT_Profit_distnce', 'PIT_D_Profit_distnce', 'PIT_Loss_distnce',\n",
       "       'PIT_Defence_Target_distnce', 'PIT_Aggresive_Target_distnce',\n",
       "       'PIT_Ideal_Target_distnce', 'PIT_Aggresive_T_distnce', 'Loss'],\n",
       "      dtype='object')"
      ]
     },
     "execution_count": 272,
     "metadata": {},
     "output_type": "execute_result"
    }
   ],
   "source": [
    "s.columns"
   ]
  },
  {
   "cell_type": "code",
   "execution_count": 273,
   "metadata": {},
   "outputs": [],
   "source": [
    "s.drop (columns=['PIT_Aggresive_T_distnce','PIT_Aggresive_Target_distnce'],inplace=True,axis=1)"
   ]
  },
  {
   "cell_type": "code",
   "execution_count": 6,
   "metadata": {},
   "outputs": [],
   "source": [
    "#  s.drop(columns=['PIT_Aggresive_T_100'],inplace=True,axis=1)"
   ]
  },
  {
   "cell_type": "code",
   "execution_count": 274,
   "metadata": {},
   "outputs": [
    {
     "data": {
      "text/plain": [
       "Index(['Time Stamp', 'Open', 'High', 'Low', 'Close', 'SellersLevel4',\n",
       "       'SellersLevel3', 'SellersLevel2', 'SellersLevel1', 'SellersLevel0',\n",
       "       'BuyersLevel0', 'BuyersLevel1', 'BuyersLevel2', 'BuyersLevel3',\n",
       "       'BuyersLevel4', 'BuyersInControlPrice', 'SellersInControlPrice',\n",
       "       'Entry', 'Defence', 'Stop', 'Target', 'Actual_100%_dis',\n",
       "       'Predicted_100%_dis', 'Predicted_75%_dis', 'Actual_Ideal',\n",
       "       'Predicted_Ideal_75%', 'Profit', 'Actual_ideal_profit',\n",
       "       'PIT_Profit_distnce', 'PIT_D_Profit_distnce', 'PIT_Loss_distnce',\n",
       "       'PIT_Defence_Target_distnce', 'PIT_Ideal_Target_distnce', 'Loss'],\n",
       "      dtype='object')"
      ]
     },
     "execution_count": 274,
     "metadata": {},
     "output_type": "execute_result"
    }
   ],
   "source": [
    "s.columns"
   ]
  },
  {
   "cell_type": "code",
   "execution_count": 275,
   "metadata": {},
   "outputs": [],
   "source": [
    "s.rename({'Actual_Ideal':'Actual_Ideal_Target'},inplace=True,axis=1)\n",
    "s.rename({'Predicted_Ideal_75%':'Predicted_Ideal_Target_75%'},inplace=True,axis=1)\n"
   ]
  },
  {
   "cell_type": "code",
   "execution_count": 25,
   "metadata": {},
   "outputs": [],
   "source": [
    "# s.rename({'Actual_10%_dis':'Actual_10%_'},inplace=True,axis=1)\n",
    "# s.rename({'Predicted_10%_dis':'Predicted_10%_'},inplace=True,axis=1)"
   ]
  },
  {
   "cell_type": "code",
   "execution_count": 43,
   "metadata": {},
   "outputs": [],
   "source": [
    "# s.rename({'Actual_20%_dis':'Actual_20%_'},inplace=True,axis=1)\n",
    "# s.rename({'Predicted_20%_dis':'Predicted_20%_'},inplace=True,axis=1)"
   ]
  },
  {
   "cell_type": "code",
   "execution_count": 59,
   "metadata": {},
   "outputs": [],
   "source": [
    "# s.rename({'Actual_50%_dis':'Actual_50%_'},inplace=True,axis=1)\n",
    "# s.rename({'Predicted_50%_dis':'Predicted_50%_'},inplace=True,axis=1)"
   ]
  },
  {
   "cell_type": "code",
   "execution_count": 75,
   "metadata": {},
   "outputs": [],
   "source": [
    "# s.rename({'Actual_80%_dis':'Actual_80%_'},inplace=True,axis=1)\n",
    "# s.rename({'Predicted_80%_dis':'Predicted_80%_'},inplace=True,axis=1)"
   ]
  },
  {
   "cell_type": "code",
   "execution_count": 276,
   "metadata": {},
   "outputs": [],
   "source": [
    "s.rename({'Actual_100%_dis':'Actual_100%_'},inplace=True,axis=1)\n",
    "s.rename({'Predicted_100%_dis':'Predicted_100%_'},inplace=True,axis=1)\n",
    "s.rename({'Predicted_75%_dis':'Predicted_75%_'},inplace=True,axis=1)"
   ]
  },
  {
   "cell_type": "code",
   "execution_count": 277,
   "metadata": {},
   "outputs": [
    {
     "data": {
      "text/plain": [
       "Index(['Time Stamp', 'Open', 'High', 'Low', 'Close', 'SellersLevel4',\n",
       "       'SellersLevel3', 'SellersLevel2', 'SellersLevel1', 'SellersLevel0',\n",
       "       'BuyersLevel0', 'BuyersLevel1', 'BuyersLevel2', 'BuyersLevel3',\n",
       "       'BuyersLevel4', 'BuyersInControlPrice', 'SellersInControlPrice',\n",
       "       'Entry', 'Defence', 'Stop', 'Target', 'Actual_100%_', 'Predicted_100%_',\n",
       "       'Predicted_75%_', 'Actual_Ideal_Target', 'Predicted_Ideal_Target_75%',\n",
       "       'Profit', 'Actual_ideal_profit', 'PIT_Profit_distnce',\n",
       "       'PIT_D_Profit_distnce', 'PIT_Loss_distnce',\n",
       "       'PIT_Defence_Target_distnce', 'PIT_Ideal_Target_distnce', 'Loss'],\n",
       "      dtype='object')"
      ]
     },
     "execution_count": 277,
     "metadata": {},
     "output_type": "execute_result"
    }
   ],
   "source": [
    "s.columns"
   ]
  },
  {
   "cell_type": "code",
   "execution_count": 85,
   "metadata": {},
   "outputs": [
    {
     "data": {
      "text/plain": [
       "(14604, 33)"
      ]
     },
     "execution_count": 85,
     "metadata": {},
     "output_type": "execute_result"
    }
   ],
   "source": [
    "s.shape"
   ]
  },
  {
   "cell_type": "code",
   "execution_count": 11,
   "metadata": {},
   "outputs": [
    {
     "data": {
      "text/plain": [
       "0"
      ]
     },
     "execution_count": 11,
     "metadata": {},
     "output_type": "execute_result"
    }
   ],
   "source": [
    "s.duplicated().sum()"
   ]
  },
  {
   "cell_type": "code",
   "execution_count": 12,
   "metadata": {},
   "outputs": [],
   "source": [
    "s.drop_duplicates(inplace=True,keep='first')"
   ]
  },
  {
   "cell_type": "code",
   "execution_count": 13,
   "metadata": {},
   "outputs": [
    {
     "data": {
      "text/plain": [
       "0"
      ]
     },
     "execution_count": 13,
     "metadata": {},
     "output_type": "execute_result"
    }
   ],
   "source": [
    "s.duplicated().sum()"
   ]
  },
  {
   "cell_type": "code",
   "execution_count": 12,
   "metadata": {},
   "outputs": [
    {
     "data": {
      "text/plain": [
       "Index(['Time Stamp', 'Open', 'High', 'Low', 'Close', 'SellersLevel4',\n",
       "       'SellersLevel3', 'SellersLevel2', 'SellersLevel1', 'SellersLevel0',\n",
       "       'BuyersLevel0', 'BuyersLevel1', 'BuyersLevel2', 'BuyersLevel3',\n",
       "       'BuyersLevel4', 'BuyersInControlPrice', 'SellersInControlPrice',\n",
       "       'Entry', 'Defence', 'Stop', 'Target', 'Actual_100%_', 'Predicted_100%_',\n",
       "       'Actual_Ideal_Target', 'Predicted_Ideal_100%', 'Profit',\n",
       "       'Actual_ideal_profit', 'PIT_Profit_distnce', 'PIT_D_Profit_distnce',\n",
       "       'PIT_Loss_distnce', 'PIT_Defence_Target_distnce',\n",
       "       'PIT_Ideal_Target_distnce', 'Loss'],\n",
       "      dtype='object')"
      ]
     },
     "execution_count": 12,
     "metadata": {},
     "output_type": "execute_result"
    }
   ],
   "source": [
    "s.columns"
   ]
  },
  {
   "cell_type": "code",
   "execution_count": 278,
   "metadata": {},
   "outputs": [],
   "source": [
    "s.rename({'Profit':'Actual_Profit'},inplace=True,axis=1)\n",
    "s.rename({'Loss':'Actual_Loss'},inplace=True,axis=1)"
   ]
  },
  {
   "cell_type": "code",
   "execution_count": 279,
   "metadata": {},
   "outputs": [
    {
     "data": {
      "text/plain": [
       "Index(['Time Stamp', 'Open', 'High', 'Low', 'Close', 'SellersLevel4',\n",
       "       'SellersLevel3', 'SellersLevel2', 'SellersLevel1', 'SellersLevel0',\n",
       "       'BuyersLevel0', 'BuyersLevel1', 'BuyersLevel2', 'BuyersLevel3',\n",
       "       'BuyersLevel4', 'BuyersInControlPrice', 'SellersInControlPrice',\n",
       "       'Entry', 'Defence', 'Stop', 'Target', 'Actual_100%_', 'Predicted_100%_',\n",
       "       'Predicted_75%_', 'Actual_Ideal_Target', 'Predicted_Ideal_Target_75%',\n",
       "       'Actual_Profit', 'Actual_ideal_profit', 'PIT_Profit_distnce',\n",
       "       'PIT_D_Profit_distnce', 'PIT_Loss_distnce',\n",
       "       'PIT_Defence_Target_distnce', 'PIT_Ideal_Target_distnce',\n",
       "       'Actual_Loss'],\n",
       "      dtype='object')"
      ]
     },
     "execution_count": 279,
     "metadata": {},
     "output_type": "execute_result"
    }
   ],
   "source": [
    "s.columns"
   ]
  },
  {
   "cell_type": "code",
   "execution_count": 280,
   "metadata": {},
   "outputs": [],
   "source": [
    "s.drop(columns=['PIT_Defence_Target_distnce'],inplace=True,axis=1)\n"
   ]
  },
  {
   "cell_type": "code",
   "execution_count": 281,
   "metadata": {},
   "outputs": [],
   "source": [
    "s.rename({'PIT_Profit_distnce':'PIT_Profit'},inplace=True,axis=1)\n",
    "s.rename({'PIT_D_Profit_distnce':'PIT_D_Profit'},inplace=True,axis=1)\n",
    "s.rename({'PIT_Loss_distnce':'PIT_Loss'},inplace=True,axis=1)\n",
    "s.rename({'PIT_Ideal_Target_distnce':'PIT_Ideal_Target'},inplace=True,axis=1)"
   ]
  },
  {
   "cell_type": "code",
   "execution_count": 282,
   "metadata": {},
   "outputs": [
    {
     "data": {
      "text/plain": [
       "Index(['Time Stamp', 'Open', 'High', 'Low', 'Close', 'SellersLevel4',\n",
       "       'SellersLevel3', 'SellersLevel2', 'SellersLevel1', 'SellersLevel0',\n",
       "       'BuyersLevel0', 'BuyersLevel1', 'BuyersLevel2', 'BuyersLevel3',\n",
       "       'BuyersLevel4', 'BuyersInControlPrice', 'SellersInControlPrice',\n",
       "       'Entry', 'Defence', 'Stop', 'Target', 'Actual_100%_', 'Predicted_100%_',\n",
       "       'Predicted_75%_', 'Actual_Ideal_Target', 'Predicted_Ideal_Target_75%',\n",
       "       'Actual_Profit', 'Actual_ideal_profit', 'PIT_Profit', 'PIT_D_Profit',\n",
       "       'PIT_Loss', 'PIT_Ideal_Target', 'Actual_Loss'],\n",
       "      dtype='object')"
      ]
     },
     "execution_count": 282,
     "metadata": {},
     "output_type": "execute_result"
    }
   ],
   "source": [
    "s.columns"
   ]
  },
  {
   "cell_type": "code",
   "execution_count": 247,
   "metadata": {},
   "outputs": [],
   "source": [
    "s.rename({'Predicted_25%_dis':'Predicted_25%_'},inplace=True,axis=1)"
   ]
  },
  {
   "cell_type": "code",
   "execution_count": 265,
   "metadata": {},
   "outputs": [],
   "source": [
    "s.rename({'Predicted_50%_dis':'Predicted_50%_'},inplace=True,axis=1)"
   ]
  },
  {
   "cell_type": "code",
   "execution_count": 283,
   "metadata": {},
   "outputs": [
    {
     "data": {
      "text/plain": [
       "Index(['Time Stamp', 'Open', 'High', 'Low', 'Close', 'SellersLevel4',\n",
       "       'SellersLevel3', 'SellersLevel2', 'SellersLevel1', 'SellersLevel0',\n",
       "       'BuyersLevel0', 'BuyersLevel1', 'BuyersLevel2', 'BuyersLevel3',\n",
       "       'BuyersLevel4', 'BuyersInControlPrice', 'SellersInControlPrice',\n",
       "       'Entry', 'Defence', 'Stop', 'Target', 'Actual_100%_', 'Predicted_100%_',\n",
       "       'Predicted_75%_', 'Actual_Ideal_Target', 'Predicted_Ideal_Target_75%',\n",
       "       'Actual_Profit', 'Actual_ideal_profit', 'PIT_Profit', 'PIT_D_Profit',\n",
       "       'PIT_Loss', 'PIT_Ideal_Target', 'Actual_Loss'],\n",
       "      dtype='object')"
      ]
     },
     "execution_count": 283,
     "metadata": {},
     "output_type": "execute_result"
    }
   ],
   "source": [
    "s.columns"
   ]
  },
  {
   "cell_type": "code",
   "execution_count": 231,
   "metadata": {},
   "outputs": [],
   "source": [
    "import pandas as pd\n",
    "\n",
    "# Step 1: Rearrange columns in the desired order\n",
    "desired_order = ['Time Stamp','Open', 'High', 'Low', 'Close', 'SellersLevel4',\n",
    "       'SellersLevel3', 'SellersLevel2', 'SellersLevel1', 'SellersLevel0',\n",
    "       'BuyersLevel0', 'BuyersLevel1', 'BuyersLevel2', 'BuyersLevel3',\n",
    "       'BuyersLevel4', 'BuyersInControlPrice', 'SellersInControlPrice',\n",
    "       'Entry', 'Defence', 'Stop', 'Target','Actual_100%_','Predicted_100%_','Actual_Profit', 'Actual_Loss','Actual_ideal_profit','PIT_Profit','PIT_D_Profit','PIT_Loss',\n",
    "       ]\n",
    "       \n",
    "\n",
    "# Reorder DataFrame columns\n",
    "s = s[desired_order]"
   ]
  },
  {
   "cell_type": "markdown",
   "metadata": {},
   "source": [
    "For 25%"
   ]
  },
  {
   "cell_type": "code",
   "execution_count": 249,
   "metadata": {},
   "outputs": [],
   "source": [
    "import pandas as pd\n",
    "\n",
    "# Step 1: Rearrange columns in the desired order\n",
    "desired_order = ['Time Stamp','Open', 'High', 'Low', 'Close', 'SellersLevel4',\n",
    "       'SellersLevel3', 'SellersLevel2', 'SellersLevel1', 'SellersLevel0',\n",
    "       'BuyersLevel0', 'BuyersLevel1', 'BuyersLevel2', 'BuyersLevel3',\n",
    "       'BuyersLevel4', 'BuyersInControlPrice', 'SellersInControlPrice',\n",
    "       'Entry', 'Defence', 'Stop', 'Target','Actual_100%_','Predicted_100%_','Predicted_25%_','Actual_Profit', 'Actual_Loss','Actual_ideal_profit','PIT_Profit','PIT_D_Profit','PIT_Loss',\n",
    "       ]\n",
    "       \n",
    "\n",
    "# Reorder DataFrame columns\n",
    "s = s[desired_order]"
   ]
  },
  {
   "cell_type": "markdown",
   "metadata": {},
   "source": [
    "For 50%"
   ]
  },
  {
   "cell_type": "code",
   "execution_count": 267,
   "metadata": {},
   "outputs": [],
   "source": [
    "import pandas as pd\n",
    "\n",
    "# Step 1: Rearrange columns in the desired order\n",
    "desired_order = ['Time Stamp','Open', 'High', 'Low', 'Close', 'SellersLevel4',\n",
    "       'SellersLevel3', 'SellersLevel2', 'SellersLevel1', 'SellersLevel0',\n",
    "       'BuyersLevel0', 'BuyersLevel1', 'BuyersLevel2', 'BuyersLevel3',\n",
    "       'BuyersLevel4', 'BuyersInControlPrice', 'SellersInControlPrice',\n",
    "       'Entry', 'Defence', 'Stop', 'Target','Actual_100%_','Predicted_100%_','Predicted_50%_','Actual_Profit', 'Actual_Loss','Actual_ideal_profit','PIT_Profit','PIT_D_Profit','PIT_Loss',\n",
    "       ]\n",
    "       \n",
    "\n",
    "# Reorder DataFrame columns\n",
    "s = s[desired_order]"
   ]
  },
  {
   "cell_type": "markdown",
   "metadata": {},
   "source": [
    "For 75%"
   ]
  },
  {
   "cell_type": "code",
   "execution_count": 284,
   "metadata": {},
   "outputs": [],
   "source": [
    "import pandas as pd\n",
    "\n",
    "# Step 1: Rearrange columns in the desired order\n",
    "desired_order = ['Time Stamp','Open', 'High', 'Low', 'Close', 'SellersLevel4',\n",
    "       'SellersLevel3', 'SellersLevel2', 'SellersLevel1', 'SellersLevel0',\n",
    "       'BuyersLevel0', 'BuyersLevel1', 'BuyersLevel2', 'BuyersLevel3',\n",
    "       'BuyersLevel4', 'BuyersInControlPrice', 'SellersInControlPrice',\n",
    "       'Entry', 'Defence', 'Stop', 'Target','Actual_100%_','Predicted_100%_','Predicted_75%_','Actual_Profit', 'Actual_Loss','Actual_ideal_profit','PIT_Profit','PIT_D_Profit','PIT_Loss',\n",
    "       ]\n",
    "       \n",
    "\n",
    "# Reorder DataFrame columns\n",
    "s = s[desired_order]"
   ]
  },
  {
   "cell_type": "code",
   "execution_count": 285,
   "metadata": {},
   "outputs": [],
   "source": [
    "s.to_csv('C:\\\\Users\\\\dell\\\\Desktop\\\\Exp_Dist(WIPRO)\\\\Exp_dist_dataset4_75%_final\\\\Exp_dist_final_dataset4(75%).csv',index=False)"
   ]
  },
  {
   "cell_type": "code",
   "execution_count": 133,
   "metadata": {},
   "outputs": [],
   "source": [
    "s=pd.read_csv(\"C:\\\\Users\\\\dell\\\\Desktop\\\\Exp_Distance\\\\Exp_dist_dataset4_100%_final\\\\Exp_dist_final_dataset4.csv\")"
   ]
  },
  {
   "cell_type": "code",
   "execution_count": 134,
   "metadata": {},
   "outputs": [
    {
     "data": {
      "text/plain": [
       "Index(['Time Stamp', 'Open', 'High', 'Low', 'Close', 'SellersLevel4',\n",
       "       'SellersLevel3', 'SellersLevel2', 'SellersLevel1', 'SellersLevel0',\n",
       "       'BuyersLevel0', 'BuyersLevel1', 'BuyersLevel2', 'BuyersLevel3',\n",
       "       'BuyersLevel4', 'BuyersInControlPrice', 'SellersInControlPrice',\n",
       "       'Entry', 'Defence', 'Stop', 'Target', 'Actual_100%_', 'Predicted_100%_',\n",
       "       'Predicted_25%_', 'Predicted_50%_', 'Predicted_75%_',\n",
       "       'Actual_Ideal_Target', 'Predicted_Ideal_Target_25%',\n",
       "       'Predicted_Ideal_Target_50%', 'Predicted_Ideal_Target_75%',\n",
       "       'Predicted_Ideal_Target_100%', 'Profit', 'Actual_ideal_profit',\n",
       "       'PIT_Profit_25', 'PIT_D_Profit_25', 'PIT_Loss_25',\n",
       "       'PIT_Defence_Target_25', 'PIT_Profit_50', 'PIT_D_Profit_50',\n",
       "       'PIT_Loss_50', 'PIT_Defence_Target_50', 'PIT_Profit_75',\n",
       "       'PIT_D_Profit_75', 'PIT_Loss_75', 'PIT_Defence_Target_75',\n",
       "       'PIT_Profit_100', 'PIT_D_Profit_100', 'PIT_Loss_100',\n",
       "       'PIT_Defence_Target_100', 'Loss_25', 'Loss_50', 'Loss_75', 'Loss_100'],\n",
       "      dtype='object')"
      ]
     },
     "execution_count": 134,
     "metadata": {},
     "output_type": "execute_result"
    }
   ],
   "source": [
    "s.columns"
   ]
  },
  {
   "cell_type": "code",
   "execution_count": 135,
   "metadata": {},
   "outputs": [
    {
     "data": {
      "text/plain": [
       "0"
      ]
     },
     "execution_count": 135,
     "metadata": {},
     "output_type": "execute_result"
    }
   ],
   "source": [
    "s.duplicated().sum()"
   ]
  },
  {
   "cell_type": "code",
   "execution_count": 136,
   "metadata": {},
   "outputs": [
    {
     "data": {
      "text/plain": [
       "(1802, 53)"
      ]
     },
     "execution_count": 136,
     "metadata": {},
     "output_type": "execute_result"
    }
   ],
   "source": [
    "s.shape"
   ]
  },
  {
   "cell_type": "code",
   "execution_count": 137,
   "metadata": {},
   "outputs": [
    {
     "data": {
      "text/plain": [
       "Index(['Time Stamp', 'Open', 'High', 'Low', 'Close', 'SellersLevel4',\n",
       "       'SellersLevel3', 'SellersLevel2', 'SellersLevel1', 'SellersLevel0',\n",
       "       'BuyersLevel0', 'BuyersLevel1', 'BuyersLevel2', 'BuyersLevel3',\n",
       "       'BuyersLevel4', 'BuyersInControlPrice', 'SellersInControlPrice',\n",
       "       'Entry', 'Defence', 'Stop', 'Target', 'Actual_100%_', 'Predicted_100%_',\n",
       "       'Predicted_25%_', 'Predicted_50%_', 'Predicted_75%_',\n",
       "       'Actual_Ideal_Target', 'Predicted_Ideal_Target_25%',\n",
       "       'Predicted_Ideal_Target_50%', 'Predicted_Ideal_Target_75%',\n",
       "       'Predicted_Ideal_Target_100%', 'Profit', 'Actual_ideal_profit',\n",
       "       'PIT_Profit_25', 'PIT_D_Profit_25', 'PIT_Loss_25',\n",
       "       'PIT_Defence_Target_25', 'PIT_Profit_50', 'PIT_D_Profit_50',\n",
       "       'PIT_Loss_50', 'PIT_Defence_Target_50', 'PIT_Profit_75',\n",
       "       'PIT_D_Profit_75', 'PIT_Loss_75', 'PIT_Defence_Target_75',\n",
       "       'PIT_Profit_100', 'PIT_D_Profit_100', 'PIT_Loss_100',\n",
       "       'PIT_Defence_Target_100', 'Loss_25', 'Loss_50', 'Loss_75', 'Loss_100'],\n",
       "      dtype='object')"
      ]
     },
     "execution_count": 137,
     "metadata": {},
     "output_type": "execute_result"
    }
   ],
   "source": [
    "s.columns"
   ]
  },
  {
   "cell_type": "code",
   "execution_count": 138,
   "metadata": {},
   "outputs": [],
   "source": [
    "s.rename({'Profit':'Actual_Profit'},inplace=True,axis=1)\n",
    "s.rename({'Loss_100':'Actual_Loss'},inplace=True,axis=1)"
   ]
  },
  {
   "cell_type": "code",
   "execution_count": 139,
   "metadata": {},
   "outputs": [],
   "source": [
    "s.drop(columns=['Loss_25','Loss_50','Loss_75'],inplace=True,axis=1)"
   ]
  },
  {
   "cell_type": "code",
   "execution_count": 140,
   "metadata": {},
   "outputs": [],
   "source": [
    "s.drop(columns=['PIT_Defence_Target_100','PIT_Defence_Target_25','PIT_Defence_Target_50','PIT_Defence_Target_75'],inplace=True,axis=1)\n",
    "s.drop(columns=['Predicted_Ideal_Target_100%','Predicted_Ideal_Target_25%','Predicted_Ideal_Target_50%','Predicted_Ideal_Target_75%'],inplace=True,axis=1)"
   ]
  },
  {
   "cell_type": "code",
   "execution_count": 141,
   "metadata": {},
   "outputs": [
    {
     "data": {
      "text/plain": [
       "Index(['Time Stamp', 'Open', 'High', 'Low', 'Close', 'SellersLevel4',\n",
       "       'SellersLevel3', 'SellersLevel2', 'SellersLevel1', 'SellersLevel0',\n",
       "       'BuyersLevel0', 'BuyersLevel1', 'BuyersLevel2', 'BuyersLevel3',\n",
       "       'BuyersLevel4', 'BuyersInControlPrice', 'SellersInControlPrice',\n",
       "       'Entry', 'Defence', 'Stop', 'Target', 'Actual_100%_', 'Predicted_100%_',\n",
       "       'Predicted_25%_', 'Predicted_50%_', 'Predicted_75%_',\n",
       "       'Actual_Ideal_Target', 'Actual_Profit', 'Actual_ideal_profit',\n",
       "       'PIT_Profit_25', 'PIT_D_Profit_25', 'PIT_Loss_25', 'PIT_Profit_50',\n",
       "       'PIT_D_Profit_50', 'PIT_Loss_50', 'PIT_Profit_75', 'PIT_D_Profit_75',\n",
       "       'PIT_Loss_75', 'PIT_Profit_100', 'PIT_D_Profit_100', 'PIT_Loss_100',\n",
       "       'Actual_Loss'],\n",
       "      dtype='object')"
      ]
     },
     "execution_count": 141,
     "metadata": {},
     "output_type": "execute_result"
    }
   ],
   "source": [
    "s.columns"
   ]
  },
  {
   "cell_type": "code",
   "execution_count": 142,
   "metadata": {},
   "outputs": [],
   "source": [
    "import pandas as pd\n",
    "\n",
    "# Step 1: Rearrange columns in the desired order\n",
    "desired_order = ['Time Stamp','Open', 'High', 'Low', 'Close', 'SellersLevel4',\n",
    "       'SellersLevel3', 'SellersLevel2', 'SellersLevel1', 'SellersLevel0',\n",
    "       'BuyersLevel0', 'BuyersLevel1', 'BuyersLevel2', 'BuyersLevel3',\n",
    "       'BuyersLevel4', 'BuyersInControlPrice', 'SellersInControlPrice',\n",
    "       'Entry', 'Defence', 'Stop', 'Target','Actual_100%_','Predicted_100%_','Predicted_25%_','Predicted_50%_','Predicted_75%_','Actual_Profit', 'Actual_Loss','Actual_ideal_profit', 'PIT_Profit_25','PIT_Profit_50','PIT_Profit_75','PIT_Profit_100','PIT_D_Profit_25','PIT_D_Profit_50','PIT_D_Profit_75','PIT_D_Profit_100','PIT_Loss_25','PIT_Loss_50','PIT_Loss_75',\n",
    "       'PIT_Loss_100']\n",
    "       \n",
    "\n",
    "# Reorder DataFrame columns\n",
    "s = s[desired_order]"
   ]
  },
  {
   "cell_type": "code",
   "execution_count": 143,
   "metadata": {},
   "outputs": [
    {
     "data": {
      "text/plain": [
       "Index(['Time Stamp', 'Open', 'High', 'Low', 'Close', 'SellersLevel4',\n",
       "       'SellersLevel3', 'SellersLevel2', 'SellersLevel1', 'SellersLevel0',\n",
       "       'BuyersLevel0', 'BuyersLevel1', 'BuyersLevel2', 'BuyersLevel3',\n",
       "       'BuyersLevel4', 'BuyersInControlPrice', 'SellersInControlPrice',\n",
       "       'Entry', 'Defence', 'Stop', 'Target', 'Actual_100%_', 'Predicted_100%_',\n",
       "       'Predicted_25%_', 'Predicted_50%_', 'Predicted_75%_', 'Actual_Profit',\n",
       "       'Actual_Loss', 'Actual_ideal_profit', 'PIT_Profit_25', 'PIT_Profit_50',\n",
       "       'PIT_Profit_75', 'PIT_Profit_100', 'PIT_D_Profit_25', 'PIT_D_Profit_50',\n",
       "       'PIT_D_Profit_75', 'PIT_D_Profit_100', 'PIT_Loss_25', 'PIT_Loss_50',\n",
       "       'PIT_Loss_75', 'PIT_Loss_100'],\n",
       "      dtype='object')"
      ]
     },
     "execution_count": 143,
     "metadata": {},
     "output_type": "execute_result"
    }
   ],
   "source": [
    "s.columns"
   ]
  },
  {
   "cell_type": "code",
   "execution_count": 144,
   "metadata": {},
   "outputs": [],
   "source": [
    "s.to_csv('C:\\\\Users\\\\dell\\\\Desktop\\\\Exp_Distance\\\\Exp_dist_dataset4_100%_final\\\\Exp_dist_final_dataset4.csv',index=False)"
   ]
  }
 ],
 "metadata": {
  "kernelspec": {
   "display_name": "base",
   "language": "python",
   "name": "python3"
  },
  "language_info": {
   "codemirror_mode": {
    "name": "ipython",
    "version": 3
   },
   "file_extension": ".py",
   "mimetype": "text/x-python",
   "name": "python",
   "nbconvert_exporter": "python",
   "pygments_lexer": "ipython3",
   "version": "3.12.4"
  }
 },
 "nbformat": 4,
 "nbformat_minor": 2
}
