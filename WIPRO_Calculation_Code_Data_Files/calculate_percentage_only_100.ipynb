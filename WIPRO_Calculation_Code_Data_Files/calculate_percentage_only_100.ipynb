{
 "cells": [
  {
   "cell_type": "code",
   "execution_count": 34,
   "metadata": {},
   "outputs": [],
   "source": [
    "import pandas as pd\n",
    "pd.set_option('display.max_columns',40)\n",
    "import os\n",
    "os.chdir(\"C:\\\\Users\\\\dell\\\\Desktop\\\\Exp_Dist(WIPRO)\\\\Data\")"
   ]
  },
  {
   "cell_type": "code",
   "execution_count": 35,
   "metadata": {},
   "outputs": [
    {
     "data": {
      "text/plain": [
       "['Exp(WIPRO)_Updated_percentage_wise_data(2)_12NOV24.csv',\n",
       " 'Exp(WIPRO)_Updated_percentage_wise_data(3)_12NOV24.csv',\n",
       " 'Exp(WIPRO)_Updated_percentage_wise_data(4)_12NOV24.csv',\n",
       " 'Exp(WIPRO)_Updated_percentage_wise_dataset4_12NOV24.csv']"
      ]
     },
     "execution_count": 35,
     "metadata": {},
     "output_type": "execute_result"
    }
   ],
   "source": [
    "# Path to your data folder in Google Drive\n",
    "data_folder = \"C:\\\\Users\\\\dell\\\\Desktop\\\\Exp_Dist(WIPRO)\\\\Data\"\n",
    "\n",
    "# List files in the specified folder to confirm access\n",
    "folder_path = os.path.join(data_folder)  # Update 'path_to_your_data_folder' with your actual folder path\n",
    "file_list = os.listdir(folder_path)\n",
    "file_list"
   ]
  },
  {
   "cell_type": "code",
   "execution_count": 36,
   "metadata": {},
   "outputs": [],
   "source": [
    "s = pd.read_csv('Exp(WIPRO)_Updated_percentage_wise_dataset4_12NOV24.csv')"
   ]
  },
  {
   "cell_type": "code",
   "execution_count": 37,
   "metadata": {},
   "outputs": [
    {
     "data": {
      "text/plain": [
       "(2337, 27)"
      ]
     },
     "execution_count": 37,
     "metadata": {},
     "output_type": "execute_result"
    }
   ],
   "source": [
    "s.shape"
   ]
  },
  {
   "cell_type": "code",
   "execution_count": 38,
   "metadata": {},
   "outputs": [
    {
     "data": {
      "text/plain": [
       "Index(['Unnamed: 0', 'Time Stamp', 'Open', 'High', 'Low', 'Close',\n",
       "       'SellersLevel4', 'SellersLevel3', 'SellersLevel2', 'SellersLevel1',\n",
       "       'SellersLevel0', 'BuyersLevel0', 'BuyersLevel1', 'BuyersLevel2',\n",
       "       'BuyersLevel3', 'BuyersLevel4', 'BuyersInControlPrice',\n",
       "       'SellersInControlPrice', 'Entry', 'Defence', 'Stop', 'Target',\n",
       "       'Actual_100%_dis', 'Predicted_100%_dis', 'Predicted_25%_dis',\n",
       "       'Predicted_50%_dis', 'Predicted_75%_dis'],\n",
       "      dtype='object')"
      ]
     },
     "execution_count": 38,
     "metadata": {},
     "output_type": "execute_result"
    }
   ],
   "source": [
    "s.columns"
   ]
  },
  {
   "cell_type": "code",
   "execution_count": 39,
   "metadata": {},
   "outputs": [],
   "source": [
    "s.drop(columns=['Unnamed: 0'],inplace=True,axis=1)"
   ]
  },
  {
   "cell_type": "code",
   "execution_count": 40,
   "metadata": {},
   "outputs": [
    {
     "data": {
      "text/plain": [
       "Index(['Time Stamp', 'Open', 'High', 'Low', 'Close', 'SellersLevel4',\n",
       "       'SellersLevel3', 'SellersLevel2', 'SellersLevel1', 'SellersLevel0',\n",
       "       'BuyersLevel0', 'BuyersLevel1', 'BuyersLevel2', 'BuyersLevel3',\n",
       "       'BuyersLevel4', 'BuyersInControlPrice', 'SellersInControlPrice',\n",
       "       'Entry', 'Defence', 'Stop', 'Target', 'Actual_100%_dis',\n",
       "       'Predicted_100%_dis', 'Predicted_25%_dis', 'Predicted_50%_dis',\n",
       "       'Predicted_75%_dis'],\n",
       "      dtype='object')"
      ]
     },
     "execution_count": 40,
     "metadata": {},
     "output_type": "execute_result"
    }
   ],
   "source": [
    "s.columns"
   ]
  },
  {
   "cell_type": "code",
   "execution_count": 41,
   "metadata": {},
   "outputs": [
    {
     "data": {
      "text/html": [
       "<div>\n",
       "<style scoped>\n",
       "    .dataframe tbody tr th:only-of-type {\n",
       "        vertical-align: middle;\n",
       "    }\n",
       "\n",
       "    .dataframe tbody tr th {\n",
       "        vertical-align: top;\n",
       "    }\n",
       "\n",
       "    .dataframe thead th {\n",
       "        text-align: right;\n",
       "    }\n",
       "</style>\n",
       "<table border=\"1\" class=\"dataframe\">\n",
       "  <thead>\n",
       "    <tr style=\"text-align: right;\">\n",
       "      <th></th>\n",
       "      <th>Time Stamp</th>\n",
       "      <th>Open</th>\n",
       "      <th>High</th>\n",
       "      <th>Low</th>\n",
       "      <th>Close</th>\n",
       "      <th>SellersLevel4</th>\n",
       "      <th>SellersLevel3</th>\n",
       "      <th>SellersLevel2</th>\n",
       "      <th>SellersLevel1</th>\n",
       "      <th>SellersLevel0</th>\n",
       "      <th>BuyersLevel0</th>\n",
       "      <th>BuyersLevel1</th>\n",
       "      <th>BuyersLevel2</th>\n",
       "      <th>BuyersLevel3</th>\n",
       "      <th>BuyersLevel4</th>\n",
       "      <th>BuyersInControlPrice</th>\n",
       "      <th>SellersInControlPrice</th>\n",
       "      <th>Entry</th>\n",
       "      <th>Defence</th>\n",
       "      <th>Stop</th>\n",
       "      <th>Target</th>\n",
       "      <th>Actual_100%_dis</th>\n",
       "      <th>Predicted_100%_dis</th>\n",
       "      <th>Predicted_25%_dis</th>\n",
       "      <th>Predicted_50%_dis</th>\n",
       "      <th>Predicted_75%_dis</th>\n",
       "    </tr>\n",
       "  </thead>\n",
       "  <tbody>\n",
       "    <tr>\n",
       "      <th>45</th>\n",
       "      <td>2024-10-01 13:00:00</td>\n",
       "      <td>546.20</td>\n",
       "      <td>546.85</td>\n",
       "      <td>546.20</td>\n",
       "      <td>546.50</td>\n",
       "      <td>547.10</td>\n",
       "      <td>546.95</td>\n",
       "      <td>546.55</td>\n",
       "      <td>542.90</td>\n",
       "      <td>541.95</td>\n",
       "      <td>541.00</td>\n",
       "      <td>541.25</td>\n",
       "      <td>542.30</td>\n",
       "      <td>545.30</td>\n",
       "      <td>545.35</td>\n",
       "      <td>546.50</td>\n",
       "      <td>0.00</td>\n",
       "      <td>0.0</td>\n",
       "      <td>0.0</td>\n",
       "      <td>0.0</td>\n",
       "      <td>0.0</td>\n",
       "      <td>0.0</td>\n",
       "      <td>0.0</td>\n",
       "      <td>0.0</td>\n",
       "      <td>0.0</td>\n",
       "      <td>0.0</td>\n",
       "    </tr>\n",
       "    <tr>\n",
       "      <th>1456</th>\n",
       "      <td>2024-10-29 11:50:00</td>\n",
       "      <td>556.10</td>\n",
       "      <td>556.40</td>\n",
       "      <td>555.60</td>\n",
       "      <td>555.95</td>\n",
       "      <td>556.40</td>\n",
       "      <td>554.60</td>\n",
       "      <td>542.30</td>\n",
       "      <td>542.20</td>\n",
       "      <td>541.95</td>\n",
       "      <td>554.55</td>\n",
       "      <td>554.70</td>\n",
       "      <td>555.20</td>\n",
       "      <td>557.00</td>\n",
       "      <td>558.10</td>\n",
       "      <td>0.00</td>\n",
       "      <td>555.95</td>\n",
       "      <td>0.0</td>\n",
       "      <td>0.0</td>\n",
       "      <td>0.0</td>\n",
       "      <td>0.0</td>\n",
       "      <td>0.0</td>\n",
       "      <td>0.0</td>\n",
       "      <td>0.0</td>\n",
       "      <td>0.0</td>\n",
       "      <td>0.0</td>\n",
       "    </tr>\n",
       "    <tr>\n",
       "      <th>2009</th>\n",
       "      <td>2024-11-08 13:10:00</td>\n",
       "      <td>573.20</td>\n",
       "      <td>574.45</td>\n",
       "      <td>572.30</td>\n",
       "      <td>573.30</td>\n",
       "      <td>575.95</td>\n",
       "      <td>574.60</td>\n",
       "      <td>564.80</td>\n",
       "      <td>564.65</td>\n",
       "      <td>564.60</td>\n",
       "      <td>569.50</td>\n",
       "      <td>572.00</td>\n",
       "      <td>572.45</td>\n",
       "      <td>572.75</td>\n",
       "      <td>573.25</td>\n",
       "      <td>573.30</td>\n",
       "      <td>0.00</td>\n",
       "      <td>0.0</td>\n",
       "      <td>0.0</td>\n",
       "      <td>0.0</td>\n",
       "      <td>0.0</td>\n",
       "      <td>0.0</td>\n",
       "      <td>0.0</td>\n",
       "      <td>0.0</td>\n",
       "      <td>0.0</td>\n",
       "      <td>0.0</td>\n",
       "    </tr>\n",
       "    <tr>\n",
       "      <th>1267</th>\n",
       "      <td>2024-10-24 14:50:00</td>\n",
       "      <td>547.40</td>\n",
       "      <td>548.30</td>\n",
       "      <td>547.25</td>\n",
       "      <td>547.95</td>\n",
       "      <td>547.65</td>\n",
       "      <td>547.25</td>\n",
       "      <td>547.15</td>\n",
       "      <td>547.00</td>\n",
       "      <td>546.75</td>\n",
       "      <td>545.70</td>\n",
       "      <td>546.40</td>\n",
       "      <td>546.65</td>\n",
       "      <td>546.75</td>\n",
       "      <td>546.80</td>\n",
       "      <td>547.95</td>\n",
       "      <td>0.00</td>\n",
       "      <td>0.0</td>\n",
       "      <td>0.0</td>\n",
       "      <td>0.0</td>\n",
       "      <td>0.0</td>\n",
       "      <td>0.0</td>\n",
       "      <td>0.0</td>\n",
       "      <td>0.0</td>\n",
       "      <td>0.0</td>\n",
       "      <td>0.0</td>\n",
       "    </tr>\n",
       "    <tr>\n",
       "      <th>846</th>\n",
       "      <td>2024-10-17 11:00:00</td>\n",
       "      <td>535.55</td>\n",
       "      <td>535.85</td>\n",
       "      <td>535.00</td>\n",
       "      <td>535.15</td>\n",
       "      <td>535.85</td>\n",
       "      <td>533.20</td>\n",
       "      <td>533.10</td>\n",
       "      <td>532.55</td>\n",
       "      <td>530.20</td>\n",
       "      <td>532.80</td>\n",
       "      <td>533.10</td>\n",
       "      <td>533.55</td>\n",
       "      <td>534.35</td>\n",
       "      <td>534.60</td>\n",
       "      <td>0.00</td>\n",
       "      <td>535.15</td>\n",
       "      <td>0.0</td>\n",
       "      <td>0.0</td>\n",
       "      <td>0.0</td>\n",
       "      <td>0.0</td>\n",
       "      <td>0.0</td>\n",
       "      <td>0.0</td>\n",
       "      <td>0.0</td>\n",
       "      <td>0.0</td>\n",
       "      <td>0.0</td>\n",
       "    </tr>\n",
       "    <tr>\n",
       "      <th>1781</th>\n",
       "      <td>2024-11-05 12:55:00</td>\n",
       "      <td>542.30</td>\n",
       "      <td>543.00</td>\n",
       "      <td>542.20</td>\n",
       "      <td>542.35</td>\n",
       "      <td>542.20</td>\n",
       "      <td>541.85</td>\n",
       "      <td>538.55</td>\n",
       "      <td>537.70</td>\n",
       "      <td>537.55</td>\n",
       "      <td>538.65</td>\n",
       "      <td>539.30</td>\n",
       "      <td>539.55</td>\n",
       "      <td>541.10</td>\n",
       "      <td>541.30</td>\n",
       "      <td>542.35</td>\n",
       "      <td>0.00</td>\n",
       "      <td>0.0</td>\n",
       "      <td>0.0</td>\n",
       "      <td>0.0</td>\n",
       "      <td>0.0</td>\n",
       "      <td>0.0</td>\n",
       "      <td>0.0</td>\n",
       "      <td>0.0</td>\n",
       "      <td>0.0</td>\n",
       "      <td>0.0</td>\n",
       "    </tr>\n",
       "    <tr>\n",
       "      <th>2068</th>\n",
       "      <td>2024-11-11 11:50:00</td>\n",
       "      <td>580.20</td>\n",
       "      <td>580.30</td>\n",
       "      <td>579.00</td>\n",
       "      <td>579.50</td>\n",
       "      <td>580.30</td>\n",
       "      <td>575.95</td>\n",
       "      <td>574.60</td>\n",
       "      <td>564.80</td>\n",
       "      <td>564.65</td>\n",
       "      <td>574.75</td>\n",
       "      <td>575.40</td>\n",
       "      <td>575.80</td>\n",
       "      <td>576.30</td>\n",
       "      <td>577.40</td>\n",
       "      <td>0.00</td>\n",
       "      <td>579.50</td>\n",
       "      <td>0.0</td>\n",
       "      <td>0.0</td>\n",
       "      <td>0.0</td>\n",
       "      <td>0.0</td>\n",
       "      <td>0.0</td>\n",
       "      <td>0.0</td>\n",
       "      <td>0.0</td>\n",
       "      <td>0.0</td>\n",
       "      <td>0.0</td>\n",
       "    </tr>\n",
       "    <tr>\n",
       "      <th>1252</th>\n",
       "      <td>2024-10-24 13:35:00</td>\n",
       "      <td>546.90</td>\n",
       "      <td>547.00</td>\n",
       "      <td>546.50</td>\n",
       "      <td>546.85</td>\n",
       "      <td>547.25</td>\n",
       "      <td>547.15</td>\n",
       "      <td>547.00</td>\n",
       "      <td>546.75</td>\n",
       "      <td>546.55</td>\n",
       "      <td>545.70</td>\n",
       "      <td>546.40</td>\n",
       "      <td>549.45</td>\n",
       "      <td>550.10</td>\n",
       "      <td>550.30</td>\n",
       "      <td>0.00</td>\n",
       "      <td>0.00</td>\n",
       "      <td>0.0</td>\n",
       "      <td>0.0</td>\n",
       "      <td>0.0</td>\n",
       "      <td>0.0</td>\n",
       "      <td>0.0</td>\n",
       "      <td>0.0</td>\n",
       "      <td>0.0</td>\n",
       "      <td>0.0</td>\n",
       "      <td>0.0</td>\n",
       "    </tr>\n",
       "    <tr>\n",
       "      <th>1981</th>\n",
       "      <td>2024-11-08 10:50:00</td>\n",
       "      <td>576.30</td>\n",
       "      <td>576.50</td>\n",
       "      <td>575.35</td>\n",
       "      <td>576.50</td>\n",
       "      <td>564.80</td>\n",
       "      <td>564.65</td>\n",
       "      <td>564.60</td>\n",
       "      <td>560.55</td>\n",
       "      <td>557.90</td>\n",
       "      <td>569.00</td>\n",
       "      <td>569.50</td>\n",
       "      <td>572.00</td>\n",
       "      <td>572.45</td>\n",
       "      <td>574.50</td>\n",
       "      <td>576.50</td>\n",
       "      <td>0.00</td>\n",
       "      <td>0.0</td>\n",
       "      <td>0.0</td>\n",
       "      <td>0.0</td>\n",
       "      <td>0.0</td>\n",
       "      <td>0.0</td>\n",
       "      <td>0.0</td>\n",
       "      <td>0.0</td>\n",
       "      <td>0.0</td>\n",
       "      <td>0.0</td>\n",
       "    </tr>\n",
       "    <tr>\n",
       "      <th>717</th>\n",
       "      <td>2024-10-15 12:45:00</td>\n",
       "      <td>535.90</td>\n",
       "      <td>536.25</td>\n",
       "      <td>535.55</td>\n",
       "      <td>535.70</td>\n",
       "      <td>539.20</td>\n",
       "      <td>538.45</td>\n",
       "      <td>538.20</td>\n",
       "      <td>537.40</td>\n",
       "      <td>527.00</td>\n",
       "      <td>543.70</td>\n",
       "      <td>543.80</td>\n",
       "      <td>544.50</td>\n",
       "      <td>545.15</td>\n",
       "      <td>549.15</td>\n",
       "      <td>0.00</td>\n",
       "      <td>535.70</td>\n",
       "      <td>0.0</td>\n",
       "      <td>0.0</td>\n",
       "      <td>0.0</td>\n",
       "      <td>0.0</td>\n",
       "      <td>0.0</td>\n",
       "      <td>0.0</td>\n",
       "      <td>0.0</td>\n",
       "      <td>0.0</td>\n",
       "      <td>0.0</td>\n",
       "    </tr>\n",
       "  </tbody>\n",
       "</table>\n",
       "</div>"
      ],
      "text/plain": [
       "               Time Stamp    Open    High     Low   Close  SellersLevel4  \\\n",
       "45    2024-10-01 13:00:00  546.20  546.85  546.20  546.50         547.10   \n",
       "1456  2024-10-29 11:50:00  556.10  556.40  555.60  555.95         556.40   \n",
       "2009  2024-11-08 13:10:00  573.20  574.45  572.30  573.30         575.95   \n",
       "1267  2024-10-24 14:50:00  547.40  548.30  547.25  547.95         547.65   \n",
       "846   2024-10-17 11:00:00  535.55  535.85  535.00  535.15         535.85   \n",
       "1781  2024-11-05 12:55:00  542.30  543.00  542.20  542.35         542.20   \n",
       "2068  2024-11-11 11:50:00  580.20  580.30  579.00  579.50         580.30   \n",
       "1252  2024-10-24 13:35:00  546.90  547.00  546.50  546.85         547.25   \n",
       "1981  2024-11-08 10:50:00  576.30  576.50  575.35  576.50         564.80   \n",
       "717   2024-10-15 12:45:00  535.90  536.25  535.55  535.70         539.20   \n",
       "\n",
       "      SellersLevel3  SellersLevel2  SellersLevel1  SellersLevel0  \\\n",
       "45           546.95         546.55         542.90         541.95   \n",
       "1456         554.60         542.30         542.20         541.95   \n",
       "2009         574.60         564.80         564.65         564.60   \n",
       "1267         547.25         547.15         547.00         546.75   \n",
       "846          533.20         533.10         532.55         530.20   \n",
       "1781         541.85         538.55         537.70         537.55   \n",
       "2068         575.95         574.60         564.80         564.65   \n",
       "1252         547.15         547.00         546.75         546.55   \n",
       "1981         564.65         564.60         560.55         557.90   \n",
       "717          538.45         538.20         537.40         527.00   \n",
       "\n",
       "      BuyersLevel0  BuyersLevel1  BuyersLevel2  BuyersLevel3  BuyersLevel4  \\\n",
       "45          541.00        541.25        542.30        545.30        545.35   \n",
       "1456        554.55        554.70        555.20        557.00        558.10   \n",
       "2009        569.50        572.00        572.45        572.75        573.25   \n",
       "1267        545.70        546.40        546.65        546.75        546.80   \n",
       "846         532.80        533.10        533.55        534.35        534.60   \n",
       "1781        538.65        539.30        539.55        541.10        541.30   \n",
       "2068        574.75        575.40        575.80        576.30        577.40   \n",
       "1252        545.70        546.40        549.45        550.10        550.30   \n",
       "1981        569.00        569.50        572.00        572.45        574.50   \n",
       "717         543.70        543.80        544.50        545.15        549.15   \n",
       "\n",
       "      BuyersInControlPrice  SellersInControlPrice  Entry  Defence  Stop  \\\n",
       "45                  546.50                   0.00    0.0      0.0   0.0   \n",
       "1456                  0.00                 555.95    0.0      0.0   0.0   \n",
       "2009                573.30                   0.00    0.0      0.0   0.0   \n",
       "1267                547.95                   0.00    0.0      0.0   0.0   \n",
       "846                   0.00                 535.15    0.0      0.0   0.0   \n",
       "1781                542.35                   0.00    0.0      0.0   0.0   \n",
       "2068                  0.00                 579.50    0.0      0.0   0.0   \n",
       "1252                  0.00                   0.00    0.0      0.0   0.0   \n",
       "1981                576.50                   0.00    0.0      0.0   0.0   \n",
       "717                   0.00                 535.70    0.0      0.0   0.0   \n",
       "\n",
       "      Target  Actual_100%_dis  Predicted_100%_dis  Predicted_25%_dis  \\\n",
       "45       0.0              0.0                 0.0                0.0   \n",
       "1456     0.0              0.0                 0.0                0.0   \n",
       "2009     0.0              0.0                 0.0                0.0   \n",
       "1267     0.0              0.0                 0.0                0.0   \n",
       "846      0.0              0.0                 0.0                0.0   \n",
       "1781     0.0              0.0                 0.0                0.0   \n",
       "2068     0.0              0.0                 0.0                0.0   \n",
       "1252     0.0              0.0                 0.0                0.0   \n",
       "1981     0.0              0.0                 0.0                0.0   \n",
       "717      0.0              0.0                 0.0                0.0   \n",
       "\n",
       "      Predicted_50%_dis  Predicted_75%_dis  \n",
       "45                  0.0                0.0  \n",
       "1456                0.0                0.0  \n",
       "2009                0.0                0.0  \n",
       "1267                0.0                0.0  \n",
       "846                 0.0                0.0  \n",
       "1781                0.0                0.0  \n",
       "2068                0.0                0.0  \n",
       "1252                0.0                0.0  \n",
       "1981                0.0                0.0  \n",
       "717                 0.0                0.0  "
      ]
     },
     "execution_count": 41,
     "metadata": {},
     "output_type": "execute_result"
    }
   ],
   "source": [
    "s.sample(10)"
   ]
  },
  {
   "cell_type": "code",
   "execution_count": 31,
   "metadata": {},
   "outputs": [
    {
     "data": {
      "text/plain": [
       "0"
      ]
     },
     "execution_count": 31,
     "metadata": {},
     "output_type": "execute_result"
    }
   ],
   "source": [
    "s.duplicated().sum()"
   ]
  },
  {
   "cell_type": "code",
   "execution_count": 67,
   "metadata": {},
   "outputs": [],
   "source": [
    "s.drop_duplicates(inplace=True,keep='first')"
   ]
  },
  {
   "cell_type": "code",
   "execution_count": 8,
   "metadata": {},
   "outputs": [
    {
     "data": {
      "text/plain": [
       "0"
      ]
     },
     "execution_count": 8,
     "metadata": {},
     "output_type": "execute_result"
    }
   ],
   "source": [
    "s.duplicated().sum()"
   ]
  },
  {
   "cell_type": "code",
   "execution_count": 10,
   "metadata": {},
   "outputs": [
    {
     "data": {
      "text/plain": [
       "(20766, 26)"
      ]
     },
     "execution_count": 10,
     "metadata": {},
     "output_type": "execute_result"
    }
   ],
   "source": [
    "s.shape"
   ]
  },
  {
   "cell_type": "code",
   "execution_count": 72,
   "metadata": {},
   "outputs": [],
   "source": [
    "import os\n",
    "import pandas as pd\n",
    "\n",
    "def process_specific_file( output_directory, target_filename):\n",
    "    # Ensure the output directory exists\n",
    "    os.makedirs(output_directory, exist_ok=True)\n",
    "\n",
    "    # Define the specific file to process\n",
    "    filepath = os.path.join( target_filename)\n",
    "\n",
    "    # Load the DataFrame\n",
    "    s2 = pd.read_csv(filepath)\n",
    "\n",
    "    # Initialize columns for Actual and Predicted Ideal targets for 25%, 50%, 75%, and 100%\n",
    "    s2['Actual_Ideal'] = 0.0\n",
    "    s2['Predicted_Ideal_25%'] = 0.0\n",
    "    s2['Predicted_Ideal_50%'] = 0.0\n",
    "    s2['Predicted_Ideal_75%'] = 0.0\n",
    "    s2['Predicted_Ideal_100%'] = 0.0\n",
    "\n",
    "\n",
    "\n",
    "    print(s2.columns)\n",
    "\n",
    "#     # Apply calculations for SellersInControlPrice\n",
    "#     sellers_condition = (s2['SellersInControlPrice'] != 0) & (s2['Entry'] != 0)\n",
    "#     print(\"sellers_condition\",sellers_condition)\n",
    "\n",
    "#     s2.loc[sellers_condition, 'Actual_Ideal'] = (s2['Target'] + s2['Actual_100%_dis']).astype(float)\n",
    "#     s2.loc[sellers_condition, 'Predicted_Ideal_25%'] = (s2['Target'] + s2['Predicted_25%_dis']).astype(float)\n",
    "#     s2.loc[sellers_condition, 'Predicted_Ideal_50%'] = (s2['Target'] + s2['Predicted_50%_dis']).astype(float)\n",
    "#     s2.loc[sellers_condition, 'Predicted_Ideal_75%'] = (s2['Target'] + s2['Predicted_75%_dis']).astype(float)\n",
    "#     s2.loc[sellers_condition, 'Predicted_Ideal_100%'] = (s2['Target'] + s2['Predicted_100%_dis']).astype(float)\n",
    "\n",
    "#     # Apply calculations for BuyersInControlPrice\n",
    "#     buyers_condition = (s2['BuyersInControlPrice'] != 0) & (s2['Entry'] != 0)\n",
    "\n",
    "#     s2.loc[buyers_condition, 'Actual_Ideal'] = (s2['Target'] + s2['Actual_100%_dis']).astype(float)\n",
    "#     s2.loc[buyers_condition, 'Predicted_Ideal_25%'] = (s2['Target'] + s2['Predicted_25%_dis']).astype(float)\n",
    "#     s2.loc[buyers_condition, 'Predicted_Ideal_50%'] = (s2['Target'] + s2['Predicted_50%_dis']).astype(float)\n",
    "#     s2.loc[buyers_condition, 'Predicted_Ideal_75%'] = (s2['Target'] + s2['Predicted_75%_dis']).astype(float)\n",
    "#     s2.loc[buyers_condition, 'Predicted_Ideal_100%'] = (s2['Target'] + s2['Predicted_100%_dis']).astype(float)\n",
    "\n",
    "#     # Save the modified DataFrame to the output directory\n",
    "# #     output_filepath = os.path.join(output_directory, f'Processed_with_Percentage_{target_filename}')\n",
    "# #     s2.to_csv(output_filepath, index=False)\n",
    "\n",
    "# #     print(f'Saved processed file: {output_filepath}')\n",
    "\n",
    "# # # Example usage\n",
    "\n",
    "# # output_directory = 'C:\\\\Users\\\\dell\\\\Desktop\\\\Exp_Distance\\\\Exp_dist_dataset4_100%_percentage'\n",
    "# # target_filename = 'Copy of Exp(BANKNIFTY)_Updated_percentage_wise_data(4)_12NOV24 (1).csv'\n",
    "\n",
    "# # process_specific_file(output_directory, target_filename)\n"
   ]
  },
  {
   "cell_type": "code",
   "execution_count": 42,
   "metadata": {},
   "outputs": [
    {
     "name": "stdout",
     "output_type": "stream",
     "text": [
      "Index(['Unnamed: 0', 'Time Stamp', 'Open', 'High', 'Low', 'Close',\n",
      "       'SellersLevel4', 'SellersLevel3', 'SellersLevel2', 'SellersLevel1',\n",
      "       'SellersLevel0', 'BuyersLevel0', 'BuyersLevel1', 'BuyersLevel2',\n",
      "       'BuyersLevel3', 'BuyersLevel4', 'BuyersInControlPrice',\n",
      "       'SellersInControlPrice', 'Entry', 'Defence', 'Stop', 'Target',\n",
      "       'Actual_100%_dis', 'Predicted_100%_dis', 'Predicted_25%_dis',\n",
      "       'Predicted_50%_dis', 'Predicted_75%_dis', 'Actual_Ideal',\n",
      "       'Predicted_Ideal_25%', 'Predicted_Ideal_50%', 'Predicted_Ideal_75%',\n",
      "       'Predicted_Ideal_100%'],\n",
      "      dtype='object')\n",
      "sellers_condition 0       False\n",
      "1       False\n",
      "2       False\n",
      "3       False\n",
      "4       False\n",
      "        ...  \n",
      "2332    False\n",
      "2333    False\n",
      "2334    False\n",
      "2335    False\n",
      "2336    False\n",
      "Length: 2337, dtype: bool\n"
     ]
    }
   ],
   "source": [
    " # Initialize columns for Actual and Predicted Ideal targets for 25%, 50%, 75%, and 100%\n",
    "s2 = pd.read_csv('Exp(WIPRO)_Updated_percentage_wise_dataset4_12NOV24.csv')\n",
    "\n",
    "s2['Actual_Ideal'] = 0.0\n",
    "s2['Predicted_Ideal_25%'] = 0.0\n",
    "s2['Predicted_Ideal_50%'] = 0.0\n",
    "s2['Predicted_Ideal_75%'] = 0.0\n",
    "s2['Predicted_Ideal_100%'] = 0.0\n",
    "print(s2.columns)\n",
    "\n",
    "\n",
    "# Apply calculations for SellersInControlPrice\n",
    "sellers_condition = (s2['SellersInControlPrice'] != 0) & (s2['Entry'] != 0)\n",
    "print(\"sellers_condition\",sellers_condition)\n",
    "\n",
    "s2.loc[sellers_condition, 'Actual_Ideal'] = (s2['Target'] + s2['Actual_100%_dis']).astype(float)\n",
    "s2.loc[sellers_condition, 'Predicted_Ideal_25%'] = (s2['Target'] + s2['Predicted_25%_dis']).astype(float)\n",
    "s2.loc[sellers_condition, 'Predicted_Ideal_50%'] = (s2['Target'] + s2['Predicted_50%_dis']).astype(float)\n",
    "s2.loc[sellers_condition, 'Predicted_Ideal_75%'] = (s2['Target'] + s2['Predicted_75%_dis']).astype(float)\n",
    "s2.loc[sellers_condition, 'Predicted_Ideal_100%'] = (s2['Target'] + s2['Predicted_100%_dis']).astype(float)\n",
    "\n",
    "#     # Apply calculations for BuyersInControlPrice\n",
    "buyers_condition = (s2['BuyersInControlPrice'] != 0) & (s2['Entry'] != 0)\n",
    "\n",
    "s2.loc[buyers_condition, 'Actual_Ideal'] = (s2['Target'] + s2['Actual_100%_dis']).astype(float)\n",
    "s2.loc[buyers_condition, 'Predicted_Ideal_25%'] = (s2['Target'] + s2['Predicted_25%_dis']).astype(float)\n",
    "s2.loc[buyers_condition, 'Predicted_Ideal_50%'] = (s2['Target'] + s2['Predicted_50%_dis']).astype(float)\n",
    "s2.loc[buyers_condition, 'Predicted_Ideal_75%'] = (s2['Target'] + s2['Predicted_75%_dis']).astype(float)\n",
    "s2.loc[buyers_condition, 'Predicted_Ideal_100%'] = (s2['Target'] + s2['Predicted_100%_dis']).astype(float)\n"
   ]
  },
  {
   "cell_type": "code",
   "execution_count": 43,
   "metadata": {},
   "outputs": [],
   "source": [
    "s2.to_csv(\"C:\\\\Users\\\\dell\\\\Desktop\\\\Exp_Dist(WIPRO)\\\\Exp_dist_dataset4_100%_percentage\\\\updated_distnce_ideal_target(WIPRO)_dataset4.csv\")"
   ]
  },
  {
   "cell_type": "code",
   "execution_count": 100,
   "metadata": {},
   "outputs": [],
   "source": [
    "a=pd.read_csv('C:\\\\Users\\\\dell\\\\Desktop\\\\Exp_Distance\\\\Exp_dist_100%_percentage\\\\updated_distnce_ideal_target(BANKNIFTY).csv')"
   ]
  },
  {
   "cell_type": "code",
   "execution_count": 101,
   "metadata": {},
   "outputs": [
    {
     "data": {
      "text/plain": [
       "Index(['Unnamed: 0.1', 'Unnamed: 0', 'Time Stamp', 'Open', 'High', 'Low',\n",
       "       'Close', 'SellersLevel4', 'SellersLevel3', 'SellersLevel2',\n",
       "       'SellersLevel1', 'SellersLevel0', 'BuyersLevel0', 'BuyersLevel1',\n",
       "       'BuyersLevel2', 'BuyersLevel3', 'BuyersLevel4', 'BuyersInControlPrice',\n",
       "       'SellersInControlPrice', 'Entry', 'Defence', 'Stop', 'Target',\n",
       "       'Actual_100%_dis', 'Predicted_100%_dis', 'Predicted_25%_dis',\n",
       "       'Predicted_50%_dis', 'Predicted_75%_dis', 'Actual_Ideal',\n",
       "       'Predicted_Ideal_25%', 'Predicted_Ideal_50%', 'Predicted_Ideal_75%',\n",
       "       'Predicted_Ideal_100%'],\n",
       "      dtype='object')"
      ]
     },
     "execution_count": 101,
     "metadata": {},
     "output_type": "execute_result"
    }
   ],
   "source": [
    "a.columns"
   ]
  },
  {
   "cell_type": "code",
   "execution_count": 102,
   "metadata": {},
   "outputs": [
    {
     "data": {
      "text/plain": [
       "(20231, 33)"
      ]
     },
     "execution_count": 102,
     "metadata": {},
     "output_type": "execute_result"
    }
   ],
   "source": [
    "a.shape"
   ]
  },
  {
   "cell_type": "code",
   "execution_count": 1,
   "metadata": {},
   "outputs": [],
   "source": [
    "import pandas as pd\n",
    "pd.set_option('display.max_columns',40)\n",
    "import os\n",
    "os.chdir(\"C:\\\\Users\\\\dell\\\\Desktop\\\\Non_imputed\\\\Data\")"
   ]
  },
  {
   "cell_type": "code",
   "execution_count": 2,
   "metadata": {},
   "outputs": [
    {
     "data": {
      "text/plain": [
       "['newModeltest_Agressive_data_non_imputed (1).csv']"
      ]
     },
     "execution_count": 2,
     "metadata": {},
     "output_type": "execute_result"
    }
   ],
   "source": [
    "# Path to your data folder in Google Drive\n",
    "data_folder = \"C:\\\\Users\\\\dell\\\\Desktop\\\\Non_imputed\\\\Data\"\n",
    "\n",
    "# List files in the specified folder to confirm access\n",
    "folder_path = os.path.join(data_folder)  # Update 'path_to_your_data_folder' with your actual folder path\n",
    "file_list = os.listdir(folder_path)\n",
    "file_list"
   ]
  },
  {
   "cell_type": "code",
   "execution_count": 3,
   "metadata": {},
   "outputs": [],
   "source": [
    "s = pd.read_csv('newModeltest_Agressive_data_non_imputed (1).csv')"
   ]
  },
  {
   "cell_type": "code",
   "execution_count": 4,
   "metadata": {},
   "outputs": [
    {
     "data": {
      "text/plain": [
       "(85172, 23)"
      ]
     },
     "execution_count": 4,
     "metadata": {},
     "output_type": "execute_result"
    }
   ],
   "source": [
    "s.shape"
   ]
  },
  {
   "cell_type": "code",
   "execution_count": 5,
   "metadata": {},
   "outputs": [
    {
     "data": {
      "text/plain": [
       "Index(['Time Stamp', 'Open', 'High', 'Low', 'Close', 'SellersLevel4',\n",
       "       'SellersLevel3', 'SellersLevel2', 'SellersLevel1', 'SellersLevel0',\n",
       "       'BuyersLevel0', 'BuyersLevel1', 'BuyersLevel2', 'BuyersLevel3',\n",
       "       'BuyersLevel4', 'BuyersInControlPrice', 'SellersInControlPrice',\n",
       "       'Entry', 'Defence', 'Stop', 'Target', 'Actual_100%_dis',\n",
       "       'Predicted_100%_dis'],\n",
       "      dtype='object')"
      ]
     },
     "execution_count": 5,
     "metadata": {},
     "output_type": "execute_result"
    }
   ],
   "source": [
    "s.columns"
   ]
  },
  {
   "cell_type": "code",
   "execution_count": 6,
   "metadata": {},
   "outputs": [
    {
     "data": {
      "text/plain": [
       "22"
      ]
     },
     "execution_count": 6,
     "metadata": {},
     "output_type": "execute_result"
    }
   ],
   "source": [
    "s.duplicated().sum()"
   ]
  },
  {
   "cell_type": "code",
   "execution_count": 7,
   "metadata": {},
   "outputs": [],
   "source": [
    "s.drop_duplicates(inplace=True,keep='first')"
   ]
  },
  {
   "cell_type": "code",
   "execution_count": 8,
   "metadata": {},
   "outputs": [
    {
     "data": {
      "text/plain": [
       "0"
      ]
     },
     "execution_count": 8,
     "metadata": {},
     "output_type": "execute_result"
    }
   ],
   "source": [
    "s.duplicated().sum()"
   ]
  },
  {
   "cell_type": "code",
   "execution_count": 9,
   "metadata": {},
   "outputs": [
    {
     "data": {
      "text/plain": [
       "(85150, 23)"
      ]
     },
     "execution_count": 9,
     "metadata": {},
     "output_type": "execute_result"
    }
   ],
   "source": [
    "s.shape"
   ]
  },
  {
   "cell_type": "code",
   "execution_count": 12,
   "metadata": {},
   "outputs": [
    {
     "name": "stderr",
     "output_type": "stream",
     "text": [
      "C:\\Users\\dell\\AppData\\Local\\Temp\\ipykernel_9428\\1781557659.py:20: FutureWarning: Setting an item of incompatible dtype is deprecated and will raise an error in a future version of pandas. Value '[4625.   4625.   4628.75 ... 5785.5  5785.5  5784.  ]' has dtype incompatible with int64, please explicitly cast to a compatible dtype first.\n",
      "  s2.loc[sellers_condition, 'Actual_Ideal'] = s2['Target'] - s2['Actual_100%_dis']\n",
      "C:\\Users\\dell\\AppData\\Local\\Temp\\ipykernel_9428\\1781557659.py:21: FutureWarning: Setting an item of incompatible dtype is deprecated and will raise an error in a future version of pandas. Value '[4662.275 4768.48  4722.82  ... 6592.37  6592.37  6590.87 ]' has dtype incompatible with int64, please explicitly cast to a compatible dtype first.\n",
      "  s2.loc[sellers_condition, 'Predicted_Ideal'] = s2['Target'] - s2['Predicted_100%_dis']\n"
     ]
    },
    {
     "name": "stdout",
     "output_type": "stream",
     "text": [
      "Saved processed file: C:\\Users\\dell\\Desktop\\Non_imputed\\Non_imputed_100%_calculation\\Processed_100%_newModeltest_Agressive_data_non_imputed (1).csv\n"
     ]
    }
   ],
   "source": [
    "import os\n",
    "import pandas as pd\n",
    "\n",
    "def process_specific_file(input_directory, output_directory, target_filename):\n",
    "    # Ensure the output directory exists\n",
    "    os.makedirs(output_directory, exist_ok=True)\n",
    "\n",
    "    # Define the specific file to process\n",
    "    filepath = os.path.join(input_directory, target_filename)\n",
    "\n",
    "    # Load the DataFrame\n",
    "    s2 = pd.read_csv(filepath)\n",
    "\n",
    "    # Apply calculations based on control prices and entry values\n",
    "    s2['Actual_Ideal'] = 0\n",
    "    s2['Predicted_Ideal'] = 0\n",
    "\n",
    "    # Apply calculations for SellersInControlPrice\n",
    "    sellers_condition = (s2['SellersInControlPrice'] != 0) & (s2['Entry'] != 0)\n",
    "    s2.loc[sellers_condition, 'Actual_Ideal'] = s2['Target'] - s2['Actual_100%_dis']\n",
    "    s2.loc[sellers_condition, 'Predicted_Ideal'] = s2['Target'] - s2['Predicted_100%_dis']\n",
    "\n",
    "    # Apply calculations for BuyersInControlPrice\n",
    "    buyers_condition = (s2['BuyersInControlPrice'] != 0) & (s2['Entry'] != 0)\n",
    "    s2.loc[buyers_condition, 'Actual_Ideal'] = s2['Target'] + s2['Actual_100%_dis']\n",
    "    s2.loc[buyers_condition, 'Predicted_Ideal'] = s2['Target'] + s2['Predicted_100%_dis']\n",
    "\n",
    "    # Save the modified DataFrame to the output directory\n",
    "    output_filepath = os.path.join(output_directory, f'Processed_100%_{target_filename}')\n",
    "    s2.to_csv(output_filepath, index=False)\n",
    "\n",
    "    print(f'Saved processed file: {output_filepath}')\n",
    "\n",
    "# Example usage:\n",
    "\n",
    "output_directory = 'C:\\\\Users\\\\dell\\\\Desktop\\\\Non_imputed\\\\Non_imputed_100%_calculation'\n",
    "target_filename = 'newModeltest_Agressive_data_non_imputed (1).csv'\n",
    "\n",
    "process_specific_file(data_folder, output_directory, target_filename)"
   ]
  },
  {
   "cell_type": "code",
   "execution_count": null,
   "metadata": {},
   "outputs": [],
   "source": []
  }
 ],
 "metadata": {
  "kernelspec": {
   "display_name": "base",
   "language": "python",
   "name": "python3"
  },
  "language_info": {
   "codemirror_mode": {
    "name": "ipython",
    "version": 3
   },
   "file_extension": ".py",
   "mimetype": "text/x-python",
   "name": "python",
   "nbconvert_exporter": "python",
   "pygments_lexer": "ipython3",
   "version": "3.12.4"
  }
 },
 "nbformat": 4,
 "nbformat_minor": 2
}
