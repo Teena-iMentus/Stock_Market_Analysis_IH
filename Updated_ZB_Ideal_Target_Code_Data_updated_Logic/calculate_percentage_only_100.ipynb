{
 "cells": [
  {
   "cell_type": "code",
   "execution_count": 11,
   "metadata": {},
   "outputs": [],
   "source": [
    "import pandas as pd\n",
    "pd.set_option('display.max_columns',40)\n",
    "import os\n",
    "os.chdir(r\"C:\\Users\\dell\\Desktop\\Updated_ZB\\Data\")"
   ]
  },
  {
   "cell_type": "code",
   "execution_count": 12,
   "metadata": {},
   "outputs": [
    {
     "data": {
      "text/plain": [
       "['Updated_ZB_Exp_Dataset3.csv',\n",
       " 'Updated_ZB_Exp_dataset_1.csv',\n",
       " 'Updated_ZB_Exp_dataset_2.csv']"
      ]
     },
     "execution_count": 12,
     "metadata": {},
     "output_type": "execute_result"
    }
   ],
   "source": [
    "# Path to your data folder in Google Drive\n",
    "data_folder = r\"C:\\Users\\dell\\Desktop\\Updated_ZB\\Data\"\n",
    "\n",
    "# List files in the specified folder to confirm access\n",
    "folder_path = os.path.join(data_folder)  # Update 'path_to_your_data_folder' with your actual folder path\n",
    "file_list = os.listdir(folder_path)\n",
    "file_list"
   ]
  },
  {
   "cell_type": "code",
   "execution_count": 21,
   "metadata": {},
   "outputs": [],
   "source": [
    "s = pd.read_csv('Updated_ZB_Exp_Dataset3.csv')"
   ]
  },
  {
   "cell_type": "code",
   "execution_count": 22,
   "metadata": {},
   "outputs": [
    {
     "data": {
      "text/plain": [
       "(4405, 23)"
      ]
     },
     "execution_count": 22,
     "metadata": {},
     "output_type": "execute_result"
    }
   ],
   "source": [
    "s.shape"
   ]
  },
  {
   "cell_type": "code",
   "execution_count": 23,
   "metadata": {},
   "outputs": [
    {
     "data": {
      "text/plain": [
       "Index(['Time Stamp', 'Open', 'High', 'Low', 'Close', 'SellersLevel4',\n",
       "       'SellersLevel3', 'SellersLevel2', 'SellersLevel1', 'SellersLevel0',\n",
       "       'BuyersLevel0', 'BuyersLevel1', 'BuyersLevel2', 'BuyersLevel3',\n",
       "       'BuyersLevel4', 'BuyersInControlPrice', 'SellersInControlPrice',\n",
       "       'Entry', 'Defence', 'Stop', 'Target', 'Actual_100%_dis',\n",
       "       'Predicted_100%_dis'],\n",
       "      dtype='object')"
      ]
     },
     "execution_count": 23,
     "metadata": {},
     "output_type": "execute_result"
    }
   ],
   "source": [
    "s.columns"
   ]
  },
  {
   "cell_type": "code",
   "execution_count": 24,
   "metadata": {},
   "outputs": [
    {
     "data": {
      "text/plain": [
       "155"
      ]
     },
     "execution_count": 24,
     "metadata": {},
     "output_type": "execute_result"
    }
   ],
   "source": [
    "s.duplicated().sum()"
   ]
  },
  {
   "cell_type": "code",
   "execution_count": 25,
   "metadata": {},
   "outputs": [],
   "source": [
    "s.drop_duplicates(inplace=True,keep='first')"
   ]
  },
  {
   "cell_type": "code",
   "execution_count": 26,
   "metadata": {},
   "outputs": [
    {
     "data": {
      "text/plain": [
       "0"
      ]
     },
     "execution_count": 26,
     "metadata": {},
     "output_type": "execute_result"
    }
   ],
   "source": [
    "s.duplicated().sum()"
   ]
  },
  {
   "cell_type": "code",
   "execution_count": 27,
   "metadata": {},
   "outputs": [
    {
     "data": {
      "text/plain": [
       "(4250, 23)"
      ]
     },
     "execution_count": 27,
     "metadata": {},
     "output_type": "execute_result"
    }
   ],
   "source": [
    "s.shape"
   ]
  },
  {
   "cell_type": "code",
   "execution_count": 28,
   "metadata": {},
   "outputs": [
    {
     "name": "stdout",
     "output_type": "stream",
     "text": [
      "Saved processed file: C:\\Users\\dell\\Desktop\\Updated_ZB\\Updated_ZB_dataset3_100%_percentage\\Processed_100%_Updated_ZB_Exp_Dataset3.csv\n"
     ]
    },
    {
     "name": "stderr",
     "output_type": "stream",
     "text": [
      "C:\\Users\\dell\\AppData\\Local\\Temp\\ipykernel_21244\\1682124238.py:20: FutureWarning: Setting an item of incompatible dtype is deprecated and will raise an error in a future version of pandas. Value '[116.23 116.23 119.3  119.3  119.3 ]' has dtype incompatible with int64, please explicitly cast to a compatible dtype first.\n",
      "  s2.loc[sellers_condition, 'Actual_Ideal'] = s2['Target'] + s2['Actual_100%_dis']\n",
      "C:\\Users\\dell\\AppData\\Local\\Temp\\ipykernel_21244\\1682124238.py:21: FutureWarning: Setting an item of incompatible dtype is deprecated and will raise an error in a future version of pandas. Value '[115.9814 115.9614 118.7044 118.459  118.4154]' has dtype incompatible with int64, please explicitly cast to a compatible dtype first.\n",
      "  s2.loc[sellers_condition, 'Predicted_Ideal'] = s2['Target'] + s2['Predicted_100%_dis']\n"
     ]
    }
   ],
   "source": [
    "import os\n",
    "import pandas as pd\n",
    "\n",
    "def process_specific_file(input_directory, output_directory, target_filename):\n",
    "    # Ensure the output directory exists\n",
    "    os.makedirs(output_directory, exist_ok=True)\n",
    "\n",
    "    # Define the specific file to process\n",
    "    filepath = os.path.join(input_directory, target_filename)\n",
    "\n",
    "    # Load the DataFrame\n",
    "    s2 = pd.read_csv(filepath)\n",
    "\n",
    "    # Apply calculations based on control prices and entry values\n",
    "    s2['Actual_Ideal'] = 0\n",
    "    s2['Predicted_Ideal'] = 0\n",
    "\n",
    "    # Apply calculations for SellersInControlPrice\n",
    "    sellers_condition = (s2['SellersInControlPrice'] != 0) & (s2['Entry'] != 0)\n",
    "    s2.loc[sellers_condition, 'Actual_Ideal'] = s2['Target'] + s2['Actual_100%_dis']\n",
    "    s2.loc[sellers_condition, 'Predicted_Ideal'] = s2['Target'] + s2['Predicted_100%_dis']\n",
    "\n",
    "    # Apply calculations for BuyersInControlPrice\n",
    "    buyers_condition = (s2['BuyersInControlPrice'] != 0) & (s2['Entry'] != 0)\n",
    "    s2.loc[buyers_condition, 'Actual_Ideal'] = s2['Target'] + s2['Actual_100%_dis']\n",
    "    s2.loc[buyers_condition, 'Predicted_Ideal'] = s2['Target'] + s2['Predicted_100%_dis']\n",
    "\n",
    "    # Save the modified DataFrame to the output directory\n",
    "    output_filepath = os.path.join(output_directory, f'Processed_100%_{target_filename}')\n",
    "    s2.to_csv(output_filepath, index=False)\n",
    "\n",
    "    print(f'Saved processed file: {output_filepath}')\n",
    "\n",
    "# Example usage:\n",
    "\n",
    "output_directory = r'C:\\Users\\dell\\Desktop\\Updated_ZB\\Updated_ZB_dataset3_100%_percentage'\n",
    "target_filename = 'Updated_ZB_Exp_Dataset3.csv'\n",
    "\n",
    "process_specific_file(data_folder, output_directory, target_filename)"
   ]
  },
  {
   "cell_type": "code",
   "execution_count": 1,
   "metadata": {},
   "outputs": [],
   "source": [
    "import pandas as pd\n",
    "pd.set_option('display.max_columns',40)\n",
    "import os\n",
    "os.chdir(\"C:\\\\Users\\\\dell\\\\Desktop\\\\Non_imputed\\\\Data\")"
   ]
  },
  {
   "cell_type": "code",
   "execution_count": 2,
   "metadata": {},
   "outputs": [
    {
     "data": {
      "text/plain": [
       "['newModeltest_Agressive_data_non_imputed (1).csv']"
      ]
     },
     "execution_count": 2,
     "metadata": {},
     "output_type": "execute_result"
    }
   ],
   "source": [
    "# Path to your data folder in Google Drive\n",
    "data_folder = \"C:\\\\Users\\\\dell\\\\Desktop\\\\Non_imputed\\\\Data\"\n",
    "\n",
    "# List files in the specified folder to confirm access\n",
    "folder_path = os.path.join(data_folder)  # Update 'path_to_your_data_folder' with your actual folder path\n",
    "file_list = os.listdir(folder_path)\n",
    "file_list"
   ]
  },
  {
   "cell_type": "code",
   "execution_count": 3,
   "metadata": {},
   "outputs": [],
   "source": [
    "s = pd.read_csv('newModeltest_Agressive_data_non_imputed (1).csv')"
   ]
  },
  {
   "cell_type": "code",
   "execution_count": 4,
   "metadata": {},
   "outputs": [
    {
     "data": {
      "text/plain": [
       "(85172, 23)"
      ]
     },
     "execution_count": 4,
     "metadata": {},
     "output_type": "execute_result"
    }
   ],
   "source": [
    "s.shape"
   ]
  },
  {
   "cell_type": "code",
   "execution_count": 5,
   "metadata": {},
   "outputs": [
    {
     "data": {
      "text/plain": [
       "Index(['Time Stamp', 'Open', 'High', 'Low', 'Close', 'SellersLevel4',\n",
       "       'SellersLevel3', 'SellersLevel2', 'SellersLevel1', 'SellersLevel0',\n",
       "       'BuyersLevel0', 'BuyersLevel1', 'BuyersLevel2', 'BuyersLevel3',\n",
       "       'BuyersLevel4', 'BuyersInControlPrice', 'SellersInControlPrice',\n",
       "       'Entry', 'Defence', 'Stop', 'Target', 'Actual_100%_dis',\n",
       "       'Predicted_100%_dis'],\n",
       "      dtype='object')"
      ]
     },
     "execution_count": 5,
     "metadata": {},
     "output_type": "execute_result"
    }
   ],
   "source": [
    "s.columns"
   ]
  },
  {
   "cell_type": "code",
   "execution_count": 6,
   "metadata": {},
   "outputs": [
    {
     "data": {
      "text/plain": [
       "22"
      ]
     },
     "execution_count": 6,
     "metadata": {},
     "output_type": "execute_result"
    }
   ],
   "source": [
    "s.duplicated().sum()"
   ]
  },
  {
   "cell_type": "code",
   "execution_count": 7,
   "metadata": {},
   "outputs": [],
   "source": [
    "s.drop_duplicates(inplace=True,keep='first')"
   ]
  },
  {
   "cell_type": "code",
   "execution_count": 8,
   "metadata": {},
   "outputs": [
    {
     "data": {
      "text/plain": [
       "0"
      ]
     },
     "execution_count": 8,
     "metadata": {},
     "output_type": "execute_result"
    }
   ],
   "source": [
    "s.duplicated().sum()"
   ]
  },
  {
   "cell_type": "code",
   "execution_count": 9,
   "metadata": {},
   "outputs": [
    {
     "data": {
      "text/plain": [
       "(85150, 23)"
      ]
     },
     "execution_count": 9,
     "metadata": {},
     "output_type": "execute_result"
    }
   ],
   "source": [
    "s.shape"
   ]
  },
  {
   "cell_type": "code",
   "execution_count": 12,
   "metadata": {},
   "outputs": [
    {
     "name": "stderr",
     "output_type": "stream",
     "text": [
      "C:\\Users\\dell\\AppData\\Local\\Temp\\ipykernel_9428\\1781557659.py:20: FutureWarning: Setting an item of incompatible dtype is deprecated and will raise an error in a future version of pandas. Value '[4625.   4625.   4628.75 ... 5785.5  5785.5  5784.  ]' has dtype incompatible with int64, please explicitly cast to a compatible dtype first.\n",
      "  s2.loc[sellers_condition, 'Actual_Ideal'] = s2['Target'] - s2['Actual_100%_dis']\n",
      "C:\\Users\\dell\\AppData\\Local\\Temp\\ipykernel_9428\\1781557659.py:21: FutureWarning: Setting an item of incompatible dtype is deprecated and will raise an error in a future version of pandas. Value '[4662.275 4768.48  4722.82  ... 6592.37  6592.37  6590.87 ]' has dtype incompatible with int64, please explicitly cast to a compatible dtype first.\n",
      "  s2.loc[sellers_condition, 'Predicted_Ideal'] = s2['Target'] - s2['Predicted_100%_dis']\n"
     ]
    },
    {
     "name": "stdout",
     "output_type": "stream",
     "text": [
      "Saved processed file: C:\\Users\\dell\\Desktop\\Non_imputed\\Non_imputed_100%_calculation\\Processed_100%_newModeltest_Agressive_data_non_imputed (1).csv\n"
     ]
    }
   ],
   "source": [
    "import os\n",
    "import pandas as pd\n",
    "\n",
    "def process_specific_file(input_directory, output_directory, target_filename):\n",
    "    # Ensure the output directory exists\n",
    "    os.makedirs(output_directory, exist_ok=True)\n",
    "\n",
    "    # Define the specific file to process\n",
    "    filepath = os.path.join(input_directory, target_filename)\n",
    "\n",
    "    # Load the DataFrame\n",
    "    s2 = pd.read_csv(filepath)\n",
    "\n",
    "    # Apply calculations based on control prices and entry values\n",
    "    s2['Actual_Ideal'] = 0\n",
    "    s2['Predicted_Ideal'] = 0\n",
    "\n",
    "    # Apply calculations for SellersInControlPrice\n",
    "    sellers_condition = (s2['SellersInControlPrice'] != 0) & (s2['Entry'] != 0)\n",
    "    s2.loc[sellers_condition, 'Actual_Ideal'] = s2['Target'] - s2['Actual_100%_dis']\n",
    "    s2.loc[sellers_condition, 'Predicted_Ideal'] = s2['Target'] - s2['Predicted_100%_dis']\n",
    "\n",
    "    # Apply calculations for BuyersInControlPrice\n",
    "    buyers_condition = (s2['BuyersInControlPrice'] != 0) & (s2['Entry'] != 0)\n",
    "    s2.loc[buyers_condition, 'Actual_Ideal'] = s2['Target'] + s2['Actual_100%_dis']\n",
    "    s2.loc[buyers_condition, 'Predicted_Ideal'] = s2['Target'] + s2['Predicted_100%_dis']\n",
    "\n",
    "    # Save the modified DataFrame to the output directory\n",
    "    output_filepath = os.path.join(output_directory, f'Processed_100%_{target_filename}')\n",
    "    s2.to_csv(output_filepath, index=False)\n",
    "\n",
    "    print(f'Saved processed file: {output_filepath}')\n",
    "\n",
    "# Example usage:\n",
    "\n",
    "output_directory = 'C:\\\\Users\\\\dell\\\\Desktop\\\\Non_imputed\\\\Non_imputed_100%_calculation'\n",
    "target_filename = 'newModeltest_Agressive_data_non_imputed (1).csv'\n",
    "\n",
    "process_specific_file(data_folder, output_directory, target_filename)"
   ]
  },
  {
   "cell_type": "code",
   "execution_count": null,
   "metadata": {},
   "outputs": [],
   "source": []
  }
 ],
 "metadata": {
  "kernelspec": {
   "display_name": "base",
   "language": "python",
   "name": "python3"
  },
  "language_info": {
   "codemirror_mode": {
    "name": "ipython",
    "version": 3
   },
   "file_extension": ".py",
   "mimetype": "text/x-python",
   "name": "python",
   "nbconvert_exporter": "python",
   "pygments_lexer": "ipython3",
   "version": "3.12.4"
  }
 },
 "nbformat": 4,
 "nbformat_minor": 2
}
