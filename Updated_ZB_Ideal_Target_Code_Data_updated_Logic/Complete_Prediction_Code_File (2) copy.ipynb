{
 "cells": [
  {
   "cell_type": "code",
   "execution_count": 81,
   "metadata": {
    "executionInfo": {
     "elapsed": 4,
     "status": "ok",
     "timestamp": 1724219644548,
     "user": {
      "displayName": "Teena Agrawal",
      "userId": "03827538251341852901"
     },
     "user_tz": -330
    },
    "id": "kMo8eFUUVKMb"
   },
   "outputs": [],
   "source": [
    "\n",
    "\n",
    "\n",
    "\n",
    "import pandas as pd\n",
    "pd.set_option('display.max_columns',40)\n",
    "import os\n",
    "os.chdir(r\"C:\\Users\\dell\\Desktop\\Updated_ZB\\Updated_ZB_dataset1_100%_profit\")"
   ]
  },
  {
   "cell_type": "code",
   "execution_count": 82,
   "metadata": {
    "colab": {
     "base_uri": "https://localhost:8080/"
    },
    "executionInfo": {
     "elapsed": 3,
     "status": "ok",
     "timestamp": 1724219644548,
     "user": {
      "displayName": "Teena Agrawal",
      "userId": "03827538251341852901"
     },
     "user_tz": -330
    },
    "id": "eNIayWmVVKPW",
    "outputId": "8deb8760-ac73-43b8-9ef6-5e3003f5724c"
   },
   "outputs": [
    {
     "data": {
      "text/plain": [
       "['processed_100%_ideal_profit.csv']"
      ]
     },
     "execution_count": 82,
     "metadata": {},
     "output_type": "execute_result"
    }
   ],
   "source": [
    "# Path to your data folder in Google Drive\n",
    "data_folder = r\"C:\\Users\\dell\\Desktop\\Updated_ZB\\Updated_ZB_dataset1_100%_profit\"\n",
    "# List files in the specified folder to confirm access\n",
    "folder_path = os.path.join(data_folder)  # Update 'path_to_your_data_folder' with your actual folder path\n",
    "file_list = os.listdir(folder_path)\n",
    "file_list"
   ]
  },
  {
   "cell_type": "code",
   "execution_count": 83,
   "metadata": {},
   "outputs": [],
   "source": [
    "s = pd.read_csv('processed_100%_ideal_profit.csv')"
   ]
  },
  {
   "cell_type": "code",
   "execution_count": 84,
   "metadata": {},
   "outputs": [],
   "source": [
    "s.reset_index(drop=True,inplace=True)"
   ]
  },
  {
   "cell_type": "code",
   "execution_count": 39,
   "metadata": {},
   "outputs": [],
   "source": [
    "# s = pd.read_csv('Processed_5%_RF_5%_results (2).csv')\n",
    "# s1 = pd.read_csv('Processed_10%_RF_10%_results (2).csv')\n",
    "# s2 = pd.read_csv('Processed_20%_RF_20%_results (2).csv')\n",
    "# s3 = pd.read_csv('Processed_50%_RF_50%_results (2).csv')\n",
    "# s4 = pd.read_csv('Processed_80%_RF_80%_results (2).csv')\n",
    "# s5 = pd.read_csv('Processed_100%_RF_100%_results (3).csv')\n",
    "\n",
    "# print(s.duplicated().sum())\n",
    "# print(s1.duplicated().sum())\n",
    "# print(s2.duplicated().sum())\n",
    "# print(s3.duplicated().sum())\n",
    "# print(s4.duplicated().sum())\n",
    "# print(s5.duplicated().sum())\n"
   ]
  },
  {
   "cell_type": "code",
   "execution_count": 162,
   "metadata": {},
   "outputs": [
    {
     "data": {
      "text/plain": [
       "Index(['Time Stamp', 'Open', 'High', 'Low', 'Close', 'SellersLevel4',\n",
       "       'SellersLevel3', 'SellersLevel2', 'SellersLevel1', 'SellersLevel0',\n",
       "       'BuyersLevel0', 'BuyersLevel1', 'BuyersLevel2', 'BuyersLevel3',\n",
       "       'BuyersLevel4', 'BuyersInControlPrice', 'SellersInControlPrice',\n",
       "       'Entry', 'Defence', 'Stop', 'Target', 'Actual_100%_dis',\n",
       "       'Predicted_100%_dis', 'Actual_Ideal', 'Predicted_Ideal', 'Profit',\n",
       "       'Actual_ideal_profit'],\n",
       "      dtype='object')"
      ]
     },
     "execution_count": 162,
     "metadata": {},
     "output_type": "execute_result"
    }
   ],
   "source": [
    "s.columns"
   ]
  },
  {
   "cell_type": "code",
   "execution_count": 93,
   "metadata": {},
   "outputs": [
    {
     "data": {
      "text/plain": [
       "(65462, 27)"
      ]
     },
     "execution_count": 93,
     "metadata": {},
     "output_type": "execute_result"
    }
   ],
   "source": [
    "s.shape"
   ]
  },
  {
   "cell_type": "code",
   "execution_count": 94,
   "metadata": {},
   "outputs": [
    {
     "data": {
      "text/plain": [
       "39"
      ]
     },
     "execution_count": 94,
     "metadata": {},
     "output_type": "execute_result"
    }
   ],
   "source": [
    "s.duplicated().sum()"
   ]
  },
  {
   "cell_type": "code",
   "execution_count": 52,
   "metadata": {},
   "outputs": [],
   "source": [
    "s.drop_duplicates(inplace=True)"
   ]
  },
  {
   "cell_type": "code",
   "execution_count": 53,
   "metadata": {},
   "outputs": [
    {
     "data": {
      "text/plain": [
       "0"
      ]
     },
     "execution_count": 53,
     "metadata": {},
     "output_type": "execute_result"
    }
   ],
   "source": [
    "s.duplicated().sum()"
   ]
  },
  {
   "cell_type": "markdown",
   "metadata": {},
   "source": [
    "For 100% with less than equal to condition\n"
   ]
  },
  {
   "cell_type": "code",
   "execution_count": 85,
   "metadata": {},
   "outputs": [],
   "source": [
    "import os\n",
    "import pandas as pd\n",
    "from tqdm import tqdm\n",
    "\n",
    "def apply_trading_logic(df, target_col, percent):\n",
    "    # Initialize new columns with 0 and add timestamp columns\n",
    "    df[f'PIT_Profit_{percent}'] = 0\n",
    "    df[f'PIT_D_Profit_{percent}'] = 0\n",
    "    df[f'PIT_Loss_{percent}'] = 0\n",
    "    df[f'PIT_Target_Buyer_{percent}'] = 0\n",
    "    df[f'PIT_Defence_Target_Buyer_{percent}'] = 0\n",
    "    df[f'PIT_Target_Seller_{percent}'] = 0\n",
    "    df[f'PIT_Defence_Target_Seller_{percent}'] = 0\n",
    "    df[f'PIT_Defence_Target_{percent}'] = 0\n",
    "    df[f'PIT_Aggresive_Target_{percent}'] = 0\n",
    "\n",
    "    # Add timestamp columns\n",
    "    df[f'PIT_Profit_Timestamp_{percent}'] = ''\n",
    "    df[f'PIT_D_Profit_Timestamp_{percent}'] = ''\n",
    "    df[f'PIT_Loss_Timestamp_{percent}'] = ''\n",
    "\n",
    "    print(f\"Initialized columns for percent {percent}\")\n",
    "\n",
    "    # Iterate over each row with tqdm for progress tracking\n",
    "    for i in tqdm(range(len(df))):\n",
    "        if i + 1 >= len(df):  # Skip processing for the last row(s) that cannot slice\n",
    "            break\n",
    "\n",
    "        row = df.iloc[i]\n",
    "\n",
    "        # Entry Value Check\n",
    "        if row['Entry'] != 0:\n",
    "            entry = row['Entry']\n",
    "            defence = row['Defence']\n",
    "\n",
    "            # Buyers Logic\n",
    "            if row['BuyersInControlPrice'] != 0:\n",
    "               # print(f\"Buyers In Control Logic Triggered for index {i}\")\n",
    "\n",
    "                # Defence Check\n",
    "                low_future_rows = df.iloc[i+1:][['Low', 'Time Stamp']]\n",
    "\n",
    "                if not low_future_rows.empty:\n",
    "                    matched_low_index = low_future_rows[low_future_rows['Low'] <= defence].index\n",
    "\n",
    "                    if not matched_low_index.empty:\n",
    "                        matched_low_index = matched_low_index[0]  # First occurrence\n",
    "                        max_high = df.loc[i:matched_low_index, 'High'].max()\n",
    "                        max_high_rows = df.loc[df['High'] == max_high]\n",
    "\n",
    "                        if not max_high_rows.empty:\n",
    "                            max_high_timestamp = max_high_rows['Time Stamp'].values[0]\n",
    "                        else:\n",
    "                            max_high_timestamp = ''  # Default value if no max_high found\n",
    "\n",
    "                        max_close = df.loc[i:matched_low_index, 'Close'].max()\n",
    "\n",
    "                        df.loc[i, f'PIT_Target_Buyer_{percent}'] = max_close\n",
    "                        df.loc[i, f'PIT_Aggresive_Target_{percent}'] = max_high\n",
    "\n",
    "                        # Target_Predicted_X_dis vs. Max High Value Comparison\n",
    "                        if row[target_col] <= max_high:\n",
    "                            df.loc[i, f'PIT_Profit_{percent}'] = abs(round((row[target_col] - entry), 2))\n",
    "                            df.loc[i, f'PIT_Profit_Timestamp_{percent}'] = max_high_timestamp\n",
    "                        else:\n",
    "                            stop = row['Stop']\n",
    "                            if stop != 0:\n",
    "                                df.loc[i, f'PIT_Defence_Target_Buyer_{percent}'] = ((entry + defence) / 2) + 0.25\n",
    "\n",
    "                                matched_stop_index = low_future_rows[low_future_rows['Low'] <= stop].index\n",
    "\n",
    "                                if not matched_stop_index.empty:\n",
    "                                    matched_stop_index = matched_stop_index[0]  # First occurrence\n",
    "                                    max_high_stop = df.loc[i:matched_stop_index, 'High'].max()\n",
    "                                    max_high_stop_rows = df.loc[df['High'] <= max_high_stop]\n",
    "\n",
    "                                    if not max_high_stop_rows.empty:\n",
    "                                        max_high_stop_timestamp = max_high_stop_rows['Time Stamp'].values[0]\n",
    "                                    else:\n",
    "                                        max_high_stop_timestamp = ''  # Default value if no max_high_stop found\n",
    "\n",
    "                                    # Defence Target vs. Max High Value Comparison\n",
    "                                    if df.loc[i, f'PIT_Defence_Target_Buyer_{percent}'] <= max_high_stop:\n",
    "                                        df.loc[i, f'PIT_D_Profit_{percent}'] = abs(df.loc[i, f'PIT_Defence_Target_Buyer_{percent}'] - entry)\n",
    "                                        df.loc[i, f'PIT_D_Profit_Timestamp_{percent}'] = max_high_stop_timestamp\n",
    "                                    else:\n",
    "                                        df.loc[i, f'PIT_Loss_{percent}'] = abs(df.loc[i, f'PIT_Defence_Target_Buyer_{percent}'] - entry)\n",
    "                                        df.loc[i, f'PIT_Loss_Timestamp_{percent}'] = max_high_stop_timestamp\n",
    "\n",
    "            # Sellers Logic\n",
    "            if row['SellersInControlPrice'] != 0:\n",
    "                #print(f\"Sellers In Control Logic Triggered for index {i}\")\n",
    "\n",
    "                # Defence Check\n",
    "                high_future_rows = df.iloc[i+1:][['High', 'Time Stamp']]\n",
    "\n",
    "                if not high_future_rows.empty:\n",
    "                    matched_high_index = high_future_rows[high_future_rows['High'] >= defence].index\n",
    "\n",
    "                    if not matched_high_index.empty:\n",
    "                        matched_high_index = matched_high_index[0]  # First occurrence\n",
    "                        min_low = df.loc[i:matched_high_index, 'Low'].min()\n",
    "                        min_low_rows = df.loc[df['Low'] == min_low]\n",
    "\n",
    "                        if not min_low_rows.empty:\n",
    "                            min_low_timestamp = min_low_rows['Time Stamp'].values[0]\n",
    "                        else:\n",
    "                            min_low_timestamp = ''  # Default value if no min_low found\n",
    "\n",
    "                        min_close = df.loc[i:matched_high_index, 'Close'].min()\n",
    "\n",
    "                        df.loc[i, f'PIT_Target_Seller_{percent}'] = min_close\n",
    "                        df.loc[i, f'PIT_Aggresive_Target_{percent}'] = min_low\n",
    "\n",
    "                        # Target_Predicted_X_dis vs. Min Low Value Comparison\n",
    "                        if row[target_col] >= min_low:\n",
    "                            df.loc[i, f'PIT_Profit_{percent}'] = abs(round((entry - row[target_col]), 2))\n",
    "                            df.loc[i, f'PIT_Profit_Timestamp_{percent}'] = min_low_timestamp\n",
    "                        else:\n",
    "                            stop = row['Stop']\n",
    "                            if stop != 0:\n",
    "                                df.loc[i, f'PIT_Defence_Target_Seller_{percent}'] = ((entry + defence) / 2) - 0.25\n",
    "\n",
    "                                matched_stop_index = high_future_rows[high_future_rows['High'] >= stop].index\n",
    "\n",
    "                                if not matched_stop_index.empty:\n",
    "                                    matched_stop_index = matched_stop_index[0]  # First occurrence\n",
    "                                    min_low_stop = df.loc[i:matched_stop_index, 'Low'].min()\n",
    "                                    min_low_stop_rows = df.loc[df['Low'] == min_low_stop]\n",
    "\n",
    "                                    if not min_low_stop_rows.empty:\n",
    "                                        min_low_stop_timestamp = min_low_stop_rows['Time Stamp'].values[0]\n",
    "                                    else:\n",
    "                                        min_low_stop_timestamp = ''  # Default value if no min_low_stop found\n",
    "\n",
    "                                    # Defence Target vs. Min Low Value Comparison\n",
    "                                    if df.loc[i, f'PIT_Defence_Target_Seller_{percent}'] >= min_low_stop:\n",
    "                                        df.loc[i, f'PIT_D_Profit_{percent}'] = abs(entry - df.loc[i, f'PIT_Defence_Target_Seller_{percent}'])\n",
    "                                        df.loc[i, f'PIT_D_Profit_Timestamp_{percent}'] = min_low_stop_timestamp\n",
    "                                    else:\n",
    "                                        df.loc[i, f'PIT_Loss_{percent}'] = abs(df.loc[i, f'PIT_Defence_Target_Seller_{percent}'] - entry)\n",
    "                                        df.loc[i, f'PIT_Loss_Timestamp_{percent}'] = min_low_stop_timestamp\n",
    "\n",
    "        # Additional Calculations\n",
    "        df.loc[i, f'PIT_Ideal_Target_{percent}'] = df.loc[i, f'PIT_Target_Buyer_{percent}'] + df.loc[i, f'PIT_Target_Seller_{percent}']\n",
    "        df.loc[i, f'PIT_Defence_Target_{percent}'] = df.loc[i, f'PIT_Defence_Target_Buyer_{percent}'] + df.loc[i, f'PIT_Defence_Target_Seller_{percent}']\n",
    "        \n",
    "\n",
    "    # Save the updated dataframe to a CSV file\n",
    "    output_file = r'C:\\Users\\dell\\Desktop\\Updated_ZB\\Updated_ZB_dataset1_100%_prediction\\trading_output_updated_ZB(1)_abs.csv'  # Define the file path where you want to save the CSV\n",
    "    df.to_csv(output_file, index=False)\n",
    "    print(f\"Output saved to {output_file}\")\n"
   ]
  },
  {
   "cell_type": "code",
   "execution_count": 86,
   "metadata": {},
   "outputs": [
    {
     "name": "stdout",
     "output_type": "stream",
     "text": [
      "Initialized columns for percent 100\n"
     ]
    },
    {
     "name": "stderr",
     "output_type": "stream",
     "text": [
      "  0%|          | 137/54768 [00:00<01:16, 713.43it/s]C:\\Users\\dell\\AppData\\Local\\Temp\\ipykernel_20676\\440174971.py:58: FutureWarning: Setting an item of incompatible dtype is deprecated and will raise an error in a future version of pandas. Value '112.31' has dtype incompatible with int64, please explicitly cast to a compatible dtype first.\n",
      "  df.loc[i, f'PIT_Target_Buyer_{percent}'] = max_close\n",
      "C:\\Users\\dell\\AppData\\Local\\Temp\\ipykernel_20676\\440174971.py:59: FutureWarning: Setting an item of incompatible dtype is deprecated and will raise an error in a future version of pandas. Value '113.01' has dtype incompatible with int64, please explicitly cast to a compatible dtype first.\n",
      "  df.loc[i, f'PIT_Aggresive_Target_{percent}'] = max_high\n",
      "C:\\Users\\dell\\AppData\\Local\\Temp\\ipykernel_20676\\440174971.py:63: FutureWarning: Setting an item of incompatible dtype is deprecated and will raise an error in a future version of pandas. Value '0.68' has dtype incompatible with int64, please explicitly cast to a compatible dtype first.\n",
      "  df.loc[i, f'PIT_Profit_{percent}'] = abs(round((row[target_col] - entry), 2))\n",
      "  1%|          | 492/54768 [00:00<01:11, 763.17it/s]C:\\Users\\dell\\AppData\\Local\\Temp\\ipykernel_20676\\440174971.py:112: FutureWarning: Setting an item of incompatible dtype is deprecated and will raise an error in a future version of pandas. Value '111.28' has dtype incompatible with int64, please explicitly cast to a compatible dtype first.\n",
      "  df.loc[i, f'PIT_Target_Seller_{percent}'] = min_close\n",
      "C:\\Users\\dell\\AppData\\Local\\Temp\\ipykernel_20676\\440174971.py:122: FutureWarning: Setting an item of incompatible dtype is deprecated and will raise an error in a future version of pandas. Value '111.78' has dtype incompatible with int64, please explicitly cast to a compatible dtype first.\n",
      "  df.loc[i, f'PIT_Defence_Target_Seller_{percent}'] = ((entry + defence) / 2) - 0.25\n",
      "C:\\Users\\dell\\AppData\\Local\\Temp\\ipykernel_20676\\440174971.py:138: FutureWarning: Setting an item of incompatible dtype is deprecated and will raise an error in a future version of pandas. Value '0.23000000000000398' has dtype incompatible with int64, please explicitly cast to a compatible dtype first.\n",
      "  df.loc[i, f'PIT_D_Profit_{percent}'] = abs(entry - df.loc[i, f'PIT_Defence_Target_Seller_{percent}'])\n",
      "C:\\Users\\dell\\AppData\\Local\\Temp\\ipykernel_20676\\440174971.py:146: FutureWarning: Setting an item of incompatible dtype is deprecated and will raise an error in a future version of pandas. Value '111.78' has dtype incompatible with int64, please explicitly cast to a compatible dtype first.\n",
      "  df.loc[i, f'PIT_Defence_Target_{percent}'] = df.loc[i, f'PIT_Defence_Target_Buyer_{percent}'] + df.loc[i, f'PIT_Defence_Target_Seller_{percent}']\n",
      "C:\\Users\\dell\\AppData\\Local\\Temp\\ipykernel_20676\\440174971.py:68: FutureWarning: Setting an item of incompatible dtype is deprecated and will raise an error in a future version of pandas. Value '111.545' has dtype incompatible with int64, please explicitly cast to a compatible dtype first.\n",
      "  df.loc[i, f'PIT_Defence_Target_Buyer_{percent}'] = ((entry + defence) / 2) + 0.25\n",
      "C:\\Users\\dell\\AppData\\Local\\Temp\\ipykernel_20676\\440174971.py:87: FutureWarning: Setting an item of incompatible dtype is deprecated and will raise an error in a future version of pandas. Value '0.24500000000000455' has dtype incompatible with int64, please explicitly cast to a compatible dtype first.\n",
      "  df.loc[i, f'PIT_Loss_{percent}'] = abs(df.loc[i, f'PIT_Defence_Target_Buyer_{percent}'] - entry)\n",
      "100%|█████████▉| 54767/54768 [01:00<00:00, 905.68it/s] \n"
     ]
    },
    {
     "name": "stdout",
     "output_type": "stream",
     "text": [
      "Output saved to C:\\Users\\dell\\Desktop\\Updated_ZB\\Updated_ZB_dataset1_100%_prediction\\trading_output_updated_ZB(1)_abs.csv\n"
     ]
    }
   ],
   "source": [
    "d=apply_trading_logic(s,'Predicted_Ideal','100')"
   ]
  },
  {
   "cell_type": "code",
   "execution_count": 87,
   "metadata": {},
   "outputs": [
    {
     "name": "stderr",
     "output_type": "stream",
     "text": [
      "C:\\Users\\dell\\AppData\\Local\\Temp\\ipykernel_20676\\1279787504.py:1: DtypeWarning: Columns (38) have mixed types. Specify dtype option on import or set low_memory=False.\n",
      "  data=pd.read_csv(r'C:\\Users\\dell\\Desktop\\Updated_ZB\\Updated_ZB_dataset1_100%_prediction\\trading_output_updated_ZB(1)_abs.csv')\n"
     ]
    }
   ],
   "source": [
    "data=pd.read_csv(r'C:\\Users\\dell\\Desktop\\Updated_ZB\\Updated_ZB_dataset1_100%_prediction\\trading_output_updated_ZB(1)_abs.csv')"
   ]
  },
  {
   "cell_type": "code",
   "execution_count": 88,
   "metadata": {},
   "outputs": [
    {
     "data": {
      "text/plain": [
       "Index(['Time Stamp', 'Open', 'High', 'Low', 'Close', 'SellersLevel4',\n",
       "       'SellersLevel3', 'SellersLevel2', 'SellersLevel1', 'SellersLevel0',\n",
       "       'BuyersLevel0', 'BuyersLevel1', 'BuyersLevel2', 'BuyersLevel3',\n",
       "       'BuyersLevel4', 'BuyersInControlPrice', 'SellersInControlPrice',\n",
       "       'Entry', 'Defence', 'Stop', 'Target', 'Actual_100%_dis',\n",
       "       'Predicted_100%_dis', 'Actual_Ideal', 'Predicted_Ideal', 'Profit',\n",
       "       'Actual_ideal_profit', 'PIT_Profit_100', 'PIT_D_Profit_100',\n",
       "       'PIT_Loss_100', 'PIT_Target_Buyer_100', 'PIT_Defence_Target_Buyer_100',\n",
       "       'PIT_Target_Seller_100', 'PIT_Defence_Target_Seller_100',\n",
       "       'PIT_Defence_Target_100', 'PIT_Aggresive_Target_100',\n",
       "       'PIT_Profit_Timestamp_100', 'PIT_D_Profit_Timestamp_100',\n",
       "       'PIT_Loss_Timestamp_100', 'PIT_Ideal_Target_100'],\n",
       "      dtype='object')"
      ]
     },
     "execution_count": 88,
     "metadata": {},
     "output_type": "execute_result"
    }
   ],
   "source": [
    "data.columns"
   ]
  },
  {
   "cell_type": "code",
   "execution_count": 89,
   "metadata": {},
   "outputs": [],
   "source": [
    "data.drop(columns=['PIT_Aggresive_Target_100','PIT_Target_Buyer_100','PIT_Defence_Target_Buyer_100','PIT_Target_Seller_100','PIT_Defence_Target_Seller_100','PIT_Ideal_Target_100'],inplace=True,axis=1)"
   ]
  },
  {
   "cell_type": "code",
   "execution_count": 90,
   "metadata": {},
   "outputs": [
    {
     "data": {
      "text/plain": [
       "Index(['Time Stamp', 'Open', 'High', 'Low', 'Close', 'SellersLevel4',\n",
       "       'SellersLevel3', 'SellersLevel2', 'SellersLevel1', 'SellersLevel0',\n",
       "       'BuyersLevel0', 'BuyersLevel1', 'BuyersLevel2', 'BuyersLevel3',\n",
       "       'BuyersLevel4', 'BuyersInControlPrice', 'SellersInControlPrice',\n",
       "       'Entry', 'Defence', 'Stop', 'Target', 'Actual_100%_dis',\n",
       "       'Predicted_100%_dis', 'Actual_Ideal', 'Predicted_Ideal', 'Profit',\n",
       "       'Actual_ideal_profit', 'PIT_Profit_100', 'PIT_D_Profit_100',\n",
       "       'PIT_Loss_100', 'PIT_Defence_Target_100', 'PIT_Profit_Timestamp_100',\n",
       "       'PIT_D_Profit_Timestamp_100', 'PIT_Loss_Timestamp_100'],\n",
       "      dtype='object')"
      ]
     },
     "execution_count": 90,
     "metadata": {},
     "output_type": "execute_result"
    }
   ],
   "source": [
    "data.columns"
   ]
  },
  {
   "cell_type": "code",
   "execution_count": 91,
   "metadata": {
    "id": "h-ZjPPzkZm0z"
   },
   "outputs": [],
   "source": [
    "import pandas as pd\n",
    "from tqdm import tqdm\n",
    "\n",
    "def apply_trading_logic(df):\n",
    "    # Initialize the new columns with 0\n",
    "    df['T_Profit'] = 0\n",
    "    df['D_Profit'] = 0\n",
    "    df['Loss'] = 0\n",
    "    df['Ideal_Target_Buyer'] = 0\n",
    "    df['Defence_Target_Buyer'] = 0\n",
    "    df['Ideal_Target_Seller'] = 0\n",
    "    df['Defence_Target_Seller'] = 0\n",
    "\n",
    "    # Initialize mismatch counters\n",
    "    buyers_mismatch_count = 0\n",
    "    sellers_mismatch_count = 0\n",
    "    buyers_stop_mismatch_count = 0\n",
    "    sellers_stop_mismatch_count = 0\n",
    "\n",
    "    # Iterate over each row with tqdm for progress tracking\n",
    "    for i in tqdm(range(len(df))):\n",
    "        row = df.iloc[i]\n",
    "\n",
    "        # Entry Value Check\n",
    "        if row['Entry'] != 0:\n",
    "            entry = row['Entry']\n",
    "            defence = row['Defence']\n",
    "\n",
    "            # Buyers Logic\n",
    "            if row['BuyersInControlPrice'] != 0:\n",
    "                # Defence Check with <= condition\n",
    "                low_future_rows = df.iloc[i+1:]['Low']\n",
    "                matched_low_index = low_future_rows[low_future_rows <= defence].index\n",
    "                if not matched_low_index.empty:\n",
    "                    matched_low_index = matched_low_index[0]\n",
    "                    max_high = df.loc[i:matched_low_index, 'High'].max()\n",
    "                    max_close = df.loc[i:matched_low_index, 'Close'].max()\n",
    "\n",
    "                    df.loc[i, 'Ideal_Target_Buyer'] = max_close\n",
    "\n",
    "                    # Target vs. Max High Value Comparison\n",
    "                    if row['Target'] <= max_high:\n",
    "                        df.loc[i, 'T_Profit'] = abs(row['Target'] - entry)\n",
    "                    else:\n",
    "                        stop = row['Stop']\n",
    "                        if stop != 0:\n",
    "                            df.loc[i, 'Defence_Target_Buyer'] = ((entry + defence) / 2) + 0.25\n",
    "                            matched_stop_index = low_future_rows[low_future_rows <= stop].index\n",
    "                            if not matched_stop_index.empty:\n",
    "                                matched_stop_index = matched_stop_index[0]\n",
    "                                max_high_stop = df.loc[i:matched_stop_index, 'High'].max()\n",
    "\n",
    "                                # Defence Target vs. Max High Value Comparison\n",
    "                                if df.loc[i, 'Defence_Target_Buyer'] <= max_high_stop:\n",
    "                                    df.loc[i, 'D_Profit'] = abs(df.loc[i, 'Defence_Target_Buyer'] - entry)\n",
    "                                else:\n",
    "                                    df.loc[i, 'Loss'] = abs(df.loc[i, 'Defence_Target_Buyer'] - entry)\n",
    "                            else:\n",
    "                                buyers_stop_mismatch_count += 1\n",
    "                else:\n",
    "                    buyers_mismatch_count += 1\n",
    "\n",
    "            # Sellers Logic\n",
    "            if row['SellersInControlPrice'] != 0:\n",
    "                # Defence Check with >= condition\n",
    "                high_future_rows = df.iloc[i+1:]['High']\n",
    "                matched_high_index = high_future_rows[high_future_rows >= defence].index\n",
    "                if not matched_high_index.empty:\n",
    "                    matched_high_index = matched_high_index[0]\n",
    "                    min_low = df.loc[i:matched_high_index, 'Low'].min()\n",
    "                    min_close = df.loc[i:matched_high_index, 'Close'].min()\n",
    "\n",
    "                    df.loc[i, 'Ideal_Target_Seller'] = min_close\n",
    "\n",
    "                    # Target vs. Min Low Value Comparison\n",
    "                    if row['Target'] >= min_low:\n",
    "                        df.loc[i, 'T_Profit'] = abs(entry - row['Target'])\n",
    "                    else:\n",
    "                        stop = row['Stop']\n",
    "                        if stop != 0:\n",
    "                            df.loc[i, 'Defence_Target_Seller'] = ((entry + defence) / 2) - 0.25\n",
    "                            matched_stop_index = high_future_rows[high_future_rows >= stop].index\n",
    "                            if not matched_stop_index.empty:\n",
    "                                matched_stop_index = matched_stop_index[0]\n",
    "                                min_low_stop = df.loc[i:matched_stop_index, 'Low'].min()\n",
    "\n",
    "                                # Defence Target vs. Min Low Value Comparison\n",
    "                                if df.loc[i, 'Defence_Target_Seller'] >= min_low_stop:\n",
    "                                    df.loc[i, 'D_Profit'] = abs(entry - df.loc[i, 'Defence_Target_Seller'])\n",
    "                                else:\n",
    "                                    df.loc[i, 'Loss'] = abs(df.loc[i, 'Defence_Target_Seller'] - entry)\n",
    "                            else:\n",
    "                                sellers_stop_mismatch_count += 1\n",
    "                else:\n",
    "                    sellers_mismatch_count += 1\n",
    "\n",
    "    # Print mismatch counts\n",
    "    print(f\"Buyers mismatch count: {buyers_mismatch_count}\")\n",
    "    print(f\"Sellers mismatch count: {sellers_mismatch_count}\")\n",
    "    print(f\"Buyers stop mismatch count: {buyers_stop_mismatch_count}\")\n",
    "    print(f\"Sellers stop mismatch count: {sellers_stop_mismatch_count}\")\n",
    "\n",
    "    # Drop unnecessary columns if they exist\n",
    "    columns_to_drop = [\"Ideal_Target_Buyer\", \"Ideal_Target_Seller\", \"Defence_Target_Buyer\", \"Defence_Target_Seller\"]\n",
    "    df.drop(columns=[col for col in columns_to_drop if col in df.columns], inplace=True)\n",
    "\n",
    "    return df\n"
   ]
  },
  {
   "cell_type": "code",
   "execution_count": 92,
   "metadata": {},
   "outputs": [
    {
     "name": "stderr",
     "output_type": "stream",
     "text": [
      "  0%|          | 0/54768 [00:00<?, ?it/s]"
     ]
    },
    {
     "name": "stderr",
     "output_type": "stream",
     "text": [
      "C:\\Users\\dell\\AppData\\Local\\Temp\\ipykernel_20676\\850206605.py:39: FutureWarning: Setting an item of incompatible dtype is deprecated and will raise an error in a future version of pandas. Value '112.31' has dtype incompatible with int64, please explicitly cast to a compatible dtype first.\n",
      "  df.loc[i, 'Ideal_Target_Buyer'] = max_close\n",
      "C:\\Users\\dell\\AppData\\Local\\Temp\\ipykernel_20676\\850206605.py:47: FutureWarning: Setting an item of incompatible dtype is deprecated and will raise an error in a future version of pandas. Value '112.55000000000001' has dtype incompatible with int64, please explicitly cast to a compatible dtype first.\n",
      "  df.loc[i, 'Defence_Target_Buyer'] = ((entry + defence) / 2) + 0.25\n",
      "C:\\Users\\dell\\AppData\\Local\\Temp\\ipykernel_20676\\850206605.py:55: FutureWarning: Setting an item of incompatible dtype is deprecated and will raise an error in a future version of pandas. Value '0.2400000000000091' has dtype incompatible with int64, please explicitly cast to a compatible dtype first.\n",
      "  df.loc[i, 'D_Profit'] = abs(df.loc[i, 'Defence_Target_Buyer'] - entry)\n",
      "  1%|          | 431/54768 [00:00<00:12, 4277.37it/s]C:\\Users\\dell\\AppData\\Local\\Temp\\ipykernel_20676\\850206605.py:43: FutureWarning: Setting an item of incompatible dtype is deprecated and will raise an error in a future version of pandas. Value '0.75' has dtype incompatible with int64, please explicitly cast to a compatible dtype first.\n",
      "  df.loc[i, 'T_Profit'] = abs(row['Target'] - entry)\n",
      "C:\\Users\\dell\\AppData\\Local\\Temp\\ipykernel_20676\\850206605.py:73: FutureWarning: Setting an item of incompatible dtype is deprecated and will raise an error in a future version of pandas. Value '111.28' has dtype incompatible with int64, please explicitly cast to a compatible dtype first.\n",
      "  df.loc[i, 'Ideal_Target_Seller'] = min_close\n",
      "C:\\Users\\dell\\AppData\\Local\\Temp\\ipykernel_20676\\850206605.py:57: FutureWarning: Setting an item of incompatible dtype is deprecated and will raise an error in a future version of pandas. Value '0.24500000000000455' has dtype incompatible with int64, please explicitly cast to a compatible dtype first.\n",
      "  df.loc[i, 'Loss'] = abs(df.loc[i, 'Defence_Target_Buyer'] - entry)\n",
      "  7%|▋         | 3581/54768 [00:00<00:07, 6482.45it/s]C:\\Users\\dell\\AppData\\Local\\Temp\\ipykernel_20676\\850206605.py:81: FutureWarning: Setting an item of incompatible dtype is deprecated and will raise an error in a future version of pandas. Value '108.96000000000001' has dtype incompatible with int64, please explicitly cast to a compatible dtype first.\n",
      "  df.loc[i, 'Defence_Target_Seller'] = ((entry + defence) / 2) - 0.25\n",
      "100%|██████████| 54768/54768 [00:07<00:00, 7199.32it/s]"
     ]
    },
    {
     "name": "stdout",
     "output_type": "stream",
     "text": [
      "Buyers mismatch count: 0\n",
      "Sellers mismatch count: 0\n",
      "Buyers stop mismatch count: 0\n",
      "Sellers stop mismatch count: 0\n"
     ]
    },
    {
     "name": "stderr",
     "output_type": "stream",
     "text": [
      "\n"
     ]
    }
   ],
   "source": [
    "data = apply_trading_logic(data)"
   ]
  },
  {
   "cell_type": "code",
   "execution_count": 93,
   "metadata": {},
   "outputs": [
    {
     "data": {
      "text/plain": [
       "Index(['Time Stamp', 'Open', 'High', 'Low', 'Close', 'SellersLevel4',\n",
       "       'SellersLevel3', 'SellersLevel2', 'SellersLevel1', 'SellersLevel0',\n",
       "       'BuyersLevel0', 'BuyersLevel1', 'BuyersLevel2', 'BuyersLevel3',\n",
       "       'BuyersLevel4', 'BuyersInControlPrice', 'SellersInControlPrice',\n",
       "       'Entry', 'Defence', 'Stop', 'Target', 'Actual_100%_dis',\n",
       "       'Predicted_100%_dis', 'Actual_Ideal', 'Predicted_Ideal', 'Profit',\n",
       "       'Actual_ideal_profit', 'PIT_Profit_100', 'PIT_D_Profit_100',\n",
       "       'PIT_Loss_100', 'PIT_Defence_Target_100', 'PIT_Profit_Timestamp_100',\n",
       "       'PIT_D_Profit_Timestamp_100', 'PIT_Loss_Timestamp_100', 'T_Profit',\n",
       "       'D_Profit', 'Loss'],\n",
       "      dtype='object')"
      ]
     },
     "execution_count": 93,
     "metadata": {},
     "output_type": "execute_result"
    }
   ],
   "source": [
    "data.columns"
   ]
  },
  {
   "cell_type": "code",
   "execution_count": 94,
   "metadata": {},
   "outputs": [],
   "source": [
    "data.drop(columns=['T_Profit', 'D_Profit'],axis=1,inplace=True)"
   ]
  },
  {
   "cell_type": "code",
   "execution_count": 95,
   "metadata": {},
   "outputs": [
    {
     "data": {
      "text/plain": [
       "Index(['Time Stamp', 'Open', 'High', 'Low', 'Close', 'SellersLevel4',\n",
       "       'SellersLevel3', 'SellersLevel2', 'SellersLevel1', 'SellersLevel0',\n",
       "       'BuyersLevel0', 'BuyersLevel1', 'BuyersLevel2', 'BuyersLevel3',\n",
       "       'BuyersLevel4', 'BuyersInControlPrice', 'SellersInControlPrice',\n",
       "       'Entry', 'Defence', 'Stop', 'Target', 'Actual_100%_dis',\n",
       "       'Predicted_100%_dis', 'Actual_Ideal', 'Predicted_Ideal', 'Profit',\n",
       "       'Actual_ideal_profit', 'PIT_Profit_100', 'PIT_D_Profit_100',\n",
       "       'PIT_Loss_100', 'PIT_Defence_Target_100', 'PIT_Profit_Timestamp_100',\n",
       "       'PIT_D_Profit_Timestamp_100', 'PIT_Loss_Timestamp_100', 'Loss'],\n",
       "      dtype='object')"
      ]
     },
     "execution_count": 95,
     "metadata": {},
     "output_type": "execute_result"
    }
   ],
   "source": [
    "data.columns"
   ]
  },
  {
   "cell_type": "code",
   "execution_count": 96,
   "metadata": {},
   "outputs": [],
   "source": [
    "data.to_csv(r\"C:\\Users\\dell\\Desktop\\Updated_ZB\\Updated_ZB_dataset1_100%_prediction\\Processed_distnce_updated_ideal_target_1_version_abs_updated_ZB.csv\",index=False)"
   ]
  },
  {
   "cell_type": "markdown",
   "metadata": {
    "id": "qN5Br7o0weHY"
   },
   "source": [
    "**Aggressive**\n"
   ]
  },
  {
   "cell_type": "code",
   "execution_count": 1,
   "metadata": {
    "executionInfo": {
     "elapsed": 972,
     "status": "ok",
     "timestamp": 1724221929447,
     "user": {
      "displayName": "Teena Agrawal",
      "userId": "03827538251341852901"
     },
     "user_tz": -330
    },
    "id": "2Akmr1jJoa8t"
   },
   "outputs": [],
   "source": [
    "import pandas as pd\n",
    "pd.set_option('display.max_columns',40)\n",
    "import os\n",
    "os.chdir(\"C:\\\\Users\\\\dell\\\\Desktop\\\\Non_imputed\\\\Non_imputed_100%_profit\")"
   ]
  },
  {
   "cell_type": "code",
   "execution_count": 2,
   "metadata": {
    "colab": {
     "base_uri": "https://localhost:8080/"
    },
    "executionInfo": {
     "elapsed": 560,
     "status": "ok",
     "timestamp": 1724221936164,
     "user": {
      "displayName": "Teena Agrawal",
      "userId": "03827538251341852901"
     },
     "user_tz": -330
    },
    "id": "LTxerUqnoa_V",
    "outputId": "26b7595a-03fe-4814-f60b-a9c82ae33365"
   },
   "outputs": [
    {
     "data": {
      "text/plain": [
       "['Processed_100%_newModeltest_Agressive_data_non_imputed (1).csv']"
      ]
     },
     "execution_count": 2,
     "metadata": {},
     "output_type": "execute_result"
    }
   ],
   "source": [
    "# Path to your data folder in Google Drive\n",
    "data_folder_1 = \"C:\\\\Users\\\\dell\\\\Desktop\\\\Non_imputed\\\\Non_imputed_100%_profit\"\n",
    "\n",
    "# List files in the specified folder to confirm access\n",
    "folder_path = os.path.join(data_folder_1)  # Update 'path_to_your_data_folder' with your actual folder path\n",
    "file_list = os.listdir(folder_path)\n",
    "file_list"
   ]
  },
  {
   "cell_type": "code",
   "execution_count": 3,
   "metadata": {
    "executionInfo": {
     "elapsed": 525,
     "status": "ok",
     "timestamp": 1724221981896,
     "user": {
      "displayName": "Teena Agrawal",
      "userId": "03827538251341852901"
     },
     "user_tz": -330
    },
    "id": "PBfwdnneot8r"
   },
   "outputs": [],
   "source": [
    "s = pd.read_csv(\"Processed_100%_newModeltest_Agressive_data_non_imputed (1).csv\")\n",
    "# s1 = pd.read_csv(\"Processed_10%_Updated_RF_Agressive_10%_results (1).csv\")\n",
    "# s2 = pd.read_csv(\"Processed_20%_Updated_RF_Agressive_20%_results (1).csv\")\n",
    "# s3 = pd.read_csv(\"Processed_50%_Updated_RF_Agressive_50%_results (1).csv\")\n",
    "# s4 = pd.read_csv(\"Processed_80%_Updated_RF_Agressive_80%_results (1).csv\")\n",
    "# s5 = pd.read_csv(\"Processed_100%_Updated_RF_Agressive_100%_results (1).csv\")"
   ]
  },
  {
   "cell_type": "code",
   "execution_count": 4,
   "metadata": {
    "colab": {
     "base_uri": "https://localhost:8080/"
    },
    "executionInfo": {
     "elapsed": 4,
     "status": "ok",
     "timestamp": 1724221984948,
     "user": {
      "displayName": "Teena Agrawal",
      "userId": "03827538251341852901"
     },
     "user_tz": -330
    },
    "id": "m1Xqm4Cpot_P",
    "outputId": "6c29069c-3d8f-4c3c-9f12-d4c0d31370b4"
   },
   "outputs": [
    {
     "name": "stdout",
     "output_type": "stream",
     "text": [
      "Index(['Time Stamp', 'Open', 'High', 'Low', 'Close', 'SellersLevel4',\n",
      "       'SellersLevel3', 'SellersLevel2', 'SellersLevel1', 'SellersLevel0',\n",
      "       'BuyersLevel0', 'BuyersLevel1', 'BuyersLevel2', 'BuyersLevel3',\n",
      "       'BuyersLevel4', 'BuyersInControlPrice', 'SellersInControlPrice',\n",
      "       'Entry', 'Defence', 'Stop', 'Target', 'Actual_100%_dis',\n",
      "       'Predicted_100%_dis', 'Actual_Ideal', 'Predicted_Ideal', 'Profit'],\n",
      "      dtype='object')\n"
     ]
    }
   ],
   "source": [
    "print(s.columns)\n",
    "# print(s1.columns)\n",
    "# print(s2.columns)\n",
    "# print(s3.columns)\n",
    "# print(s4.columns)\n",
    "# print(s5.columns)"
   ]
  },
  {
   "cell_type": "code",
   "execution_count": 5,
   "metadata": {
    "id": "8KcLZ37gouBj"
   },
   "outputs": [],
   "source": [
    "# s.columns"
   ]
  },
  {
   "cell_type": "code",
   "execution_count": 6,
   "metadata": {},
   "outputs": [
    {
     "data": {
      "text/plain": [
       "(85172, 26)"
      ]
     },
     "execution_count": 6,
     "metadata": {},
     "output_type": "execute_result"
    }
   ],
   "source": [
    "s.shape"
   ]
  },
  {
   "cell_type": "code",
   "execution_count": 7,
   "metadata": {},
   "outputs": [
    {
     "data": {
      "text/plain": [
       "22"
      ]
     },
     "execution_count": 7,
     "metadata": {},
     "output_type": "execute_result"
    }
   ],
   "source": [
    "s.duplicated().sum()"
   ]
  },
  {
   "cell_type": "code",
   "execution_count": 9,
   "metadata": {},
   "outputs": [],
   "source": [
    "s.drop_duplicates(inplace=True)"
   ]
  },
  {
   "cell_type": "code",
   "execution_count": 10,
   "metadata": {},
   "outputs": [
    {
     "data": {
      "text/plain": [
       "0"
      ]
     },
     "execution_count": 10,
     "metadata": {},
     "output_type": "execute_result"
    }
   ],
   "source": [
    "s.duplicated().sum()"
   ]
  },
  {
   "cell_type": "code",
   "execution_count": null,
   "metadata": {
    "colab": {
     "base_uri": "https://localhost:8080/"
    },
    "executionInfo": {
     "elapsed": 291764,
     "status": "ok",
     "timestamp": 1724223925573,
     "user": {
      "displayName": "Teena Agrawal",
      "userId": "03827538251341852901"
     },
     "user_tz": -330
    },
    "id": "oKytjvQrc8v1",
    "outputId": "aafdcd00-a20b-4cea-c978-2c125923dd0f"
   },
   "outputs": [
    {
     "name": "stderr",
     "output_type": "stream",
     "text": [
      "  0%|          | 0/85172 [00:00<?, ?it/s]C:\\Users\\dell\\AppData\\Local\\Temp\\ipykernel_16472\\1267156648.py:37: FutureWarning: Setting an item of incompatible dtype is deprecated and will raise an error in a future version of pandas. Value '4638.25' has dtype incompatible with int64, please explicitly cast to a compatible dtype first.\n",
      "  df.loc[i, f'Target_Predicted_Aggressive_{percent}_Aggresive_T'] = max_high\n",
      "  0%|          | 4/85172 [00:00<04:14, 334.62it/s]\n"
     ]
    },
    {
     "ename": "KeyError",
     "evalue": "'Predicted_Agressive_100_dis'",
     "output_type": "error",
     "traceback": [
      "\u001b[1;31m---------------------------------------------------------------------------\u001b[0m",
      "\u001b[1;31mKeyError\u001b[0m                                  Traceback (most recent call last)",
      "File \u001b[1;32mc:\\Users\\dell\\anaconda3\\Lib\\site-packages\\pandas\\core\\indexes\\base.py:3805\u001b[0m, in \u001b[0;36mIndex.get_loc\u001b[1;34m(self, key)\u001b[0m\n\u001b[0;32m   3804\u001b[0m \u001b[38;5;28;01mtry\u001b[39;00m:\n\u001b[1;32m-> 3805\u001b[0m     \u001b[38;5;28;01mreturn\u001b[39;00m \u001b[38;5;28mself\u001b[39m\u001b[38;5;241m.\u001b[39m_engine\u001b[38;5;241m.\u001b[39mget_loc(casted_key)\n\u001b[0;32m   3806\u001b[0m \u001b[38;5;28;01mexcept\u001b[39;00m \u001b[38;5;167;01mKeyError\u001b[39;00m \u001b[38;5;28;01mas\u001b[39;00m err:\n",
      "File \u001b[1;32mindex.pyx:167\u001b[0m, in \u001b[0;36mpandas._libs.index.IndexEngine.get_loc\u001b[1;34m()\u001b[0m\n",
      "File \u001b[1;32mindex.pyx:196\u001b[0m, in \u001b[0;36mpandas._libs.index.IndexEngine.get_loc\u001b[1;34m()\u001b[0m\n",
      "File \u001b[1;32mpandas\\\\_libs\\\\hashtable_class_helper.pxi:7081\u001b[0m, in \u001b[0;36mpandas._libs.hashtable.PyObjectHashTable.get_item\u001b[1;34m()\u001b[0m\n",
      "File \u001b[1;32mpandas\\\\_libs\\\\hashtable_class_helper.pxi:7089\u001b[0m, in \u001b[0;36mpandas._libs.hashtable.PyObjectHashTable.get_item\u001b[1;34m()\u001b[0m\n",
      "\u001b[1;31mKeyError\u001b[0m: 'Predicted_Agressive_100_dis'",
      "\nThe above exception was the direct cause of the following exception:\n",
      "\u001b[1;31mKeyError\u001b[0m                                  Traceback (most recent call last)",
      "Cell \u001b[1;32mIn[11], line 130\u001b[0m\n\u001b[0;32m    127\u001b[0m \u001b[38;5;66;03m# Example usage\u001b[39;00m\n\u001b[0;32m    129\u001b[0m output_dir \u001b[38;5;241m=\u001b[39m \u001b[38;5;124m\"\u001b[39m\u001b[38;5;124mC:\u001b[39m\u001b[38;5;130;01m\\\\\u001b[39;00m\u001b[38;5;124mUsers\u001b[39m\u001b[38;5;130;01m\\\\\u001b[39;00m\u001b[38;5;124mdell\u001b[39m\u001b[38;5;130;01m\\\\\u001b[39;00m\u001b[38;5;124mDesktop\u001b[39m\u001b[38;5;130;01m\\\\\u001b[39;00m\u001b[38;5;124mNon_imputed\u001b[39m\u001b[38;5;130;01m\\\\\u001b[39;00m\u001b[38;5;124mNon_imputed_100\u001b[39m\u001b[38;5;124m%\u001b[39m\u001b[38;5;124m_prediction\u001b[39m\u001b[38;5;124m\"\u001b[39m\n\u001b[1;32m--> 130\u001b[0m process_files(data_folder_1, output_dir)\n",
      "Cell \u001b[1;32mIn[11], line 112\u001b[0m, in \u001b[0;36mprocess_files\u001b[1;34m(input_dir, output_dir)\u001b[0m\n\u001b[0;32m    108\u001b[0m target_col \u001b[38;5;241m=\u001b[39m \u001b[38;5;124mf\u001b[39m\u001b[38;5;124m'\u001b[39m\u001b[38;5;124mPredicted_Agressive_\u001b[39m\u001b[38;5;132;01m{\u001b[39;00mpercent\u001b[38;5;132;01m}\u001b[39;00m\u001b[38;5;124m_dis\u001b[39m\u001b[38;5;124m'\u001b[39m\n\u001b[0;32m    109\u001b[0m \u001b[38;5;66;03m# Target_Predicted_Agressive_100_dis\u001b[39;00m\n\u001b[0;32m    110\u001b[0m \n\u001b[0;32m    111\u001b[0m \u001b[38;5;66;03m# Apply trading logic\u001b[39;00m\n\u001b[1;32m--> 112\u001b[0m df \u001b[38;5;241m=\u001b[39m apply_trading_logic(df, target_col, percent)\n\u001b[0;32m    114\u001b[0m \u001b[38;5;66;03m# Drop unnecessary columns before saving\u001b[39;00m\n\u001b[0;32m    115\u001b[0m columns_to_drop \u001b[38;5;241m=\u001b[39m [\n\u001b[0;32m    116\u001b[0m     \u001b[38;5;124mf\u001b[39m\u001b[38;5;124m'\u001b[39m\u001b[38;5;124mTarget_Predicted_Aggressive_\u001b[39m\u001b[38;5;132;01m{\u001b[39;00mpercent\u001b[38;5;132;01m}\u001b[39;00m\u001b[38;5;124m_Target_Buyer\u001b[39m\u001b[38;5;124m'\u001b[39m,\n\u001b[0;32m    117\u001b[0m     \u001b[38;5;124mf\u001b[39m\u001b[38;5;124m'\u001b[39m\u001b[38;5;124mTarget_Predicted_Aggressive_\u001b[39m\u001b[38;5;132;01m{\u001b[39;00mpercent\u001b[38;5;132;01m}\u001b[39;00m\u001b[38;5;124m_Defence_Target_Buyer\u001b[39m\u001b[38;5;124m'\u001b[39m,\n\u001b[0;32m    118\u001b[0m     \u001b[38;5;124mf\u001b[39m\u001b[38;5;124m'\u001b[39m\u001b[38;5;124mTarget_Predicted_Aggressive_\u001b[39m\u001b[38;5;132;01m{\u001b[39;00mpercent\u001b[38;5;132;01m}\u001b[39;00m\u001b[38;5;124m_Target_Seller\u001b[39m\u001b[38;5;124m'\u001b[39m,\n\u001b[0;32m    119\u001b[0m     \u001b[38;5;124mf\u001b[39m\u001b[38;5;124m'\u001b[39m\u001b[38;5;124mTarget_Predicted_Aggressive_\u001b[39m\u001b[38;5;132;01m{\u001b[39;00mpercent\u001b[38;5;132;01m}\u001b[39;00m\u001b[38;5;124m_Defence_Target_Seller\u001b[39m\u001b[38;5;124m'\u001b[39m\n\u001b[0;32m    120\u001b[0m ]\n",
      "Cell \u001b[1;32mIn[11], line 40\u001b[0m, in \u001b[0;36mapply_trading_logic\u001b[1;34m(df, target_col, percent)\u001b[0m\n\u001b[0;32m     37\u001b[0m df\u001b[38;5;241m.\u001b[39mloc[i, \u001b[38;5;124mf\u001b[39m\u001b[38;5;124m'\u001b[39m\u001b[38;5;124mTarget_Predicted_Aggressive_\u001b[39m\u001b[38;5;132;01m{\u001b[39;00mpercent\u001b[38;5;132;01m}\u001b[39;00m\u001b[38;5;124m_Aggresive_T\u001b[39m\u001b[38;5;124m'\u001b[39m] \u001b[38;5;241m=\u001b[39m max_high\n\u001b[0;32m     39\u001b[0m \u001b[38;5;66;03m# Target_Predicted_X_dis vs. Max High Value Comparison\u001b[39;00m\n\u001b[1;32m---> 40\u001b[0m \u001b[38;5;28;01mif\u001b[39;00m row[target_col] \u001b[38;5;241m<\u001b[39m\u001b[38;5;241m=\u001b[39m max_high:\n\u001b[0;32m     41\u001b[0m     df\u001b[38;5;241m.\u001b[39mloc[i, \u001b[38;5;124mf\u001b[39m\u001b[38;5;124m'\u001b[39m\u001b[38;5;124mPAT_Profit_\u001b[39m\u001b[38;5;132;01m{\u001b[39;00mpercent\u001b[38;5;132;01m}\u001b[39;00m\u001b[38;5;124m'\u001b[39m] \u001b[38;5;241m=\u001b[39m \u001b[38;5;28mround\u001b[39m(\u001b[38;5;28mabs\u001b[39m(row[target_col] \u001b[38;5;241m-\u001b[39m entry),\u001b[38;5;241m2\u001b[39m)\n\u001b[0;32m     42\u001b[0m \u001b[38;5;28;01melse\u001b[39;00m:\n",
      "File \u001b[1;32mc:\\Users\\dell\\anaconda3\\Lib\\site-packages\\pandas\\core\\series.py:1121\u001b[0m, in \u001b[0;36mSeries.__getitem__\u001b[1;34m(self, key)\u001b[0m\n\u001b[0;32m   1118\u001b[0m     \u001b[38;5;28;01mreturn\u001b[39;00m \u001b[38;5;28mself\u001b[39m\u001b[38;5;241m.\u001b[39m_values[key]\n\u001b[0;32m   1120\u001b[0m \u001b[38;5;28;01melif\u001b[39;00m key_is_scalar:\n\u001b[1;32m-> 1121\u001b[0m     \u001b[38;5;28;01mreturn\u001b[39;00m \u001b[38;5;28mself\u001b[39m\u001b[38;5;241m.\u001b[39m_get_value(key)\n\u001b[0;32m   1123\u001b[0m \u001b[38;5;66;03m# Convert generator to list before going through hashable part\u001b[39;00m\n\u001b[0;32m   1124\u001b[0m \u001b[38;5;66;03m# (We will iterate through the generator there to check for slices)\u001b[39;00m\n\u001b[0;32m   1125\u001b[0m \u001b[38;5;28;01mif\u001b[39;00m is_iterator(key):\n",
      "File \u001b[1;32mc:\\Users\\dell\\anaconda3\\Lib\\site-packages\\pandas\\core\\series.py:1237\u001b[0m, in \u001b[0;36mSeries._get_value\u001b[1;34m(self, label, takeable)\u001b[0m\n\u001b[0;32m   1234\u001b[0m     \u001b[38;5;28;01mreturn\u001b[39;00m \u001b[38;5;28mself\u001b[39m\u001b[38;5;241m.\u001b[39m_values[label]\n\u001b[0;32m   1236\u001b[0m \u001b[38;5;66;03m# Similar to Index.get_value, but we do not fall back to positional\u001b[39;00m\n\u001b[1;32m-> 1237\u001b[0m loc \u001b[38;5;241m=\u001b[39m \u001b[38;5;28mself\u001b[39m\u001b[38;5;241m.\u001b[39mindex\u001b[38;5;241m.\u001b[39mget_loc(label)\n\u001b[0;32m   1239\u001b[0m \u001b[38;5;28;01mif\u001b[39;00m is_integer(loc):\n\u001b[0;32m   1240\u001b[0m     \u001b[38;5;28;01mreturn\u001b[39;00m \u001b[38;5;28mself\u001b[39m\u001b[38;5;241m.\u001b[39m_values[loc]\n",
      "File \u001b[1;32mc:\\Users\\dell\\anaconda3\\Lib\\site-packages\\pandas\\core\\indexes\\base.py:3812\u001b[0m, in \u001b[0;36mIndex.get_loc\u001b[1;34m(self, key)\u001b[0m\n\u001b[0;32m   3807\u001b[0m     \u001b[38;5;28;01mif\u001b[39;00m \u001b[38;5;28misinstance\u001b[39m(casted_key, \u001b[38;5;28mslice\u001b[39m) \u001b[38;5;129;01mor\u001b[39;00m (\n\u001b[0;32m   3808\u001b[0m         \u001b[38;5;28misinstance\u001b[39m(casted_key, abc\u001b[38;5;241m.\u001b[39mIterable)\n\u001b[0;32m   3809\u001b[0m         \u001b[38;5;129;01mand\u001b[39;00m \u001b[38;5;28many\u001b[39m(\u001b[38;5;28misinstance\u001b[39m(x, \u001b[38;5;28mslice\u001b[39m) \u001b[38;5;28;01mfor\u001b[39;00m x \u001b[38;5;129;01min\u001b[39;00m casted_key)\n\u001b[0;32m   3810\u001b[0m     ):\n\u001b[0;32m   3811\u001b[0m         \u001b[38;5;28;01mraise\u001b[39;00m InvalidIndexError(key)\n\u001b[1;32m-> 3812\u001b[0m     \u001b[38;5;28;01mraise\u001b[39;00m \u001b[38;5;167;01mKeyError\u001b[39;00m(key) \u001b[38;5;28;01mfrom\u001b[39;00m \u001b[38;5;21;01merr\u001b[39;00m\n\u001b[0;32m   3813\u001b[0m \u001b[38;5;28;01mexcept\u001b[39;00m \u001b[38;5;167;01mTypeError\u001b[39;00m:\n\u001b[0;32m   3814\u001b[0m     \u001b[38;5;66;03m# If we have a listlike key, _check_indexing_error will raise\u001b[39;00m\n\u001b[0;32m   3815\u001b[0m     \u001b[38;5;66;03m#  InvalidIndexError. Otherwise we fall through and re-raise\u001b[39;00m\n\u001b[0;32m   3816\u001b[0m     \u001b[38;5;66;03m#  the TypeError.\u001b[39;00m\n\u001b[0;32m   3817\u001b[0m     \u001b[38;5;28mself\u001b[39m\u001b[38;5;241m.\u001b[39m_check_indexing_error(key)\n",
      "\u001b[1;31mKeyError\u001b[0m: 'Predicted_Agressive_100_dis'"
     ]
    }
   ],
   "source": [
    "import os\n",
    "import pandas as pd\n",
    "from tqdm import tqdm\n",
    "\n",
    "def apply_trading_logic(df, target_col, percent):\n",
    "    # Initialize new columns with 'Aggressive' in the column names\n",
    "    df[f'PAT_Profit_{percent}'] = 0\n",
    "    df[f'PAT_D_Profit_{percent}'] = 0\n",
    "    df[f'Target_Predicted_Aggressive_{percent}_Loss'] = 0\n",
    "    df[f'Target_Predicted_Aggressive_{percent}_Target_Buyer'] = 0\n",
    "    df[f'Target_Predicted_Aggressive_{percent}_Defence_Target_Buyer'] = 0\n",
    "    df[f'Target_Predicted_Aggressive_{percent}_Target_Seller'] = 0\n",
    "    df[f'Target_Predicted_Aggressive_{percent}_Defence_Target_Seller'] = 0\n",
    "    df[f'Target_Predicted_Aggressive_{percent}_Defence_Target'] = 0\n",
    "    df[f'Target_Predicted_Aggressive_{percent}_Aggresive_T'] = 0\n",
    "\n",
    "    # Iterate over each row with tqdm for progress tracking\n",
    "    for i in tqdm(range(len(df))):\n",
    "        row = df.iloc[i]\n",
    "\n",
    "        # Entry Value Check\n",
    "        if row['Entry'] != 0:\n",
    "            entry = row['Entry']\n",
    "            defence = row['Defence']\n",
    "\n",
    "            # Buyers Logic\n",
    "            if row['BuyersInControlPrice'] != 0:\n",
    "                # Defence Check\n",
    "                low_future_rows = df.iloc[i+1:]['Low']\n",
    "                matched_low_index = low_future_rows[low_future_rows == defence].index\n",
    "                if not matched_low_index.empty:\n",
    "                    matched_low_index = matched_low_index[0]\n",
    "                    max_high = df.loc[i:matched_low_index, 'High'].max()\n",
    "                    max_close = df.loc[i:matched_low_index, 'Close'].max()\n",
    "\n",
    "                    df.loc[i, f'Target_Predicted_Aggressive_{percent}_Target_Buyer'] = max_close\n",
    "                    df.loc[i, f'Target_Predicted_Aggressive_{percent}_Aggresive_T'] = max_high\n",
    "\n",
    "                    # Target_Predicted_X_dis vs. Max High Value Comparison\n",
    "                    if row[target_col] <= max_high:\n",
    "                        df.loc[i, f'PAT_Profit_{percent}'] = round(abs(row[target_col] - entry),2)\n",
    "                    else:\n",
    "                        stop = row['Stop']\n",
    "                        if stop != 0:\n",
    "                            df.loc[i, f'Target_Predicted_Aggressive_{percent}_Defence_Target_Buyer'] = ((entry + defence) / 2) + 0.25\n",
    "                            matched_stop_index = low_future_rows[low_future_rows == stop].index\n",
    "                            if not matched_stop_index.empty:\n",
    "                                matched_stop_index = matched_stop_index[0]\n",
    "                                max_high_stop = df.loc[i:matched_stop_index, 'High'].max()\n",
    "                                max_close_stop = df.loc[i:matched_stop_index, 'Close'].max()\n",
    "\n",
    "                                # Defence Target vs. Max High Value Comparison\n",
    "                                if df.loc[i, f'Target_Predicted_Aggressive_{percent}_Defence_Target_Buyer'] <= max_high_stop:\n",
    "                                    df.loc[i, f'PAT_D_Profit_{percent}'] = abs(df.loc[i, f'Target_Predicted_Aggressive_{percent}_Defence_Target_Buyer'] - entry)\n",
    "                                else:\n",
    "                                    df.loc[i, f'Target_Predicted_Aggressive_{percent}_Loss'] = abs(df.loc[i, f'Target_Predicted_Aggressive_{percent}_Defence_Target_Buyer'] - entry)\n",
    "\n",
    "            # Sellers Logic\n",
    "            if row['SellersInControlPrice'] != 0:\n",
    "                # Defence Check\n",
    "                high_future_rows = df.iloc[i+1:]['High']\n",
    "                matched_high_index = high_future_rows[high_future_rows == defence].index\n",
    "                if not matched_high_index.empty:\n",
    "                    matched_high_index = matched_high_index[0]\n",
    "                    min_low = df.loc[i:matched_high_index, 'Low'].min()\n",
    "                    min_close = df.loc[i:matched_high_index, 'Close'].min()\n",
    "\n",
    "                    df.loc[i, f'Target_Predicted_Aggressive_{percent}_Target_Seller'] = min_close\n",
    "                    df.loc[i, f'Target_Predicted_Aggressive_{percent}_Aggresive_T'] = min_low\n",
    "\n",
    "                    # Target_Predicted_X_dis vs. Min Low Value Comparison\n",
    "                    if row[target_col] >= min_low:\n",
    "                        df.loc[i, f'PAT_Profit_{percent}'] = round(abs(entry - row[target_col]),2)\n",
    "                    else:\n",
    "                        stop = row['Stop']\n",
    "                        if stop != 0:\n",
    "                            df.loc[i, f'Target_Predicted_Aggressive_{percent}_Defence_Target_Seller'] = ((entry + defence) / 2) - 0.25\n",
    "                            matched_stop_index = high_future_rows[high_future_rows == stop].index\n",
    "                            if not matched_stop_index.empty:\n",
    "                                matched_stop_index = matched_stop_index[0]\n",
    "                                min_low_stop = df.loc[i:matched_stop_index, 'Low'].min()\n",
    "                                min_close_stop = df.loc[i:matched_stop_index, 'Close'].min()\n",
    "\n",
    "                                # Defence Target vs. Min Low Value Comparison\n",
    "                                if df.loc[i, f'Target_Predicted_Aggressive_{percent}_Defence_Target_Seller'] >= min_low_stop:\n",
    "                                    df.loc[i, f'PAT_D_Profit_{percent}'] = abs(entry - df.loc[i, f'Target_Predicted_Aggressive_{percent}_Defence_Target_Seller'])\n",
    "                                else:\n",
    "                                    df.loc[i, f'Target_Predicted_Aggressive_{percent}_Loss'] = abs(df.loc[i, f'Target_Predicted_Aggressive_{percent}_Defence_Target_Seller'] - entry)\n",
    "\n",
    "        # Additional Calculations\n",
    "        df.loc[i, f'Target_Predicted_Aggressive_{percent}_Ideal_T'] = df.loc[i, f'Target_Predicted_Aggressive_{percent}_Target_Buyer'] + df.loc[i, f'Target_Predicted_Aggressive_{percent}_Target_Seller']\n",
    "        df.loc[i, f'Target_Predicted_Aggressive_{percent}_Defence_Target'] = df.loc[i, f'Target_Predicted_Aggressive_{percent}_Defence_Target_Buyer'] + df.loc[i, f'Target_Predicted_Aggressive_{percent}_Defence_Target_Seller']\n",
    "\n",
    "    return df\n",
    "\n",
    "# def process_files(input_dir, output_dir):\n",
    "#     # List all CSV files in the input directory\n",
    "#     files = [f for f in os.listdir(input_dir) if f.endswith('.csv')]\n",
    "\n",
    "#     for file in files:\n",
    "#         # Extract the percentage from the filename\n",
    "#         percent = file.split('_')[1].replace('%', '')\n",
    "\n",
    "#         # Load the DataFrame\n",
    "#         df = pd.read_csv(os.path.join(input_dir, file))\n",
    "\n",
    "#         # Determine the Target_Predicted_X_dis column to use\n",
    "#         target_col = f'Predicted_Agressive_{percent}_dis'\n",
    "#         # Target_Predicted_Agressive_100_dis\n",
    "\n",
    "#         # Apply trading logic\n",
    "#         df = apply_trading_logic(df, target_col, percent)\n",
    "\n",
    "#         # Drop unnecessary columns before saving\n",
    "#         columns_to_drop = [\n",
    "#             f'Target_Predicted_Aggressive_{percent}_Target_Buyer',\n",
    "#             f'Target_Predicted_Aggressive_{percent}_Defence_Target_Buyer',\n",
    "#             f'Target_Predicted_Aggressive_{percent}_Target_Seller',\n",
    "#             f'Target_Predicted_Aggressive_{percent}_Defence_Target_Seller'\n",
    "#         ]\n",
    "#         df.drop(columns=columns_to_drop, inplace=True)\n",
    "\n",
    "#         # Save the processed DataFrame to the output directory\n",
    "#         output_file = f'Processed_{percent}_{file}'\n",
    "#         df.to_csv(os.path.join(output_dir, output_file), index=False)\n",
    "\n",
    "# Example usage\n",
    "\n",
    "# output_dir = \"C:\\\\Users\\\\dell\\\\Desktop\\\\Non_imputed\\\\Non_imputed_100%_prediction\"\n",
    "# process_files(data_folder_1, output_dir)\n"
   ]
  },
  {
   "cell_type": "code",
   "execution_count": null,
   "metadata": {
    "id": "LDg9uMInc8yj"
   },
   "outputs": [],
   "source": [
    "import pandas as pd\n",
    "from tqdm import tqdm\n",
    "\n",
    "def apply_trading_logic(df):\n",
    "    # Initialize the new columns with 0\n",
    "    df['T_Profit'] = 0\n",
    "    df['D_Profit'] = 0\n",
    "    df['Loss'] = 0\n",
    "    df['Ideal_Target_Buyer'] = 0\n",
    "    df['Defence_Target_Buyer'] = 0\n",
    "    df['Ideal_Target_Seller'] = 0\n",
    "    df['Defence_Target_Seller'] = 0\n",
    "\n",
    "    # Initialize mismatch counters\n",
    "    buyers_mismatch_count = 0\n",
    "    sellers_mismatch_count = 0\n",
    "    buyers_stop_mismatch_count = 0\n",
    "    sellers_stop_mismatch_count = 0\n",
    "\n",
    "    # Iterate over each row with tqdm for progress tracking\n",
    "    for i in tqdm(range(len(df))):\n",
    "        row = df.iloc[i]\n",
    "\n",
    "        # Entry Value Check\n",
    "        if row['Entry'] != 0:\n",
    "            entry = row['Entry']\n",
    "            defence = row['Defence']\n",
    "\n",
    "            # Buyers Logic\n",
    "            if row['BuyersInControlPrice'] != 0:\n",
    "                # Defence Check with <= condition\n",
    "                low_future_rows = df.iloc[i+1:]['Low']\n",
    "                matched_low_index = low_future_rows[low_future_rows <= defence].index\n",
    "                if not matched_low_index.empty:\n",
    "                    matched_low_index = matched_low_index[0]\n",
    "                    max_high = df.loc[i:matched_low_index, 'High'].max()\n",
    "                    max_close = df.loc[i:matched_low_index, 'Close'].max()\n",
    "\n",
    "                    df.loc[i, 'Ideal_Target_Buyer'] = max_close\n",
    "\n",
    "                    # Target vs. Max High Value Comparison\n",
    "                    if row['Target'] <= max_high:\n",
    "                        df.loc[i, 'T_Profit'] = abs(row['Target'] - entry)\n",
    "                    else:\n",
    "                        stop = row['Stop']\n",
    "                        if stop != 0:\n",
    "                            df.loc[i, 'Defence_Target_Buyer'] = ((entry + defence) / 2) + 0.25\n",
    "                            matched_stop_index = low_future_rows[low_future_rows <= stop].index\n",
    "                            if not matched_stop_index.empty:\n",
    "                                matched_stop_index = matched_stop_index[0]\n",
    "                                max_high_stop = df.loc[i:matched_stop_index, 'High'].max()\n",
    "\n",
    "                                # Defence Target vs. Max High Value Comparison\n",
    "                                if df.loc[i, 'Defence_Target_Buyer'] <= max_high_stop:\n",
    "                                    df.loc[i, 'D_Profit'] = abs(df.loc[i, 'Defence_Target_Buyer'] - entry)\n",
    "                                else:\n",
    "                                    df.loc[i, 'Loss'] = abs(df.loc[i, 'Defence_Target_Buyer'] - entry)\n",
    "                            else:\n",
    "                                buyers_stop_mismatch_count += 1\n",
    "                else:\n",
    "                    buyers_mismatch_count += 1\n",
    "\n",
    "            # Sellers Logic\n",
    "            if row['SellersInControlPrice'] != 0:\n",
    "                # Defence Check with >= condition\n",
    "                high_future_rows = df.iloc[i+1:]['High']\n",
    "                matched_high_index = high_future_rows[high_future_rows >= defence].index\n",
    "                if not matched_high_index.empty:\n",
    "                    matched_high_index = matched_high_index[0]\n",
    "                    min_low = df.loc[i:matched_high_index, 'Low'].min()\n",
    "                    min_close = df.loc[i:matched_high_index, 'Close'].min()\n",
    "\n",
    "                    df.loc[i, 'Ideal_Target_Seller'] = min_close\n",
    "\n",
    "                    # Target vs. Min Low Value Comparison\n",
    "                    if row['Target'] >= min_low:\n",
    "                        df.loc[i, 'T_Profit'] = abs(entry - row['Target'])\n",
    "                    else:\n",
    "                        stop = row['Stop']\n",
    "                        if stop != 0:\n",
    "                            df.loc[i, 'Defence_Target_Seller'] = ((entry + defence) / 2) - 0.25\n",
    "                            matched_stop_index = high_future_rows[high_future_rows >= stop].index\n",
    "                            if not matched_stop_index.empty:\n",
    "                                matched_stop_index = matched_stop_index[0]\n",
    "                                min_low_stop = df.loc[i:matched_stop_index, 'Low'].min()\n",
    "\n",
    "                                # Defence Target vs. Min Low Value Comparison\n",
    "                                if df.loc[i, 'Defence_Target_Seller'] >= min_low_stop:\n",
    "                                    df.loc[i, 'D_Profit'] = abs(entry - df.loc[i, 'Defence_Target_Seller'])\n",
    "                                else:\n",
    "                                    df.loc[i, 'Loss'] = abs(df.loc[i, 'Defence_Target_Seller'] - entry)\n",
    "                            else:\n",
    "                                sellers_stop_mismatch_count += 1\n",
    "                else:\n",
    "                    sellers_mismatch_count += 1\n",
    "\n",
    "    # Print mismatch counts\n",
    "    print(f\"Buyers mismatch count: {buyers_mismatch_count}\")\n",
    "    print(f\"Sellers mismatch count: {sellers_mismatch_count}\")\n",
    "    print(f\"Buyers stop mismatch count: {buyers_stop_mismatch_count}\")\n",
    "    print(f\"Sellers stop mismatch count: {sellers_stop_mismatch_count}\")\n",
    "\n",
    "    # Drop unnecessary columns if they exist\n",
    "    columns_to_drop = [\"Ideal_Target_Buyer\", \"Ideal_Target_Seller\", \"Defence_Target_Buyer\", \"Defence_Target_Seller\"]\n",
    "    df.drop(columns=[col for col in columns_to_drop if col in df.columns], inplace=True)\n",
    "\n",
    "    return df\n"
   ]
  },
  {
   "cell_type": "code",
   "execution_count": null,
   "metadata": {
    "id": "4kjgIbc9VWWK"
   },
   "outputs": [],
   "source": []
  }
 ],
 "metadata": {
  "colab": {
   "authorship_tag": "ABX9TyM7mAe/T7OGEd2tg89Mopv0",
   "provenance": []
  },
  "kernelspec": {
   "display_name": "base",
   "language": "python",
   "name": "python3"
  },
  "language_info": {
   "codemirror_mode": {
    "name": "ipython",
    "version": 3
   },
   "file_extension": ".py",
   "mimetype": "text/x-python",
   "name": "python",
   "nbconvert_exporter": "python",
   "pygments_lexer": "ipython3",
   "version": "3.12.4"
  }
 },
 "nbformat": 4,
 "nbformat_minor": 0
}
