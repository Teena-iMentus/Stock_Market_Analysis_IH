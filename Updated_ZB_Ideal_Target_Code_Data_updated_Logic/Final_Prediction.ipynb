{
 "cells": [
  {
   "cell_type": "code",
   "execution_count": 66,
   "metadata": {},
   "outputs": [],
   "source": [
    "import pandas as pd\n",
    "pd.set_option('display.max_columns',40)\n",
    "import os\n",
    "os.chdir(r\"C:\\Users\\dell\\Desktop\\Updated_ZB\\Updated_ZB_dataset1_100%_prediction\")"
   ]
  },
  {
   "cell_type": "code",
   "execution_count": 67,
   "metadata": {},
   "outputs": [
    {
     "data": {
      "text/plain": [
       "['Processed_distnce_updated_ideal_target_1_version_abs_updated_ZB.csv',\n",
       " 'Processed_distnce_updated_ideal_target_1_version_updated_ZB.csv',\n",
       " 'trading_output_updated_ZB(1).csv',\n",
       " 'trading_output_updated_ZB(1)_abs.csv']"
      ]
     },
     "execution_count": 67,
     "metadata": {},
     "output_type": "execute_result"
    }
   ],
   "source": [
    "# Path to your data folder in Google Drive\n",
    "data_folder = r\"C:\\Users\\dell\\Desktop\\Updated_ZB\\Updated_ZB_dataset1_100%_prediction\"\n",
    "\n",
    "# List files in the specified folder to confirm access\n",
    "folder_path = os.path.join(data_folder)  # Update 'path_to_your_data_folder' with your actual folder path\n",
    "file_list = os.listdir(folder_path)\n",
    "file_list"
   ]
  },
  {
   "cell_type": "code",
   "execution_count": 68,
   "metadata": {},
   "outputs": [
    {
     "name": "stderr",
     "output_type": "stream",
     "text": [
      "C:\\Users\\dell\\AppData\\Local\\Temp\\ipykernel_12852\\3456341575.py:1: DtypeWarning: Columns (33) have mixed types. Specify dtype option on import or set low_memory=False.\n",
      "  s = pd.read_csv(\"Processed_distnce_updated_ideal_target_1_version_abs_updated_ZB.csv\")\n"
     ]
    }
   ],
   "source": [
    "s = pd.read_csv(\"Processed_distnce_updated_ideal_target_1_version_abs_updated_ZB.csv\")"
   ]
  },
  {
   "cell_type": "code",
   "execution_count": 69,
   "metadata": {},
   "outputs": [
    {
     "data": {
      "text/plain": [
       "Index(['Time Stamp', 'Open', 'High', 'Low', 'Close', 'SellersLevel4',\n",
       "       'SellersLevel3', 'SellersLevel2', 'SellersLevel1', 'SellersLevel0',\n",
       "       'BuyersLevel0', 'BuyersLevel1', 'BuyersLevel2', 'BuyersLevel3',\n",
       "       'BuyersLevel4', 'BuyersInControlPrice', 'SellersInControlPrice',\n",
       "       'Entry', 'Defence', 'Stop', 'Target', 'Actual_100%_dis',\n",
       "       'Predicted_100%_dis', 'Actual_Ideal', 'Predicted_Ideal', 'Profit',\n",
       "       'Actual_ideal_profit', 'PIT_Profit_100', 'PIT_D_Profit_100',\n",
       "       'PIT_Loss_100', 'PIT_Defence_Target_100', 'PIT_Profit_Timestamp_100',\n",
       "       'PIT_D_Profit_Timestamp_100', 'PIT_Loss_Timestamp_100', 'Loss'],\n",
       "      dtype='object')"
      ]
     },
     "execution_count": 69,
     "metadata": {},
     "output_type": "execute_result"
    }
   ],
   "source": [
    "s.columns"
   ]
  },
  {
   "cell_type": "code",
   "execution_count": 70,
   "metadata": {},
   "outputs": [],
   "source": [
    "s.rename({'Actual_Ideal':'Actual_Ideal_Target'},inplace=True,axis=1)\n",
    "\n"
   ]
  },
  {
   "cell_type": "code",
   "execution_count": 25,
   "metadata": {},
   "outputs": [],
   "source": [
    "# s.rename({'Actual_10%_dis':'Actual_10%_'},inplace=True,axis=1)\n",
    "# s.rename({'Predicted_10%_dis':'Predicted_10%_'},inplace=True,axis=1)"
   ]
  },
  {
   "cell_type": "code",
   "execution_count": 43,
   "metadata": {},
   "outputs": [],
   "source": [
    "# s.rename({'Actual_20%_dis':'Actual_20%_'},inplace=True,axis=1)\n",
    "# s.rename({'Predicted_20%_dis':'Predicted_20%_'},inplace=True,axis=1)"
   ]
  },
  {
   "cell_type": "code",
   "execution_count": 59,
   "metadata": {},
   "outputs": [],
   "source": [
    "# s.rename({'Actual_50%_dis':'Actual_50%_'},inplace=True,axis=1)\n",
    "# s.rename({'Predicted_50%_dis':'Predicted_50%_'},inplace=True,axis=1)"
   ]
  },
  {
   "cell_type": "code",
   "execution_count": 75,
   "metadata": {},
   "outputs": [],
   "source": [
    "# s.rename({'Actual_80%_dis':'Actual_80%_'},inplace=True,axis=1)\n",
    "# s.rename({'Predicted_80%_dis':'Predicted_80%_'},inplace=True,axis=1)"
   ]
  },
  {
   "cell_type": "code",
   "execution_count": 71,
   "metadata": {},
   "outputs": [
    {
     "data": {
      "text/plain": [
       "Index(['Time Stamp', 'Open', 'High', 'Low', 'Close', 'SellersLevel4',\n",
       "       'SellersLevel3', 'SellersLevel2', 'SellersLevel1', 'SellersLevel0',\n",
       "       'BuyersLevel0', 'BuyersLevel1', 'BuyersLevel2', 'BuyersLevel3',\n",
       "       'BuyersLevel4', 'BuyersInControlPrice', 'SellersInControlPrice',\n",
       "       'Entry', 'Defence', 'Stop', 'Target', 'Actual_100%_dis',\n",
       "       'Predicted_100%_dis', 'Actual_Ideal_Target', 'Predicted_Ideal',\n",
       "       'Profit', 'Actual_ideal_profit', 'PIT_Profit_100', 'PIT_D_Profit_100',\n",
       "       'PIT_Loss_100', 'PIT_Defence_Target_100', 'PIT_Profit_Timestamp_100',\n",
       "       'PIT_D_Profit_Timestamp_100', 'PIT_Loss_Timestamp_100', 'Loss'],\n",
       "      dtype='object')"
      ]
     },
     "execution_count": 71,
     "metadata": {},
     "output_type": "execute_result"
    }
   ],
   "source": [
    "s.columns"
   ]
  },
  {
   "cell_type": "code",
   "execution_count": 72,
   "metadata": {},
   "outputs": [
    {
     "data": {
      "text/plain": [
       "(54768, 35)"
      ]
     },
     "execution_count": 72,
     "metadata": {},
     "output_type": "execute_result"
    }
   ],
   "source": [
    "s.shape"
   ]
  },
  {
   "cell_type": "code",
   "execution_count": 73,
   "metadata": {},
   "outputs": [
    {
     "data": {
      "text/plain": [
       "0"
      ]
     },
     "execution_count": 73,
     "metadata": {},
     "output_type": "execute_result"
    }
   ],
   "source": [
    "s.duplicated().sum()"
   ]
  },
  {
   "cell_type": "code",
   "execution_count": 95,
   "metadata": {},
   "outputs": [],
   "source": [
    "s.drop_duplicates(inplace=True,keep='first')"
   ]
  },
  {
   "cell_type": "code",
   "execution_count": 96,
   "metadata": {},
   "outputs": [
    {
     "data": {
      "text/plain": [
       "0"
      ]
     },
     "execution_count": 96,
     "metadata": {},
     "output_type": "execute_result"
    }
   ],
   "source": [
    "s.duplicated().sum()"
   ]
  },
  {
   "cell_type": "code",
   "execution_count": 97,
   "metadata": {},
   "outputs": [
    {
     "data": {
      "text/plain": [
       "Index(['Time Stamp', 'Open', 'High', 'Low', 'Close', 'SellersLevel4',\n",
       "       'SellersLevel3', 'SellersLevel2', 'SellersLevel1', 'SellersLevel0',\n",
       "       'BuyersLevel0', 'BuyersLevel1', 'BuyersLevel2', 'BuyersLevel3',\n",
       "       'BuyersLevel4', 'BuyersInControlPrice', 'SellersInControlPrice',\n",
       "       'Entry', 'Defence', 'Stop', 'Target', 'Actual_100%_dis',\n",
       "       'Predicted_100%_dis', 'Actual_Ideal_Target', 'Predicted_Ideal',\n",
       "       'Profit', 'Actual_ideal_profit', 'PIT_Profit_100', 'PIT_D_Profit_100',\n",
       "       'PIT_Loss_100', 'PIT_Defence_Target_100', 'PIT_Profit_Timestamp_100',\n",
       "       'PIT_D_Profit_Timestamp_100', 'PIT_Loss_Timestamp_100', 'Loss'],\n",
       "      dtype='object')"
      ]
     },
     "execution_count": 97,
     "metadata": {},
     "output_type": "execute_result"
    }
   ],
   "source": [
    "s.columns"
   ]
  },
  {
   "cell_type": "code",
   "execution_count": 74,
   "metadata": {},
   "outputs": [],
   "source": [
    "s.rename({'Profit':'Actual_Profit'},inplace=True,axis=1)\n",
    "s.rename({'Loss':'Actual_Loss'},inplace=True,axis=1)"
   ]
  },
  {
   "cell_type": "code",
   "execution_count": 75,
   "metadata": {},
   "outputs": [
    {
     "data": {
      "text/plain": [
       "Index(['Time Stamp', 'Open', 'High', 'Low', 'Close', 'SellersLevel4',\n",
       "       'SellersLevel3', 'SellersLevel2', 'SellersLevel1', 'SellersLevel0',\n",
       "       'BuyersLevel0', 'BuyersLevel1', 'BuyersLevel2', 'BuyersLevel3',\n",
       "       'BuyersLevel4', 'BuyersInControlPrice', 'SellersInControlPrice',\n",
       "       'Entry', 'Defence', 'Stop', 'Target', 'Actual_100%_dis',\n",
       "       'Predicted_100%_dis', 'Actual_Ideal_Target', 'Predicted_Ideal',\n",
       "       'Actual_Profit', 'Actual_ideal_profit', 'PIT_Profit_100',\n",
       "       'PIT_D_Profit_100', 'PIT_Loss_100', 'PIT_Defence_Target_100',\n",
       "       'PIT_Profit_Timestamp_100', 'PIT_D_Profit_Timestamp_100',\n",
       "       'PIT_Loss_Timestamp_100', 'Actual_Loss'],\n",
       "      dtype='object')"
      ]
     },
     "execution_count": 75,
     "metadata": {},
     "output_type": "execute_result"
    }
   ],
   "source": [
    "s.columns"
   ]
  },
  {
   "cell_type": "code",
   "execution_count": 76,
   "metadata": {},
   "outputs": [],
   "source": [
    "s.rename({'Predicted_Ideal':'Predicted_Ideal_Target'},inplace=True,axis=1)"
   ]
  },
  {
   "cell_type": "code",
   "execution_count": null,
   "metadata": {},
   "outputs": [],
   "source": [
    "# s.rename({'PIT_Profit_distnce':'PIT_Profit'},inplace=True,axis=1)\n",
    "# s.rename({'PIT_D_Profit_distnce':'PIT_D_Profit'},inplace=True,axis=1)\n",
    "# s.rename({'PIT_Loss_distnce':'PIT_Loss'},inplace=True,axis=1)\n",
    "# s.rename({'PIT_Ideal_Target_distnce':'PIT_Ideal_Target'},inplace=True,axis=1)"
   ]
  },
  {
   "cell_type": "code",
   "execution_count": 77,
   "metadata": {},
   "outputs": [
    {
     "data": {
      "text/plain": [
       "Index(['Time Stamp', 'Open', 'High', 'Low', 'Close', 'SellersLevel4',\n",
       "       'SellersLevel3', 'SellersLevel2', 'SellersLevel1', 'SellersLevel0',\n",
       "       'BuyersLevel0', 'BuyersLevel1', 'BuyersLevel2', 'BuyersLevel3',\n",
       "       'BuyersLevel4', 'BuyersInControlPrice', 'SellersInControlPrice',\n",
       "       'Entry', 'Defence', 'Stop', 'Target', 'Actual_100%_dis',\n",
       "       'Predicted_100%_dis', 'Actual_Ideal_Target', 'Predicted_Ideal_Target',\n",
       "       'Actual_Profit', 'Actual_ideal_profit', 'PIT_Profit_100',\n",
       "       'PIT_D_Profit_100', 'PIT_Loss_100', 'PIT_Defence_Target_100',\n",
       "       'PIT_Profit_Timestamp_100', 'PIT_D_Profit_Timestamp_100',\n",
       "       'PIT_Loss_Timestamp_100', 'Actual_Loss'],\n",
       "      dtype='object')"
      ]
     },
     "execution_count": 77,
     "metadata": {},
     "output_type": "execute_result"
    }
   ],
   "source": [
    "s.columns"
   ]
  },
  {
   "cell_type": "code",
   "execution_count": 78,
   "metadata": {},
   "outputs": [],
   "source": [
    "s.to_csv(r'C:\\Users\\dell\\Desktop\\Updated_ZB\\Updated_ZB_dataset1_100%_final\\Exp_dist_final_dataset1_updated_ZB_abs(100%).csv',index=False)"
   ]
  },
  {
   "cell_type": "code",
   "execution_count": 133,
   "metadata": {},
   "outputs": [],
   "source": [
    "s=pd.read_csv(\"C:\\\\Users\\\\dell\\\\Desktop\\\\Exp_Distance\\\\Exp_dist_dataset4_100%_final\\\\Exp_dist_final_dataset4.csv\")"
   ]
  },
  {
   "cell_type": "code",
   "execution_count": 134,
   "metadata": {},
   "outputs": [
    {
     "data": {
      "text/plain": [
       "Index(['Time Stamp', 'Open', 'High', 'Low', 'Close', 'SellersLevel4',\n",
       "       'SellersLevel3', 'SellersLevel2', 'SellersLevel1', 'SellersLevel0',\n",
       "       'BuyersLevel0', 'BuyersLevel1', 'BuyersLevel2', 'BuyersLevel3',\n",
       "       'BuyersLevel4', 'BuyersInControlPrice', 'SellersInControlPrice',\n",
       "       'Entry', 'Defence', 'Stop', 'Target', 'Actual_100%_', 'Predicted_100%_',\n",
       "       'Predicted_25%_', 'Predicted_50%_', 'Predicted_75%_',\n",
       "       'Actual_Ideal_Target', 'Predicted_Ideal_Target_25%',\n",
       "       'Predicted_Ideal_Target_50%', 'Predicted_Ideal_Target_75%',\n",
       "       'Predicted_Ideal_Target_100%', 'Profit', 'Actual_ideal_profit',\n",
       "       'PIT_Profit_25', 'PIT_D_Profit_25', 'PIT_Loss_25',\n",
       "       'PIT_Defence_Target_25', 'PIT_Profit_50', 'PIT_D_Profit_50',\n",
       "       'PIT_Loss_50', 'PIT_Defence_Target_50', 'PIT_Profit_75',\n",
       "       'PIT_D_Profit_75', 'PIT_Loss_75', 'PIT_Defence_Target_75',\n",
       "       'PIT_Profit_100', 'PIT_D_Profit_100', 'PIT_Loss_100',\n",
       "       'PIT_Defence_Target_100', 'Loss_25', 'Loss_50', 'Loss_75', 'Loss_100'],\n",
       "      dtype='object')"
      ]
     },
     "execution_count": 134,
     "metadata": {},
     "output_type": "execute_result"
    }
   ],
   "source": [
    "s.columns"
   ]
  },
  {
   "cell_type": "code",
   "execution_count": 135,
   "metadata": {},
   "outputs": [
    {
     "data": {
      "text/plain": [
       "0"
      ]
     },
     "execution_count": 135,
     "metadata": {},
     "output_type": "execute_result"
    }
   ],
   "source": [
    "s.duplicated().sum()"
   ]
  },
  {
   "cell_type": "code",
   "execution_count": 136,
   "metadata": {},
   "outputs": [
    {
     "data": {
      "text/plain": [
       "(1802, 53)"
      ]
     },
     "execution_count": 136,
     "metadata": {},
     "output_type": "execute_result"
    }
   ],
   "source": [
    "s.shape"
   ]
  },
  {
   "cell_type": "code",
   "execution_count": 137,
   "metadata": {},
   "outputs": [
    {
     "data": {
      "text/plain": [
       "Index(['Time Stamp', 'Open', 'High', 'Low', 'Close', 'SellersLevel4',\n",
       "       'SellersLevel3', 'SellersLevel2', 'SellersLevel1', 'SellersLevel0',\n",
       "       'BuyersLevel0', 'BuyersLevel1', 'BuyersLevel2', 'BuyersLevel3',\n",
       "       'BuyersLevel4', 'BuyersInControlPrice', 'SellersInControlPrice',\n",
       "       'Entry', 'Defence', 'Stop', 'Target', 'Actual_100%_', 'Predicted_100%_',\n",
       "       'Predicted_25%_', 'Predicted_50%_', 'Predicted_75%_',\n",
       "       'Actual_Ideal_Target', 'Predicted_Ideal_Target_25%',\n",
       "       'Predicted_Ideal_Target_50%', 'Predicted_Ideal_Target_75%',\n",
       "       'Predicted_Ideal_Target_100%', 'Profit', 'Actual_ideal_profit',\n",
       "       'PIT_Profit_25', 'PIT_D_Profit_25', 'PIT_Loss_25',\n",
       "       'PIT_Defence_Target_25', 'PIT_Profit_50', 'PIT_D_Profit_50',\n",
       "       'PIT_Loss_50', 'PIT_Defence_Target_50', 'PIT_Profit_75',\n",
       "       'PIT_D_Profit_75', 'PIT_Loss_75', 'PIT_Defence_Target_75',\n",
       "       'PIT_Profit_100', 'PIT_D_Profit_100', 'PIT_Loss_100',\n",
       "       'PIT_Defence_Target_100', 'Loss_25', 'Loss_50', 'Loss_75', 'Loss_100'],\n",
       "      dtype='object')"
      ]
     },
     "execution_count": 137,
     "metadata": {},
     "output_type": "execute_result"
    }
   ],
   "source": [
    "s.columns"
   ]
  },
  {
   "cell_type": "code",
   "execution_count": 138,
   "metadata": {},
   "outputs": [],
   "source": [
    "s.rename({'Profit':'Actual_Profit'},inplace=True,axis=1)\n",
    "s.rename({'Loss_100':'Actual_Loss'},inplace=True,axis=1)"
   ]
  },
  {
   "cell_type": "code",
   "execution_count": 139,
   "metadata": {},
   "outputs": [],
   "source": [
    "s.drop(columns=['Loss_25','Loss_50','Loss_75'],inplace=True,axis=1)"
   ]
  },
  {
   "cell_type": "code",
   "execution_count": 140,
   "metadata": {},
   "outputs": [],
   "source": [
    "s.drop(columns=['PIT_Defence_Target_100','PIT_Defence_Target_25','PIT_Defence_Target_50','PIT_Defence_Target_75'],inplace=True,axis=1)\n",
    "s.drop(columns=['Predicted_Ideal_Target_100%','Predicted_Ideal_Target_25%','Predicted_Ideal_Target_50%','Predicted_Ideal_Target_75%'],inplace=True,axis=1)"
   ]
  },
  {
   "cell_type": "code",
   "execution_count": 141,
   "metadata": {},
   "outputs": [
    {
     "data": {
      "text/plain": [
       "Index(['Time Stamp', 'Open', 'High', 'Low', 'Close', 'SellersLevel4',\n",
       "       'SellersLevel3', 'SellersLevel2', 'SellersLevel1', 'SellersLevel0',\n",
       "       'BuyersLevel0', 'BuyersLevel1', 'BuyersLevel2', 'BuyersLevel3',\n",
       "       'BuyersLevel4', 'BuyersInControlPrice', 'SellersInControlPrice',\n",
       "       'Entry', 'Defence', 'Stop', 'Target', 'Actual_100%_', 'Predicted_100%_',\n",
       "       'Predicted_25%_', 'Predicted_50%_', 'Predicted_75%_',\n",
       "       'Actual_Ideal_Target', 'Actual_Profit', 'Actual_ideal_profit',\n",
       "       'PIT_Profit_25', 'PIT_D_Profit_25', 'PIT_Loss_25', 'PIT_Profit_50',\n",
       "       'PIT_D_Profit_50', 'PIT_Loss_50', 'PIT_Profit_75', 'PIT_D_Profit_75',\n",
       "       'PIT_Loss_75', 'PIT_Profit_100', 'PIT_D_Profit_100', 'PIT_Loss_100',\n",
       "       'Actual_Loss'],\n",
       "      dtype='object')"
      ]
     },
     "execution_count": 141,
     "metadata": {},
     "output_type": "execute_result"
    }
   ],
   "source": [
    "s.columns"
   ]
  },
  {
   "cell_type": "code",
   "execution_count": 142,
   "metadata": {},
   "outputs": [],
   "source": [
    "import pandas as pd\n",
    "\n",
    "# Step 1: Rearrange columns in the desired order\n",
    "desired_order = ['Time Stamp','Open', 'High', 'Low', 'Close', 'SellersLevel4',\n",
    "       'SellersLevel3', 'SellersLevel2', 'SellersLevel1', 'SellersLevel0',\n",
    "       'BuyersLevel0', 'BuyersLevel1', 'BuyersLevel2', 'BuyersLevel3',\n",
    "       'BuyersLevel4', 'BuyersInControlPrice', 'SellersInControlPrice',\n",
    "       'Entry', 'Defence', 'Stop', 'Target','Actual_100%_','Predicted_100%_','Predicted_25%_','Predicted_50%_','Predicted_75%_','Actual_Profit', 'Actual_Loss','Actual_ideal_profit', 'PIT_Profit_25','PIT_Profit_50','PIT_Profit_75','PIT_Profit_100','PIT_D_Profit_25','PIT_D_Profit_50','PIT_D_Profit_75','PIT_D_Profit_100','PIT_Loss_25','PIT_Loss_50','PIT_Loss_75',\n",
    "       'PIT_Loss_100']\n",
    "       \n",
    "\n",
    "# Reorder DataFrame columns\n",
    "s = s[desired_order]"
   ]
  },
  {
   "cell_type": "code",
   "execution_count": 143,
   "metadata": {},
   "outputs": [
    {
     "data": {
      "text/plain": [
       "Index(['Time Stamp', 'Open', 'High', 'Low', 'Close', 'SellersLevel4',\n",
       "       'SellersLevel3', 'SellersLevel2', 'SellersLevel1', 'SellersLevel0',\n",
       "       'BuyersLevel0', 'BuyersLevel1', 'BuyersLevel2', 'BuyersLevel3',\n",
       "       'BuyersLevel4', 'BuyersInControlPrice', 'SellersInControlPrice',\n",
       "       'Entry', 'Defence', 'Stop', 'Target', 'Actual_100%_', 'Predicted_100%_',\n",
       "       'Predicted_25%_', 'Predicted_50%_', 'Predicted_75%_', 'Actual_Profit',\n",
       "       'Actual_Loss', 'Actual_ideal_profit', 'PIT_Profit_25', 'PIT_Profit_50',\n",
       "       'PIT_Profit_75', 'PIT_Profit_100', 'PIT_D_Profit_25', 'PIT_D_Profit_50',\n",
       "       'PIT_D_Profit_75', 'PIT_D_Profit_100', 'PIT_Loss_25', 'PIT_Loss_50',\n",
       "       'PIT_Loss_75', 'PIT_Loss_100'],\n",
       "      dtype='object')"
      ]
     },
     "execution_count": 143,
     "metadata": {},
     "output_type": "execute_result"
    }
   ],
   "source": [
    "s.columns"
   ]
  },
  {
   "cell_type": "code",
   "execution_count": 144,
   "metadata": {},
   "outputs": [],
   "source": [
    "s.to_csv('C:\\\\Users\\\\dell\\\\Desktop\\\\Exp_Distance\\\\Exp_dist_dataset4_100%_final\\\\Exp_dist_final_dataset4.csv',index=False)"
   ]
  }
 ],
 "metadata": {
  "kernelspec": {
   "display_name": "base",
   "language": "python",
   "name": "python3"
  },
  "language_info": {
   "codemirror_mode": {
    "name": "ipython",
    "version": 3
   },
   "file_extension": ".py",
   "mimetype": "text/x-python",
   "name": "python",
   "nbconvert_exporter": "python",
   "pygments_lexer": "ipython3",
   "version": "3.12.4"
  }
 },
 "nbformat": 4,
 "nbformat_minor": 2
}
