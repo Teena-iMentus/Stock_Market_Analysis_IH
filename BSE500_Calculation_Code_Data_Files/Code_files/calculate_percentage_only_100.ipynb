{
 "cells": [
  {
   "cell_type": "code",
   "execution_count": 25,
   "metadata": {},
   "outputs": [],
   "source": [
    "import pandas as pd\n",
    "pd.set_option('display.max_columns',40)\n",
    "import os\n",
    "os.chdir(\"C:\\\\Users\\\\dell\\\\Desktop\\\\Exp_BSE500\\\\Data\")"
   ]
  },
  {
   "cell_type": "code",
   "execution_count": 26,
   "metadata": {},
   "outputs": [
    {
     "data": {
      "text/plain": [
       "['7day_Exp(BSE500)_dataset_1.csv',\n",
       " '7day_Exp(BSE500)_dataset_2.csv',\n",
       " '7day_Exp(BSE500)_dataset_3.csv',\n",
       " '7day_Exp(BSE500)_dataset_4.csv']"
      ]
     },
     "execution_count": 26,
     "metadata": {},
     "output_type": "execute_result"
    }
   ],
   "source": [
    "# Path to your data folder in Google Drive\n",
    "data_folder = \"C:\\\\Users\\\\dell\\\\Desktop\\\\Exp_BSE500\\\\Data\"\n",
    "\n",
    "# List files in the specified folder to confirm access\n",
    "folder_path = os.path.join(data_folder)  # Update 'path_to_your_data_folder' with your actual folder path\n",
    "file_list = os.listdir(folder_path)\n",
    "file_list"
   ]
  },
  {
   "cell_type": "code",
   "execution_count": 27,
   "metadata": {},
   "outputs": [],
   "source": [
    "s = pd.read_csv('7day_Exp(BSE500)_dataset_4.csv')"
   ]
  },
  {
   "cell_type": "code",
   "execution_count": 28,
   "metadata": {},
   "outputs": [
    {
     "data": {
      "text/plain": [
       "(1777, 23)"
      ]
     },
     "execution_count": 28,
     "metadata": {},
     "output_type": "execute_result"
    }
   ],
   "source": [
    "s.shape"
   ]
  },
  {
   "cell_type": "code",
   "execution_count": 29,
   "metadata": {},
   "outputs": [
    {
     "data": {
      "text/plain": [
       "Index(['Time Stamp', 'Open', 'High', 'Low', 'Close', 'SellersLevel4',\n",
       "       'SellersLevel3', 'SellersLevel2', 'SellersLevel1', 'SellersLevel0',\n",
       "       'BuyersLevel0', 'BuyersLevel1', 'BuyersLevel2', 'BuyersLevel3',\n",
       "       'BuyersLevel4', 'BuyersInControlPrice', 'SellersInControlPrice',\n",
       "       'Entry', 'Defence', 'Stop', 'Target', 'Actual_100%_dis',\n",
       "       'Predicted_100%_dis'],\n",
       "      dtype='object')"
      ]
     },
     "execution_count": 29,
     "metadata": {},
     "output_type": "execute_result"
    }
   ],
   "source": [
    "s.columns"
   ]
  },
  {
   "cell_type": "code",
   "execution_count": 30,
   "metadata": {},
   "outputs": [
    {
     "data": {
      "text/plain": [
       "0"
      ]
     },
     "execution_count": 30,
     "metadata": {},
     "output_type": "execute_result"
    }
   ],
   "source": [
    "s.duplicated().sum()"
   ]
  },
  {
   "cell_type": "code",
   "execution_count": 7,
   "metadata": {},
   "outputs": [],
   "source": [
    "s.drop_duplicates(inplace=True,keep='first')"
   ]
  },
  {
   "cell_type": "code",
   "execution_count": 8,
   "metadata": {},
   "outputs": [
    {
     "data": {
      "text/plain": [
       "0"
      ]
     },
     "execution_count": 8,
     "metadata": {},
     "output_type": "execute_result"
    }
   ],
   "source": [
    "s.duplicated().sum()"
   ]
  },
  {
   "cell_type": "code",
   "execution_count": 31,
   "metadata": {},
   "outputs": [
    {
     "data": {
      "text/plain": [
       "(1777, 23)"
      ]
     },
     "execution_count": 31,
     "metadata": {},
     "output_type": "execute_result"
    }
   ],
   "source": [
    "s.shape"
   ]
  },
  {
   "cell_type": "code",
   "execution_count": 32,
   "metadata": {},
   "outputs": [
    {
     "name": "stdout",
     "output_type": "stream",
     "text": [
      "Saved processed file: C:\\Users\\dell\\Desktop\\Exp_BSE500\\7day_Exp_dataset4_100%_percentage\\Processed_100%_7day_Exp(BSE500)_dataset_4.csv\n"
     ]
    },
    {
     "name": "stderr",
     "output_type": "stream",
     "text": [
      "C:\\Users\\dell\\AppData\\Local\\Temp\\ipykernel_17528\\2495324440.py:20: FutureWarning: Setting an item of incompatible dtype is deprecated and will raise an error in a future version of pandas. Value '[36417.66 36417.66 36417.66 36417.66 36417.66 36417.66 36417.66 36417.66\n",
      " 36417.66 36417.66 36417.66 36417.66 36417.66 36417.66 36417.66 36417.66\n",
      " 36417.66 36417.66 36417.66 36417.66 36417.66 36417.66 36417.66 36417.66\n",
      " 36417.66 36417.66 36417.66 36417.66 36417.66 36417.66 36417.66 36417.66\n",
      " 36417.66 36417.66 36417.66 36417.66 36417.66 36417.66 36417.66 36417.66\n",
      " 36417.66 36417.66 36417.66 36417.66 36417.66 36417.66 36417.66 36417.66\n",
      " 36417.66 36417.66 36417.66 36417.66 36417.66 36417.66 36417.66 36417.66\n",
      " 36417.66 36417.66 36430.06 36430.06 36430.06 36442.93 37121.28 37121.28\n",
      " 37121.28 37121.28 37121.28 37121.28 37121.28 37121.28 37121.28 37121.28\n",
      " 37121.28 37121.28 37121.28 37121.28 37121.28 37079.64 36998.47 36958.63\n",
      " 36957.68 36957.68 36913.88 36913.88 36913.88 36910.31 36910.31 36910.31\n",
      " 36910.31 36910.31 36910.31 36910.31 36910.31 36899.3  36842.64 36836.69\n",
      " 36451.47 36451.47 36451.47 36451.47 36451.47 36451.47 36451.47 36451.47\n",
      " 36451.47 36451.47 36451.47 36451.47 36451.47 36451.47 36451.47 36451.47\n",
      " 36451.47 36451.47 36451.47 36451.47 36451.47 36451.47 36451.47 36451.47\n",
      " 36451.47 36312.34 36312.34 36312.34 36312.34 36312.34 36312.34 36299.51\n",
      " 36262.03 36199.22 36185.48 36173.44 36137.8  36137.8  36137.8  36137.8\n",
      " 36074.73 36074.73 35783.95 35783.95 35783.95 35783.95 35783.95 35783.95\n",
      " 35783.95 35783.95 35783.95 35783.95 35783.95 35783.95 35783.95 35783.95\n",
      " 35783.95 35783.95 35783.95 35783.95 35783.95 35783.95 35783.95 35783.95\n",
      " 35783.95 35783.95 35783.95 35783.95 35783.95 35783.95 35696.92 35603.93\n",
      " 35556.79 35543.5  35503.27 35451.36 35265.26 35265.26 35265.26 35265.26\n",
      " 35265.26 35265.26 35265.26 35265.26 35265.26 35265.26 35265.26 35265.26\n",
      " 35265.26 35265.26 35265.26 35265.26 35265.26 35265.26 35265.26 35265.26\n",
      " 35265.26 35265.26 35265.26 35265.26 35265.26 35265.26 35265.26 35265.26\n",
      " 35265.26 35265.26 35265.26 35265.26 35265.26 35265.26 35265.26 35265.26\n",
      " 35265.26 35265.26 35265.26 35265.26 35265.26 35265.26 35265.26 35265.26\n",
      " 35265.26 35265.26 35265.26 35265.26 35265.26 35265.26 35265.26 35265.26\n",
      " 35265.26 35265.26 35265.26 35265.26 35265.26 35265.26 35265.26 35265.26\n",
      " 35265.26 35265.26 35265.26 35265.26 35265.26 35265.26 35265.26 35265.26\n",
      " 35265.26 35265.26 35265.26 35265.26 35265.26 35265.26 35265.26 35265.26\n",
      " 35265.26 35265.26 35265.26 35265.26 35265.26 35265.26 35265.26 35265.26\n",
      " 35265.26 35265.26 35265.26 35265.26 35265.26 35265.26 35265.26 35265.26\n",
      " 35265.26 35265.26 35265.26 35265.26 35295.14 35295.14 35295.14 35295.14\n",
      " 35295.14 35295.14 35295.14 35295.14 35295.14 35295.14 35295.14 35295.14\n",
      " 35340.52 35258.32 35258.32 35209.28 35209.28 35209.28 35209.28 35209.28\n",
      " 35209.28 35209.28 35209.28 35209.28 35209.28 35209.28 35209.28 35209.28\n",
      " 35209.28 35209.28 35209.28 35209.28 35209.28 35209.28 35209.28 35209.28\n",
      " 35209.28 35209.28 35209.28 35209.28 35209.28 35209.28 35209.28 35209.28\n",
      " 35209.28 35209.28 35209.28 35209.28 35209.28 35209.28 35209.28 35209.28\n",
      " 35209.28 35209.28 35209.28 35209.28 35209.28]' has dtype incompatible with int64, please explicitly cast to a compatible dtype first.\n",
      "  s2.loc[sellers_condition, 'Actual_Ideal'] = s2['Target'] + s2['Actual_100%_dis']\n",
      "C:\\Users\\dell\\AppData\\Local\\Temp\\ipykernel_17528\\2495324440.py:21: FutureWarning: Setting an item of incompatible dtype is deprecated and will raise an error in a future version of pandas. Value '[37105.7044 37095.6148 37864.8808 37864.8808 37643.04   37538.5884\n",
      " 37520.2884 37520.2884 37520.2884 37608.3492 37651.3792 37686.2596\n",
      " 37798.2712 37608.3492 37538.5884 37525.9884 37538.5884 37525.9884\n",
      " 37538.5884 37538.5884 37538.5884 37062.4256 37438.3374 37438.3374\n",
      " 37523.3776 37664.4168 36776.0008 36790.0734 36801.3628 36822.316\n",
      " 36805.2528 36548.5322 36480.3114 36486.223  36451.202  36687.846\n",
      " 36574.5626 36678.4554 36607.1498 36585.761  36206.8554 36118.683\n",
      " 36120.2538 36114.407  35325.285  35349.205  35343.8554 35353.6532\n",
      " 35325.1042 35334.2122 35379.6364 35379.6364 35399.7154 35399.7154\n",
      " 35412.0622 35419.1304 35504.4912 35537.6362 35393.2842 35373.2052\n",
      " 35449.1438 35533.8102 36119.4256 36121.2932 36121.2932 37118.8066\n",
      " 37118.5554 37034.9622 37044.0822 37041.9566 37059.9338 37070.3074\n",
      " 37085.5176 37087.8554 37081.352  37090.2034 37076.819  37077.551\n",
      " 37077.795  36984.879  37082.431  37094.5332 37084.9712 37095.0006\n",
      " 37103.4938 37119.5094 37123.98   37116.1648 37121.2174 37118.3202\n",
      " 37112.0722 37114.6058 37111.1788 37089.794  37068.1452 37076.3456\n",
      " 36935.2184 36870.4008 37088.8186 37097.8986 37090.8062 37006.6464\n",
      " 36872.5902 36843.3882 36772.0402 36700.4992 36610.444  36615.263\n",
      " 36888.1524 36823.3252 36824.4368 36792.0232 36824.4368 36792.0232\n",
      " 36792.0232 36762.3222 36692.221  36663.077  36661.0734 37107.0874\n",
      " 37108.0634 37103.066  37101.733  37107.6484 37060.457  37078.3586\n",
      " 37076.9762 37078.9654 37103.9868 37104.1576 37092.5246 37098.3198\n",
      " 37094.6598 37093.9278 37104.2374 37116.7556 37102.5174 37112.0426\n",
      " 37073.4158 37098.955  37102.678  37102.0186 37097.8964 37068.3406\n",
      " 37068.3406 37090.6742 37091.8002 37091.6626 37092.2708 37070.7384\n",
      " 37071.9584 37118.5118 37076.2574 37078.6974 37088.6116 37067.0422\n",
      " 37075.765  37082.4438 36480.2178 36526.6186 36527.414  36490.1702\n",
      " 36310.4122 36359.6346 36359.6346 36359.6346 36228.66   36228.66\n",
      " 36228.66   35226.0332 35233.2918 35453.294  35448.3932 35453.294\n",
      " 35447.2172 35447.5412 35447.2172 35836.973  35743.738  35521.5392\n",
      " 36475.399  36465.1046 36474.7754 36475.0012 36474.7754 36475.0012\n",
      " 36475.0012 36476.5078 36475.0012 36476.066  36500.0874 36500.0874\n",
      " 36452.9254 36452.9254 36452.9254 36453.9116 35588.7868 35592.7468\n",
      " 35639.4448 35641.7488 35607.3272 35612.9006 35602.8226 35579.4472\n",
      " 35579.4472 35602.8828 35602.8828 35609.4908 35594.3758 35588.6718\n",
      " 35566.0278 35522.4678 35530.6614 35530.6614 35458.228  35480.3154\n",
      " 35480.3154 35592.7146 35504.9096 35928.4804 35831.238  35830.1136\n",
      " 35957.0186 35923.3028 35922.0762 35886.9    35878.454  35796.2024\n",
      " 35798.0476 35794.599  35799.761  35806.5194 35805.1184 35802.289\n",
      " 35798.8442 35798.1744 35799.6416 35809.5416 35793.0502 35782.9382\n",
      " 35682.3026 35711.6272 35686.8872 35749.5914 35737.5342 35747.6494\n",
      " 35740.5926 35677.941  35700.0772 35699.776  35699.5752 35749.3068\n",
      " 35749.2064 35737.0364 35744.5584 35744.5584 35694.7802 35736.532\n",
      " 35730.0854 35726.4912 35686.4576 35686.9578 35742.573  35749.369\n",
      " 35754.9888 35748.8106 35741.6384 35691.0006 35356.831  35357.0258\n",
      " 35360.7152 35361.4316 35361.4316 35361.2038 35361.4316 35360.976\n",
      " 35361.2038 35361.4316 35361.4316 35361.4316 35368.7656 35561.6564\n",
      " 35563.7468 35598.084  35545.8024 35563.4544 35510.966  35295.206\n",
      " 35295.4338 35295.4338 35295.5268 35295.1622 35295.1622 35295.1622\n",
      " 35295.1622 35298.5282 35298.1614 35298.1614 35347.3332 35346.9686\n",
      " 35347.2028 35345.6332 35330.8916 35330.136  35330.3766 35330.3766\n",
      " 35330.3766 35331.1128 35329.9036 35331.4846 35336.4668 35346.6168\n",
      " 35347.3332 35332.3606 35346.6654 35347.7794 35353.158  35340.0316\n",
      " 35352.9962 35340.0316 35354.0708 35354.0708 35354.0708 35333.3064\n",
      " 35306.9762]' has dtype incompatible with int64, please explicitly cast to a compatible dtype first.\n",
      "  s2.loc[sellers_condition, 'Predicted_Ideal'] = s2['Target'] + s2['Predicted_100%_dis']\n"
     ]
    }
   ],
   "source": [
    "import os\n",
    "import pandas as pd\n",
    "\n",
    "def process_specific_file(input_directory, output_directory, target_filename):\n",
    "    # Ensure the output directory exists\n",
    "    os.makedirs(output_directory, exist_ok=True)\n",
    "\n",
    "    # Define the specific file to process\n",
    "    filepath = os.path.join(input_directory, target_filename)\n",
    "\n",
    "    # Load the DataFrame\n",
    "    s2 = pd.read_csv(filepath)\n",
    "\n",
    "    # Apply calculations based on control prices and entry values\n",
    "    s2['Actual_Ideal'] = 0\n",
    "    s2['Predicted_Ideal'] = 0\n",
    "\n",
    "    # Apply calculations for SellersInControlPrice\n",
    "    sellers_condition = (s2['SellersInControlPrice'] != 0) & (s2['Entry'] != 0)\n",
    "    s2.loc[sellers_condition, 'Actual_Ideal'] = s2['Target'] + s2['Actual_100%_dis']\n",
    "    s2.loc[sellers_condition, 'Predicted_Ideal'] = s2['Target'] + s2['Predicted_100%_dis']\n",
    "\n",
    "    # Apply calculations for BuyersInControlPrice\n",
    "    buyers_condition = (s2['BuyersInControlPrice'] != 0) & (s2['Entry'] != 0)\n",
    "    s2.loc[buyers_condition, 'Actual_Ideal'] = s2['Target'] + s2['Actual_100%_dis']\n",
    "    s2.loc[buyers_condition, 'Predicted_Ideal'] = s2['Target'] + s2['Predicted_100%_dis']\n",
    "\n",
    "    # Save the modified DataFrame to the output directory\n",
    "    output_filepath = os.path.join(output_directory, f'Processed_100%_{target_filename}')\n",
    "    s2.to_csv(output_filepath, index=False)\n",
    "\n",
    "    print(f'Saved processed file: {output_filepath}')\n",
    "\n",
    "# Example usage:\n",
    "\n",
    "output_directory = 'C:\\\\Users\\\\dell\\\\Desktop\\\\Exp_BSE500\\\\7day_Exp_dataset4_100%_percentage'\n",
    "target_filename = '7day_Exp(BSE500)_dataset_4.csv'\n",
    "\n",
    "process_specific_file(data_folder, output_directory, target_filename)"
   ]
  },
  {
   "cell_type": "code",
   "execution_count": 1,
   "metadata": {},
   "outputs": [],
   "source": [
    "import pandas as pd\n",
    "pd.set_option('display.max_columns',40)\n",
    "import os\n",
    "os.chdir(\"C:\\\\Users\\\\dell\\\\Desktop\\\\Non_imputed\\\\Data\")"
   ]
  },
  {
   "cell_type": "code",
   "execution_count": 2,
   "metadata": {},
   "outputs": [
    {
     "data": {
      "text/plain": [
       "['newModeltest_Agressive_data_non_imputed (1).csv']"
      ]
     },
     "execution_count": 2,
     "metadata": {},
     "output_type": "execute_result"
    }
   ],
   "source": [
    "# Path to your data folder in Google Drive\n",
    "data_folder = \"C:\\\\Users\\\\dell\\\\Desktop\\\\Non_imputed\\\\Data\"\n",
    "\n",
    "# List files in the specified folder to confirm access\n",
    "folder_path = os.path.join(data_folder)  # Update 'path_to_your_data_folder' with your actual folder path\n",
    "file_list = os.listdir(folder_path)\n",
    "file_list"
   ]
  },
  {
   "cell_type": "code",
   "execution_count": 3,
   "metadata": {},
   "outputs": [],
   "source": [
    "s = pd.read_csv('newModeltest_Agressive_data_non_imputed (1).csv')"
   ]
  },
  {
   "cell_type": "code",
   "execution_count": 4,
   "metadata": {},
   "outputs": [
    {
     "data": {
      "text/plain": [
       "(85172, 23)"
      ]
     },
     "execution_count": 4,
     "metadata": {},
     "output_type": "execute_result"
    }
   ],
   "source": [
    "s.shape"
   ]
  },
  {
   "cell_type": "code",
   "execution_count": 5,
   "metadata": {},
   "outputs": [
    {
     "data": {
      "text/plain": [
       "Index(['Time Stamp', 'Open', 'High', 'Low', 'Close', 'SellersLevel4',\n",
       "       'SellersLevel3', 'SellersLevel2', 'SellersLevel1', 'SellersLevel0',\n",
       "       'BuyersLevel0', 'BuyersLevel1', 'BuyersLevel2', 'BuyersLevel3',\n",
       "       'BuyersLevel4', 'BuyersInControlPrice', 'SellersInControlPrice',\n",
       "       'Entry', 'Defence', 'Stop', 'Target', 'Actual_100%_dis',\n",
       "       'Predicted_100%_dis'],\n",
       "      dtype='object')"
      ]
     },
     "execution_count": 5,
     "metadata": {},
     "output_type": "execute_result"
    }
   ],
   "source": [
    "s.columns"
   ]
  },
  {
   "cell_type": "code",
   "execution_count": 6,
   "metadata": {},
   "outputs": [
    {
     "data": {
      "text/plain": [
       "22"
      ]
     },
     "execution_count": 6,
     "metadata": {},
     "output_type": "execute_result"
    }
   ],
   "source": [
    "s.duplicated().sum()"
   ]
  },
  {
   "cell_type": "code",
   "execution_count": 7,
   "metadata": {},
   "outputs": [],
   "source": [
    "s.drop_duplicates(inplace=True,keep='first')"
   ]
  },
  {
   "cell_type": "code",
   "execution_count": 8,
   "metadata": {},
   "outputs": [
    {
     "data": {
      "text/plain": [
       "0"
      ]
     },
     "execution_count": 8,
     "metadata": {},
     "output_type": "execute_result"
    }
   ],
   "source": [
    "s.duplicated().sum()"
   ]
  },
  {
   "cell_type": "code",
   "execution_count": 9,
   "metadata": {},
   "outputs": [
    {
     "data": {
      "text/plain": [
       "(85150, 23)"
      ]
     },
     "execution_count": 9,
     "metadata": {},
     "output_type": "execute_result"
    }
   ],
   "source": [
    "s.shape"
   ]
  },
  {
   "cell_type": "code",
   "execution_count": 12,
   "metadata": {},
   "outputs": [
    {
     "name": "stderr",
     "output_type": "stream",
     "text": [
      "C:\\Users\\dell\\AppData\\Local\\Temp\\ipykernel_9428\\1781557659.py:20: FutureWarning: Setting an item of incompatible dtype is deprecated and will raise an error in a future version of pandas. Value '[4625.   4625.   4628.75 ... 5785.5  5785.5  5784.  ]' has dtype incompatible with int64, please explicitly cast to a compatible dtype first.\n",
      "  s2.loc[sellers_condition, 'Actual_Ideal'] = s2['Target'] - s2['Actual_100%_dis']\n",
      "C:\\Users\\dell\\AppData\\Local\\Temp\\ipykernel_9428\\1781557659.py:21: FutureWarning: Setting an item of incompatible dtype is deprecated and will raise an error in a future version of pandas. Value '[4662.275 4768.48  4722.82  ... 6592.37  6592.37  6590.87 ]' has dtype incompatible with int64, please explicitly cast to a compatible dtype first.\n",
      "  s2.loc[sellers_condition, 'Predicted_Ideal'] = s2['Target'] - s2['Predicted_100%_dis']\n"
     ]
    },
    {
     "name": "stdout",
     "output_type": "stream",
     "text": [
      "Saved processed file: C:\\Users\\dell\\Desktop\\Non_imputed\\Non_imputed_100%_calculation\\Processed_100%_newModeltest_Agressive_data_non_imputed (1).csv\n"
     ]
    }
   ],
   "source": [
    "import os\n",
    "import pandas as pd\n",
    "\n",
    "def process_specific_file(input_directory, output_directory, target_filename):\n",
    "    # Ensure the output directory exists\n",
    "    os.makedirs(output_directory, exist_ok=True)\n",
    "\n",
    "    # Define the specific file to process\n",
    "    filepath = os.path.join(input_directory, target_filename)\n",
    "\n",
    "    # Load the DataFrame\n",
    "    s2 = pd.read_csv(filepath)\n",
    "\n",
    "    # Apply calculations based on control prices and entry values\n",
    "    s2['Actual_Ideal'] = 0\n",
    "    s2['Predicted_Ideal'] = 0\n",
    "\n",
    "    # Apply calculations for SellersInControlPrice\n",
    "    sellers_condition = (s2['SellersInControlPrice'] != 0) & (s2['Entry'] != 0)\n",
    "    s2.loc[sellers_condition, 'Actual_Ideal'] = s2['Target'] - s2['Actual_100%_dis']\n",
    "    s2.loc[sellers_condition, 'Predicted_Ideal'] = s2['Target'] - s2['Predicted_100%_dis']\n",
    "\n",
    "    # Apply calculations for BuyersInControlPrice\n",
    "    buyers_condition = (s2['BuyersInControlPrice'] != 0) & (s2['Entry'] != 0)\n",
    "    s2.loc[buyers_condition, 'Actual_Ideal'] = s2['Target'] + s2['Actual_100%_dis']\n",
    "    s2.loc[buyers_condition, 'Predicted_Ideal'] = s2['Target'] + s2['Predicted_100%_dis']\n",
    "\n",
    "    # Save the modified DataFrame to the output directory\n",
    "    output_filepath = os.path.join(output_directory, f'Processed_100%_{target_filename}')\n",
    "    s2.to_csv(output_filepath, index=False)\n",
    "\n",
    "    print(f'Saved processed file: {output_filepath}')\n",
    "\n",
    "# Example usage:\n",
    "\n",
    "output_directory = 'C:\\\\Users\\\\dell\\\\Desktop\\\\Non_imputed\\\\Non_imputed_100%_calculation'\n",
    "target_filename = 'newModeltest_Agressive_data_non_imputed (1).csv'\n",
    "\n",
    "process_specific_file(data_folder, output_directory, target_filename)"
   ]
  },
  {
   "cell_type": "code",
   "execution_count": null,
   "metadata": {},
   "outputs": [],
   "source": []
  }
 ],
 "metadata": {
  "kernelspec": {
   "display_name": "base",
   "language": "python",
   "name": "python3"
  },
  "language_info": {
   "codemirror_mode": {
    "name": "ipython",
    "version": 3
   },
   "file_extension": ".py",
   "mimetype": "text/x-python",
   "name": "python",
   "nbconvert_exporter": "python",
   "pygments_lexer": "ipython3",
   "version": "3.12.4"
  }
 },
 "nbformat": 4,
 "nbformat_minor": 2
}
