{
 "cells": [
  {
   "cell_type": "code",
   "execution_count": 35,
   "metadata": {},
   "outputs": [],
   "source": [
    "import pandas as pd\n",
    "pd.set_option('display.max_columns',40)\n",
    "import os\n",
    "os.chdir(\"C:\\\\Users\\\\dell\\\\Desktop\\\\Experimental_Analysis\\\\Data\")"
   ]
  },
  {
   "cell_type": "code",
   "execution_count": 36,
   "metadata": {},
   "outputs": [
    {
     "data": {
      "text/plain": [
       "['7day_windowsize_Exp_dataset_2.csv',\n",
       " '7day_windowsize_Exp_dataset_3.csv',\n",
       " '7day_windowsize_Exp_dataset_4.csv',\n",
       " '7day_windowsze_Exp_dataset_1_BANKNIFTY.csv',\n",
       " 'Exp_dataset_1.csv',\n",
       " 'Exp_dataset_4.csv']"
      ]
     },
     "execution_count": 36,
     "metadata": {},
     "output_type": "execute_result"
    }
   ],
   "source": [
    "# Path to your data folder in Google Drive\n",
    "data_folder = \"C:\\\\Users\\\\dell\\\\Desktop\\\\Experimental_Analysis\\\\Data\"\n",
    "\n",
    "# List files in the specified folder to confirm access\n",
    "folder_path = os.path.join(data_folder)  # Update 'path_to_your_data_folder' with your actual folder path\n",
    "file_list = os.listdir(folder_path)\n",
    "file_list"
   ]
  },
  {
   "cell_type": "code",
   "execution_count": 37,
   "metadata": {},
   "outputs": [],
   "source": [
    "s = pd.read_csv('7day_windowsize_Exp_dataset_4.csv')"
   ]
  },
  {
   "cell_type": "code",
   "execution_count": 38,
   "metadata": {},
   "outputs": [
    {
     "data": {
      "text/plain": [
       "(1802, 23)"
      ]
     },
     "execution_count": 38,
     "metadata": {},
     "output_type": "execute_result"
    }
   ],
   "source": [
    "s.shape"
   ]
  },
  {
   "cell_type": "code",
   "execution_count": 39,
   "metadata": {},
   "outputs": [
    {
     "data": {
      "text/plain": [
       "Index(['Time Stamp', 'Open', 'High', 'Low', 'Close', 'SellersLevel4',\n",
       "       'SellersLevel3', 'SellersLevel2', 'SellersLevel1', 'SellersLevel0',\n",
       "       'BuyersLevel0', 'BuyersLevel1', 'BuyersLevel2', 'BuyersLevel3',\n",
       "       'BuyersLevel4', 'BuyersInControlPrice', 'SellersInControlPrice',\n",
       "       'Entry', 'Defence', 'Stop', 'Target', 'Actual_100%_dis',\n",
       "       'Predicted_100%_dis'],\n",
       "      dtype='object')"
      ]
     },
     "execution_count": 39,
     "metadata": {},
     "output_type": "execute_result"
    }
   ],
   "source": [
    "s.columns"
   ]
  },
  {
   "cell_type": "code",
   "execution_count": 40,
   "metadata": {},
   "outputs": [
    {
     "data": {
      "text/plain": [
       "0"
      ]
     },
     "execution_count": 40,
     "metadata": {},
     "output_type": "execute_result"
    }
   ],
   "source": [
    "s.duplicated().sum()"
   ]
  },
  {
   "cell_type": "code",
   "execution_count": 7,
   "metadata": {},
   "outputs": [],
   "source": [
    "s.drop_duplicates(inplace=True,keep='first')"
   ]
  },
  {
   "cell_type": "code",
   "execution_count": 8,
   "metadata": {},
   "outputs": [
    {
     "data": {
      "text/plain": [
       "0"
      ]
     },
     "execution_count": 8,
     "metadata": {},
     "output_type": "execute_result"
    }
   ],
   "source": [
    "s.duplicated().sum()"
   ]
  },
  {
   "cell_type": "code",
   "execution_count": 41,
   "metadata": {},
   "outputs": [
    {
     "data": {
      "text/plain": [
       "(1802, 23)"
      ]
     },
     "execution_count": 41,
     "metadata": {},
     "output_type": "execute_result"
    }
   ],
   "source": [
    "s.shape"
   ]
  },
  {
   "cell_type": "code",
   "execution_count": 42,
   "metadata": {},
   "outputs": [
    {
     "name": "stdout",
     "output_type": "stream",
     "text": [
      "Saved processed file: C:\\Users\\dell\\Desktop\\Experimental_Analysis\\7day_windowsize_Exp_dataset4_100%_percentage\\Processed_100%_7day_windowsize_Exp_dataset_4.csv\n"
     ]
    },
    {
     "name": "stderr",
     "output_type": "stream",
     "text": [
      "C:\\Users\\dell\\AppData\\Local\\Temp\\ipykernel_24856\\3404654076.py:20: FutureWarning: Setting an item of incompatible dtype is deprecated and will raise an error in a future version of pandas. Value '[50375.85 50375.85 50375.85 50375.85 50375.85 50375.85 50375.85 50375.85\n",
      " 50375.85 50375.85 50375.85 50375.85 50375.85 50375.85 50375.85 50375.85\n",
      " 50375.85 50375.85 50375.85 50375.85 50375.85 50375.85 50375.85 50375.85\n",
      " 50375.85 50375.85 50375.85 50375.85 50375.85 50375.85 50375.85 50375.85\n",
      " 50375.85 50375.85 50375.85 50375.85 50375.85 50375.85 50375.85 50375.85\n",
      " 50375.85 50375.85 50375.85 50375.85 50375.85 50375.85 50375.85 50375.85\n",
      " 50375.85 50375.85 50375.85 50375.85 50375.85 50375.85 50375.85 50375.85\n",
      " 50375.85 50375.85 50375.85 50375.85 50375.85 50375.85 50375.85 50375.85\n",
      " 50375.85 50375.85 50375.85 50375.85 50375.85 50375.85 50375.85 50375.85\n",
      " 50375.85 50375.85 50375.85 50375.85 50375.85 50375.85 50982.05 50982.05\n",
      " 50982.05 50982.05 50982.05 50982.05 50982.05 50982.05 50982.05 50982.05\n",
      " 50982.05 50982.05 50982.05 50982.05 50982.05 51072.3  51072.3  51072.3\n",
      " 51072.3  51072.3  51072.3  51072.3  51072.3  51072.3  51072.3  51072.3\n",
      " 51072.3  51072.3  51072.3  51072.3  51072.3  51072.3  51072.3  51072.3\n",
      " 51072.3  51072.3  51072.3  51072.3  51072.3  51072.3  51072.3  51072.3\n",
      " 51072.3  51072.3  51072.3  51072.3  51072.3  51072.3  51072.3  51072.3\n",
      " 51072.3  51072.3  51072.3  51072.3  51072.3  51072.3  51072.3  51072.3\n",
      " 51072.3  51072.3  51072.3  51072.3  51072.3  51072.3  51072.3  51072.3\n",
      " 51072.3  51072.3  51072.3  51072.3  51072.3  51072.3  51072.3  51072.3\n",
      " 50415.05 50415.05 50415.05 50415.05 50415.05 50415.05 50415.05 50415.05\n",
      " 50415.05 50415.05 50415.05 50415.05 50415.05 50415.05 50415.05 50415.05\n",
      " 50415.05 50415.05 50415.05 50415.05 50415.05 50415.05 50415.05 50415.05\n",
      " 50415.05 50415.05 50415.05 50415.05 50415.05 50415.05 50415.05 50415.05\n",
      " 50415.05 50415.05 50415.05 50415.05 50415.05 50415.05 50415.05 50415.05\n",
      " 50415.05 50415.05 50415.05 50415.05 50415.05 50415.05 50415.05 50415.05\n",
      " 50415.05 50415.05 50415.05 50415.05 50415.05 50415.05 50415.05 50415.05\n",
      " 50415.05 50415.05 50415.05 50415.05 50415.05 50415.05 50415.05 50415.05\n",
      " 50415.05 50415.05 50415.05 50415.05 50415.05 50415.05 50415.05 50415.05\n",
      " 50415.05 50415.05 50415.05 50415.05 50415.05 50415.05 50415.05 50415.05\n",
      " 50415.05 50415.05 50415.05 50415.05 50415.05 50415.05 50415.05 50415.05\n",
      " 50415.05 50415.05 50415.05 50415.05 50415.05 50415.05 50415.05 50415.05\n",
      " 50415.05 50415.05 50415.05 50415.05 50415.05 50415.05 50415.05 50415.05\n",
      " 50415.05 50415.05 50415.05 50415.05 50415.05 50415.05 50415.05 50415.05\n",
      " 50415.05 50415.05 50415.05 50415.05 50415.05 50415.05 50415.05 50415.05\n",
      " 50415.05 50415.05 50415.05 50415.05 50415.05 50415.05 50415.05 51078.1\n",
      " 51078.1  51078.1  51078.1  51078.1  51078.1  51078.1  51078.1  51078.1\n",
      " 51078.1  51078.1  51078.1  51078.1  51078.1  50940.95 50940.95 50940.95\n",
      " 50940.95 50940.95 50940.95 50940.95 50940.95 50940.95 50940.95 50940.95\n",
      " 50940.95 50940.95 50940.95 50940.95 50940.95 50940.95 50940.95 50940.95\n",
      " 50940.95 50940.95 50940.95 50940.95 50940.95 50940.95 50940.95 50940.95\n",
      " 50940.95 50940.95 50940.95 50940.95 50940.95 50940.95 50940.95 50940.95\n",
      " 50940.95 50940.95 50940.95 50940.95 50940.95 51016.25]' has dtype incompatible with int64, please explicitly cast to a compatible dtype first.\n",
      "  s2.loc[sellers_condition, 'Actual_Ideal'] = s2['Target'] + s2['Actual_100%_dis']\n",
      "C:\\Users\\dell\\AppData\\Local\\Temp\\ipykernel_24856\\3404654076.py:21: FutureWarning: Setting an item of incompatible dtype is deprecated and will raise an error in a future version of pandas. Value '[51126.569 51108.953 51121.54  51045.95  51045.95  51045.95  51045.95\n",
      " 51049.802 50998.059 51003.14  51354.311 51354.311 51354.311 51354.311\n",
      " 52223.959 52223.959 52196.809 52402.499 52429.649 52402.499 52248.915\n",
      " 52276.665 52402.085 52402.085 52402.085 52402.085 52402.085 52402.085\n",
      " 52402.085 52388.435 52258.829 52098.035 52119.167 52218.159 52280.032\n",
      " 52230.045 51783.115 51799.003 51808.244 51811.979 51809.74  51805.34\n",
      " 51801.674 51702.415 51678.265 51676.355 51676.355 51678.265 51456.223\n",
      " 51488.817 51488.817 51488.817 51488.817 51302.725 51240.198 51240.198\n",
      " 51240.198 51234.068 51234.068 50658.309 50177.631 50188.106 50135.307\n",
      " 50139.223 50201.555 50123.965 50135.608 50136.002 50107.435 50181.821\n",
      " 50181.982 50300.937 50223.361 50407.555 50648.214 51003.322 50987.327\n",
      " 50906.267 50940.515 50939.52  50931.818 50927.32  50927.32  50927.141\n",
      " 50921.97  50971.429 50913.01  50912.249 50911.718 50914.101 50937.288\n",
      " 50914.785 50938.906 50398.234 50398.234 51035.672 50058.623 49975.628\n",
      " 49948.903 49987.785 49942.533 50001.514 50004.59  50078.674 50367.792\n",
      " 50452.937 50452.937 50393.932 50393.932 50429.424 50429.424 50429.424\n",
      " 50466.945 50411.345 50411.345 50470.35  50470.545 50411.345 50411.345\n",
      " 50411.345 50411.345 50411.345 50411.345 50411.345 50412.173 50353.723\n",
      " 50334.793 50334.793 50334.793 50334.793 50334.793 50334.793 50334.793\n",
      " 50163.181 50201.69  50213.976 49925.354 49991.304 49991.304 49925.354\n",
      " 49931.72  50172.492 49927.549 49936.732 50144.659 50235.557 50331.532\n",
      " 50302.883 50194.732 50191.968 50190.007 50314.119 50145.92  50575.754\n",
      " 50542.992 50539.355 50514.768 50359.832 50401.59  50391.754 50370.55\n",
      " 50337.083 50326.563 50332.445 50317.646 50317.646 50310.144 50332.445\n",
      " 50367.586 50336.399 50367.586 50367.586 50367.586 50367.586 50410.804\n",
      " 50410.804 50376.754 50360.605 50366.918 50328.792 50435.416 50283.705\n",
      " 50283.9   50283.9   50282.475 50300.99  50300.99  50075.588 50069.977\n",
      " 49855.804 49857.735 49855.804 49841.581 49873.016 50048.304 50706.148\n",
      " 50719.884 50353.458 50391.268 50286.967 50288.851 50405.699 50290.735\n",
      " 50298.718 50285.083 50285.083 50293.642 50286.967 50429.942 50432.872\n",
      " 50433.13  50531.377 50703.137 50692.576 50564.296 50494.214 50645.67\n",
      " 50774.801 50702.95  50548.611 50428.103 50469.779 50462.308 50632.619\n",
      " 50678.607 50774.801 50475.387 50475.129 50619.718 50829.359 50838.093\n",
      " 50625.668 50171.301 50183.573 50110.226 50087.072 50086.147 50112.128\n",
      " 50080.431 50091.859 50088.546 50106.999 50049.7   50083.7   50030.944\n",
      " 50032.458 50081.248 50049.7   50081.248 50083.7   50030.944 50030.944\n",
      " 50031.972 50125.179 50112.659 50164.725 49773.927 49773.927 49773.927\n",
      " 49773.927 49773.927 49773.927 49773.927 49773.927 49773.927 49773.927\n",
      " 49816.12  49817.764 49817.764 49817.764 49816.12  49816.12  49816.12\n",
      " 49816.12  49816.12  49816.12  49817.236 49819.626 49819.626 50799.78\n",
      " 50798.459 50805.639 50765.487 50788.822 50632.121 50801.527 50878.673\n",
      " 50715.156 50541.765 50431.81  50403.073 50494.445 50471.296 50044.737\n",
      " 49913.328 50030.178 50030.178 49913.328 50363.737 50391.169 50336.106\n",
      " 50336.106 50337.951 50331.28  50239.814 50187.463 49820.446 50013.33\n",
      " 50487.129 50537.987 50708.101 50700.79  50894.641 50880.703 50890.351\n",
      " 50894.183 50890.372 50886.349 50717.905 50542.442 50561.07  50662.806\n",
      " 50964.89  50919.926 50636.264 50874.131 50591.721 50825.884 50979.333\n",
      " 51001.876 51002.013 50946.257 50988.777 50959.672]' has dtype incompatible with int64, please explicitly cast to a compatible dtype first.\n",
      "  s2.loc[sellers_condition, 'Predicted_Ideal'] = s2['Target'] + s2['Predicted_100%_dis']\n"
     ]
    }
   ],
   "source": [
    "import os\n",
    "import pandas as pd\n",
    "\n",
    "def process_specific_file(input_directory, output_directory, target_filename):\n",
    "    # Ensure the output directory exists\n",
    "    os.makedirs(output_directory, exist_ok=True)\n",
    "\n",
    "    # Define the specific file to process\n",
    "    filepath = os.path.join(input_directory, target_filename)\n",
    "\n",
    "    # Load the DataFrame\n",
    "    s2 = pd.read_csv(filepath)\n",
    "\n",
    "    # Apply calculations based on control prices and entry values\n",
    "    s2['Actual_Ideal'] = 0\n",
    "    s2['Predicted_Ideal'] = 0\n",
    "\n",
    "    # Apply calculations for SellersInControlPrice\n",
    "    sellers_condition = (s2['SellersInControlPrice'] != 0) & (s2['Entry'] != 0)\n",
    "    s2.loc[sellers_condition, 'Actual_Ideal'] = s2['Target'] + s2['Actual_100%_dis']\n",
    "    s2.loc[sellers_condition, 'Predicted_Ideal'] = s2['Target'] + s2['Predicted_100%_dis']\n",
    "\n",
    "    # Apply calculations for BuyersInControlPrice\n",
    "    buyers_condition = (s2['BuyersInControlPrice'] != 0) & (s2['Entry'] != 0)\n",
    "    s2.loc[buyers_condition, 'Actual_Ideal'] = s2['Target'] + s2['Actual_100%_dis']\n",
    "    s2.loc[buyers_condition, 'Predicted_Ideal'] = s2['Target'] + s2['Predicted_100%_dis']\n",
    "\n",
    "    # Save the modified DataFrame to the output directory\n",
    "    output_filepath = os.path.join(output_directory, f'Processed_100%_{target_filename}')\n",
    "    s2.to_csv(output_filepath, index=False)\n",
    "\n",
    "    print(f'Saved processed file: {output_filepath}')\n",
    "\n",
    "# Example usage:\n",
    "\n",
    "output_directory = 'C:\\\\Users\\\\dell\\\\Desktop\\\\Experimental_Analysis\\\\7day_windowsize_Exp_dataset4_100%_percentage'\n",
    "target_filename = '7day_windowsize_Exp_dataset_4.csv'\n",
    "\n",
    "process_specific_file(data_folder, output_directory, target_filename)"
   ]
  },
  {
   "cell_type": "code",
   "execution_count": 1,
   "metadata": {},
   "outputs": [],
   "source": [
    "import pandas as pd\n",
    "pd.set_option('display.max_columns',40)\n",
    "import os\n",
    "os.chdir(\"C:\\\\Users\\\\dell\\\\Desktop\\\\Non_imputed\\\\Data\")"
   ]
  },
  {
   "cell_type": "code",
   "execution_count": 2,
   "metadata": {},
   "outputs": [
    {
     "data": {
      "text/plain": [
       "['newModeltest_Agressive_data_non_imputed (1).csv']"
      ]
     },
     "execution_count": 2,
     "metadata": {},
     "output_type": "execute_result"
    }
   ],
   "source": [
    "# Path to your data folder in Google Drive\n",
    "data_folder = \"C:\\\\Users\\\\dell\\\\Desktop\\\\Non_imputed\\\\Data\"\n",
    "\n",
    "# List files in the specified folder to confirm access\n",
    "folder_path = os.path.join(data_folder)  # Update 'path_to_your_data_folder' with your actual folder path\n",
    "file_list = os.listdir(folder_path)\n",
    "file_list"
   ]
  },
  {
   "cell_type": "code",
   "execution_count": 3,
   "metadata": {},
   "outputs": [],
   "source": [
    "s = pd.read_csv('newModeltest_Agressive_data_non_imputed (1).csv')"
   ]
  },
  {
   "cell_type": "code",
   "execution_count": 4,
   "metadata": {},
   "outputs": [
    {
     "data": {
      "text/plain": [
       "(85172, 23)"
      ]
     },
     "execution_count": 4,
     "metadata": {},
     "output_type": "execute_result"
    }
   ],
   "source": [
    "s.shape"
   ]
  },
  {
   "cell_type": "code",
   "execution_count": 5,
   "metadata": {},
   "outputs": [
    {
     "data": {
      "text/plain": [
       "Index(['Time Stamp', 'Open', 'High', 'Low', 'Close', 'SellersLevel4',\n",
       "       'SellersLevel3', 'SellersLevel2', 'SellersLevel1', 'SellersLevel0',\n",
       "       'BuyersLevel0', 'BuyersLevel1', 'BuyersLevel2', 'BuyersLevel3',\n",
       "       'BuyersLevel4', 'BuyersInControlPrice', 'SellersInControlPrice',\n",
       "       'Entry', 'Defence', 'Stop', 'Target', 'Actual_100%_dis',\n",
       "       'Predicted_100%_dis'],\n",
       "      dtype='object')"
      ]
     },
     "execution_count": 5,
     "metadata": {},
     "output_type": "execute_result"
    }
   ],
   "source": [
    "s.columns"
   ]
  },
  {
   "cell_type": "code",
   "execution_count": 6,
   "metadata": {},
   "outputs": [
    {
     "data": {
      "text/plain": [
       "22"
      ]
     },
     "execution_count": 6,
     "metadata": {},
     "output_type": "execute_result"
    }
   ],
   "source": [
    "s.duplicated().sum()"
   ]
  },
  {
   "cell_type": "code",
   "execution_count": 7,
   "metadata": {},
   "outputs": [],
   "source": [
    "s.drop_duplicates(inplace=True,keep='first')"
   ]
  },
  {
   "cell_type": "code",
   "execution_count": 8,
   "metadata": {},
   "outputs": [
    {
     "data": {
      "text/plain": [
       "0"
      ]
     },
     "execution_count": 8,
     "metadata": {},
     "output_type": "execute_result"
    }
   ],
   "source": [
    "s.duplicated().sum()"
   ]
  },
  {
   "cell_type": "code",
   "execution_count": 9,
   "metadata": {},
   "outputs": [
    {
     "data": {
      "text/plain": [
       "(85150, 23)"
      ]
     },
     "execution_count": 9,
     "metadata": {},
     "output_type": "execute_result"
    }
   ],
   "source": [
    "s.shape"
   ]
  },
  {
   "cell_type": "code",
   "execution_count": 12,
   "metadata": {},
   "outputs": [
    {
     "name": "stderr",
     "output_type": "stream",
     "text": [
      "C:\\Users\\dell\\AppData\\Local\\Temp\\ipykernel_9428\\1781557659.py:20: FutureWarning: Setting an item of incompatible dtype is deprecated and will raise an error in a future version of pandas. Value '[4625.   4625.   4628.75 ... 5785.5  5785.5  5784.  ]' has dtype incompatible with int64, please explicitly cast to a compatible dtype first.\n",
      "  s2.loc[sellers_condition, 'Actual_Ideal'] = s2['Target'] - s2['Actual_100%_dis']\n",
      "C:\\Users\\dell\\AppData\\Local\\Temp\\ipykernel_9428\\1781557659.py:21: FutureWarning: Setting an item of incompatible dtype is deprecated and will raise an error in a future version of pandas. Value '[4662.275 4768.48  4722.82  ... 6592.37  6592.37  6590.87 ]' has dtype incompatible with int64, please explicitly cast to a compatible dtype first.\n",
      "  s2.loc[sellers_condition, 'Predicted_Ideal'] = s2['Target'] - s2['Predicted_100%_dis']\n"
     ]
    },
    {
     "name": "stdout",
     "output_type": "stream",
     "text": [
      "Saved processed file: C:\\Users\\dell\\Desktop\\Non_imputed\\Non_imputed_100%_calculation\\Processed_100%_newModeltest_Agressive_data_non_imputed (1).csv\n"
     ]
    }
   ],
   "source": [
    "import os\n",
    "import pandas as pd\n",
    "\n",
    "def process_specific_file(input_directory, output_directory, target_filename):\n",
    "    # Ensure the output directory exists\n",
    "    os.makedirs(output_directory, exist_ok=True)\n",
    "\n",
    "    # Define the specific file to process\n",
    "    filepath = os.path.join(input_directory, target_filename)\n",
    "\n",
    "    # Load the DataFrame\n",
    "    s2 = pd.read_csv(filepath)\n",
    "\n",
    "    # Apply calculations based on control prices and entry values\n",
    "    s2['Actual_Ideal'] = 0\n",
    "    s2['Predicted_Ideal'] = 0\n",
    "\n",
    "    # Apply calculations for SellersInControlPrice\n",
    "    sellers_condition = (s2['SellersInControlPrice'] != 0) & (s2['Entry'] != 0)\n",
    "    s2.loc[sellers_condition, 'Actual_Ideal'] = s2['Target'] - s2['Actual_100%_dis']\n",
    "    s2.loc[sellers_condition, 'Predicted_Ideal'] = s2['Target'] - s2['Predicted_100%_dis']\n",
    "\n",
    "    # Apply calculations for BuyersInControlPrice\n",
    "    buyers_condition = (s2['BuyersInControlPrice'] != 0) & (s2['Entry'] != 0)\n",
    "    s2.loc[buyers_condition, 'Actual_Ideal'] = s2['Target'] + s2['Actual_100%_dis']\n",
    "    s2.loc[buyers_condition, 'Predicted_Ideal'] = s2['Target'] + s2['Predicted_100%_dis']\n",
    "\n",
    "    # Save the modified DataFrame to the output directory\n",
    "    output_filepath = os.path.join(output_directory, f'Processed_100%_{target_filename}')\n",
    "    s2.to_csv(output_filepath, index=False)\n",
    "\n",
    "    print(f'Saved processed file: {output_filepath}')\n",
    "\n",
    "# Example usage:\n",
    "\n",
    "output_directory = 'C:\\\\Users\\\\dell\\\\Desktop\\\\Non_imputed\\\\Non_imputed_100%_calculation'\n",
    "target_filename = 'newModeltest_Agressive_data_non_imputed (1).csv'\n",
    "\n",
    "process_specific_file(data_folder, output_directory, target_filename)"
   ]
  },
  {
   "cell_type": "code",
   "execution_count": null,
   "metadata": {},
   "outputs": [],
   "source": []
  }
 ],
 "metadata": {
  "kernelspec": {
   "display_name": "base",
   "language": "python",
   "name": "python3"
  },
  "language_info": {
   "codemirror_mode": {
    "name": "ipython",
    "version": 3
   },
   "file_extension": ".py",
   "mimetype": "text/x-python",
   "name": "python",
   "nbconvert_exporter": "python",
   "pygments_lexer": "ipython3",
   "version": "3.12.4"
  }
 },
 "nbformat": 4,
 "nbformat_minor": 2
}
