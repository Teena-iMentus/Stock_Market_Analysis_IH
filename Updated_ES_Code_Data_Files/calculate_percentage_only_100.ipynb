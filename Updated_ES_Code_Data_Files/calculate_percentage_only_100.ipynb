{
 "cells": [
  {
   "cell_type": "code",
   "execution_count": 1,
   "metadata": {},
   "outputs": [],
   "source": [
    "import pandas as pd\n",
    "pd.set_option('display.max_columns',40)\n",
    "import os\n",
    "os.chdir(r\"C:\\Users\\dell\\Desktop\\Updated_ES_Exp\\Data\")"
   ]
  },
  {
   "cell_type": "code",
   "execution_count": 2,
   "metadata": {},
   "outputs": [
    {
     "data": {
      "text/plain": [
       "['Updated_ES_Exp_Dataset3.csv',\n",
       " 'Updated_ES_Exp_Dataset4.csv',\n",
       " 'Updated_ES_Exp_dataset_1.csv',\n",
       " 'Updated_ES_Exp_dataset_2.csv']"
      ]
     },
     "execution_count": 2,
     "metadata": {},
     "output_type": "execute_result"
    }
   ],
   "source": [
    "# Path to your data folder in Google Drive\n",
    "data_folder = r\"C:\\Users\\dell\\Desktop\\Updated_ES_Exp\\Data\"\n",
    "\n",
    "# List files in the specified folder to confirm access\n",
    "folder_path = os.path.join(data_folder)  # Update 'path_to_your_data_folder' with your actual folder path\n",
    "file_list = os.listdir(folder_path)\n",
    "file_list"
   ]
  },
  {
   "cell_type": "code",
   "execution_count": 23,
   "metadata": {},
   "outputs": [],
   "source": [
    "s = pd.read_csv('Updated_ES_Exp_Dataset4.csv')"
   ]
  },
  {
   "cell_type": "code",
   "execution_count": 24,
   "metadata": {},
   "outputs": [
    {
     "data": {
      "text/plain": [
       "(1599, 23)"
      ]
     },
     "execution_count": 24,
     "metadata": {},
     "output_type": "execute_result"
    }
   ],
   "source": [
    "s.shape"
   ]
  },
  {
   "cell_type": "code",
   "execution_count": 25,
   "metadata": {},
   "outputs": [
    {
     "data": {
      "text/plain": [
       "Index(['Time Stamp', 'Open', 'High', 'Low', 'Close', 'SellersLevel4',\n",
       "       'SellersLevel3', 'SellersLevel2', 'SellersLevel1', 'SellersLevel0',\n",
       "       'BuyersLevel0', 'BuyersLevel1', 'BuyersLevel2', 'BuyersLevel3',\n",
       "       'BuyersLevel4', 'BuyersInControlPrice', 'SellersInControlPrice',\n",
       "       'Entry', 'Defence', 'Stop', 'Target', 'Actual_100%_dis',\n",
       "       'Predicted_100%_dis'],\n",
       "      dtype='object')"
      ]
     },
     "execution_count": 25,
     "metadata": {},
     "output_type": "execute_result"
    }
   ],
   "source": [
    "s.columns"
   ]
  },
  {
   "cell_type": "code",
   "execution_count": 26,
   "metadata": {},
   "outputs": [
    {
     "data": {
      "text/plain": [
       "0"
      ]
     },
     "execution_count": 26,
     "metadata": {},
     "output_type": "execute_result"
    }
   ],
   "source": [
    "s.duplicated().sum()"
   ]
  },
  {
   "cell_type": "code",
   "execution_count": 14,
   "metadata": {},
   "outputs": [],
   "source": [
    "s.drop_duplicates(inplace=True,keep='first')"
   ]
  },
  {
   "cell_type": "code",
   "execution_count": 15,
   "metadata": {},
   "outputs": [
    {
     "data": {
      "text/plain": [
       "0"
      ]
     },
     "execution_count": 15,
     "metadata": {},
     "output_type": "execute_result"
    }
   ],
   "source": [
    "s.duplicated().sum()"
   ]
  },
  {
   "cell_type": "code",
   "execution_count": 16,
   "metadata": {},
   "outputs": [
    {
     "data": {
      "text/plain": [
       "(41748, 23)"
      ]
     },
     "execution_count": 16,
     "metadata": {},
     "output_type": "execute_result"
    }
   ],
   "source": [
    "s.shape"
   ]
  },
  {
   "cell_type": "code",
   "execution_count": 27,
   "metadata": {},
   "outputs": [
    {
     "name": "stdout",
     "output_type": "stream",
     "text": [
      "Saved processed file: C:\\Users\\dell\\Desktop\\Updated_ES_Exp\\Updated_Es_dataset4_dist_100%_percentage\\Processed_100%_Updated_ES_Exp_Dataset4.csv\n"
     ]
    },
    {
     "name": "stderr",
     "output_type": "stream",
     "text": [
      "C:\\Users\\dell\\AppData\\Local\\Temp\\ipykernel_14224\\650245268.py:21: FutureWarning: Setting an item of incompatible dtype is deprecated and will raise an error in a future version of pandas. Value '[4826.185 4924.5   5405.54  5413.995 5403.29  5404.71  5356.265 5315.075\n",
      " 5330.    5310.525 5310.925 5310.86  5322.625 5315.33  5318.905 5319.545\n",
      " 5323.385 5351.98  5354.56  5323.18  5336.27  5304.195 5325.695 3418.76\n",
      " 4482.11  5025.25  5418.555 5422.085 5410.755 5401.68  5354.595 5348.025\n",
      " 5339.86  5303.495 5349.855 5369.175 5341.12  5388.24  5345.835 5346.93\n",
      " 5302.595 5329.075 5360.635 5348.94  5354.465 5386.025 5372.785 5350.34\n",
      " 5304.555 5323.485 3951.41  5348.34  5326.995 5310.96  5328.535 5307.62\n",
      " 5307.62  5307.455 5307.48  5307.62  5287.235 5313.295 4254.575 5287.34\n",
      " 5294.985 5297.975 5297.605 4293.845 4501.505 4399.06  4396.045 4292.975\n",
      " 4290.87  4397.025 4400.97  4577.575 4586.025 4241.49  4349.195 4337.83\n",
      " 4338.08  4364.94  4365.17  4579.26  4555.485 3610.16  4347.74  4357.49\n",
      " 4356.6   4357.015 4358.4   4146.87  4161.46  4156.3   4150.74  4159.38\n",
      " 4145.83  4146.015 4282.955 4279.445 4294.875 4291.38  4181.915 4175.19\n",
      " 4407.76  4407.6   4405.275 4396.59  4399.685 4396.115 4294.3   4293.31\n",
      " 4291.06  4292.175 4289.09  4396.47  4293.06  4175.7   4292.165 4397.055\n",
      " 4396.915 3569.195 4394.785 4158.215 5195.885 5195.2   5300.29  5297.855\n",
      " 4237.85  4243.82  4250.845 3043.585 4299.8   4293.56  4294.34  4404.805\n",
      " 4401.08  4402.35  4307.56  3578.785 3558.245 4289.605 4239.7   4228.405\n",
      " 4344.63  3613.19  3732.52  5333.465]' has dtype incompatible with int64, please explicitly cast to a compatible dtype first.\n",
      "  s2.loc[sellers_condition, 'Predicted_Ideal'] = s2['Target'] + s2['Predicted_100%_dis']\n",
      "C:\\Users\\dell\\AppData\\Local\\Temp\\ipykernel_14224\\650245268.py:25: FutureWarning: Setting an item of incompatible dtype is deprecated and will raise an error in a future version of pandas. Value '[5624.75 5624.75 5624.75 5624.75 5624.75 5624.75 5624.75 5624.75 5624.75\n",
      " 5614.75 5614.75 5614.75]' has dtype incompatible with int64, please explicitly cast to a compatible dtype first.\n",
      "  s2.loc[buyers_condition, 'Actual_Ideal'] = s2['Target'] + s2['Actual_100%_dis']\n"
     ]
    }
   ],
   "source": [
    "import os\n",
    "import pandas as pd\n",
    "\n",
    "def process_specific_file(input_directory, output_directory, target_filename):\n",
    "    # Ensure the output directory exists\n",
    "    os.makedirs(output_directory, exist_ok=True)\n",
    "\n",
    "    # Define the specific file to process\n",
    "    filepath = os.path.join(input_directory, target_filename)\n",
    "\n",
    "    # Load the DataFrame\n",
    "    s2 = pd.read_csv(filepath)\n",
    "\n",
    "    # Apply calculations based on control prices and entry values\n",
    "    s2['Actual_Ideal'] = 0\n",
    "    s2['Predicted_Ideal'] = 0\n",
    "\n",
    "    # Apply calculations for SellersInControlPrice\n",
    "    sellers_condition = (s2['SellersInControlPrice'] != 0) & (s2['Entry'] != 0)\n",
    "    s2.loc[sellers_condition, 'Actual_Ideal'] = s2['Target'] + s2['Actual_100%_dis']\n",
    "    s2.loc[sellers_condition, 'Predicted_Ideal'] = s2['Target'] + s2['Predicted_100%_dis']\n",
    "\n",
    "    # Apply calculations for BuyersInControlPrice\n",
    "    buyers_condition = (s2['BuyersInControlPrice'] != 0) & (s2['Entry'] != 0)\n",
    "    s2.loc[buyers_condition, 'Actual_Ideal'] = s2['Target'] + s2['Actual_100%_dis']\n",
    "    s2.loc[buyers_condition, 'Predicted_Ideal'] = s2['Target'] + s2['Predicted_100%_dis']\n",
    "\n",
    "    # Save the modified DataFrame to the output directory\n",
    "    output_filepath = os.path.join(output_directory, f'Processed_100%_{target_filename}')\n",
    "    s2.to_csv(output_filepath, index=False)\n",
    "\n",
    "    print(f'Saved processed file: {output_filepath}')\n",
    "\n",
    "# Example usage:\n",
    "\n",
    "output_directory = r'C:\\Users\\dell\\Desktop\\Updated_ES_Exp\\Updated_Es_dataset4_dist_100%_percentage'\n",
    "target_filename = 'Updated_ES_Exp_Dataset4.csv'\n",
    "\n",
    "process_specific_file(data_folder, output_directory, target_filename)"
   ]
  },
  {
   "cell_type": "code",
   "execution_count": 1,
   "metadata": {},
   "outputs": [],
   "source": [
    "import pandas as pd\n",
    "pd.set_option('display.max_columns',40)\n",
    "import os\n",
    "os.chdir(\"C:\\\\Users\\\\dell\\\\Desktop\\\\Non_imputed\\\\Data\")"
   ]
  },
  {
   "cell_type": "code",
   "execution_count": 2,
   "metadata": {},
   "outputs": [
    {
     "data": {
      "text/plain": [
       "['newModeltest_Agressive_data_non_imputed (1).csv']"
      ]
     },
     "execution_count": 2,
     "metadata": {},
     "output_type": "execute_result"
    }
   ],
   "source": [
    "# Path to your data folder in Google Drive\n",
    "data_folder = \"C:\\\\Users\\\\dell\\\\Desktop\\\\Non_imputed\\\\Data\"\n",
    "\n",
    "# List files in the specified folder to confirm access\n",
    "folder_path = os.path.join(data_folder)  # Update 'path_to_your_data_folder' with your actual folder path\n",
    "file_list = os.listdir(folder_path)\n",
    "file_list"
   ]
  },
  {
   "cell_type": "code",
   "execution_count": 3,
   "metadata": {},
   "outputs": [],
   "source": [
    "s = pd.read_csv('newModeltest_Agressive_data_non_imputed (1).csv')"
   ]
  },
  {
   "cell_type": "code",
   "execution_count": 4,
   "metadata": {},
   "outputs": [
    {
     "data": {
      "text/plain": [
       "(85172, 23)"
      ]
     },
     "execution_count": 4,
     "metadata": {},
     "output_type": "execute_result"
    }
   ],
   "source": [
    "s.shape"
   ]
  },
  {
   "cell_type": "code",
   "execution_count": 5,
   "metadata": {},
   "outputs": [
    {
     "data": {
      "text/plain": [
       "Index(['Time Stamp', 'Open', 'High', 'Low', 'Close', 'SellersLevel4',\n",
       "       'SellersLevel3', 'SellersLevel2', 'SellersLevel1', 'SellersLevel0',\n",
       "       'BuyersLevel0', 'BuyersLevel1', 'BuyersLevel2', 'BuyersLevel3',\n",
       "       'BuyersLevel4', 'BuyersInControlPrice', 'SellersInControlPrice',\n",
       "       'Entry', 'Defence', 'Stop', 'Target', 'Actual_100%_dis',\n",
       "       'Predicted_100%_dis'],\n",
       "      dtype='object')"
      ]
     },
     "execution_count": 5,
     "metadata": {},
     "output_type": "execute_result"
    }
   ],
   "source": [
    "s.columns"
   ]
  },
  {
   "cell_type": "code",
   "execution_count": 6,
   "metadata": {},
   "outputs": [
    {
     "data": {
      "text/plain": [
       "22"
      ]
     },
     "execution_count": 6,
     "metadata": {},
     "output_type": "execute_result"
    }
   ],
   "source": [
    "s.duplicated().sum()"
   ]
  },
  {
   "cell_type": "code",
   "execution_count": 7,
   "metadata": {},
   "outputs": [],
   "source": [
    "s.drop_duplicates(inplace=True,keep='first')"
   ]
  },
  {
   "cell_type": "code",
   "execution_count": 8,
   "metadata": {},
   "outputs": [
    {
     "data": {
      "text/plain": [
       "0"
      ]
     },
     "execution_count": 8,
     "metadata": {},
     "output_type": "execute_result"
    }
   ],
   "source": [
    "s.duplicated().sum()"
   ]
  },
  {
   "cell_type": "code",
   "execution_count": 9,
   "metadata": {},
   "outputs": [
    {
     "data": {
      "text/plain": [
       "(85150, 23)"
      ]
     },
     "execution_count": 9,
     "metadata": {},
     "output_type": "execute_result"
    }
   ],
   "source": [
    "s.shape"
   ]
  },
  {
   "cell_type": "code",
   "execution_count": 12,
   "metadata": {},
   "outputs": [
    {
     "name": "stderr",
     "output_type": "stream",
     "text": [
      "C:\\Users\\dell\\AppData\\Local\\Temp\\ipykernel_9428\\1781557659.py:20: FutureWarning: Setting an item of incompatible dtype is deprecated and will raise an error in a future version of pandas. Value '[4625.   4625.   4628.75 ... 5785.5  5785.5  5784.  ]' has dtype incompatible with int64, please explicitly cast to a compatible dtype first.\n",
      "  s2.loc[sellers_condition, 'Actual_Ideal'] = s2['Target'] - s2['Actual_100%_dis']\n",
      "C:\\Users\\dell\\AppData\\Local\\Temp\\ipykernel_9428\\1781557659.py:21: FutureWarning: Setting an item of incompatible dtype is deprecated and will raise an error in a future version of pandas. Value '[4662.275 4768.48  4722.82  ... 6592.37  6592.37  6590.87 ]' has dtype incompatible with int64, please explicitly cast to a compatible dtype first.\n",
      "  s2.loc[sellers_condition, 'Predicted_Ideal'] = s2['Target'] - s2['Predicted_100%_dis']\n"
     ]
    },
    {
     "name": "stdout",
     "output_type": "stream",
     "text": [
      "Saved processed file: C:\\Users\\dell\\Desktop\\Non_imputed\\Non_imputed_100%_calculation\\Processed_100%_newModeltest_Agressive_data_non_imputed (1).csv\n"
     ]
    }
   ],
   "source": [
    "import os\n",
    "import pandas as pd\n",
    "\n",
    "def process_specific_file(input_directory, output_directory, target_filename):\n",
    "    # Ensure the output directory exists\n",
    "    os.makedirs(output_directory, exist_ok=True)\n",
    "\n",
    "    # Define the specific file to process\n",
    "    filepath = os.path.join(input_directory, target_filename)\n",
    "\n",
    "    # Load the DataFrame\n",
    "    s2 = pd.read_csv(filepath)\n",
    "\n",
    "    # Apply calculations based on control prices and entry values\n",
    "    s2['Actual_Ideal'] = 0\n",
    "    s2['Predicted_Ideal'] = 0\n",
    "\n",
    "    # Apply calculations for SellersInControlPrice\n",
    "    sellers_condition = (s2['SellersInControlPrice'] != 0) & (s2['Entry'] != 0)\n",
    "    s2.loc[sellers_condition, 'Actual_Ideal'] = s2['Target'] - s2['Actual_100%_dis']\n",
    "    s2.loc[sellers_condition, 'Predicted_Ideal'] = s2['Target'] - s2['Predicted_100%_dis']\n",
    "\n",
    "    # Apply calculations for BuyersInControlPrice\n",
    "    buyers_condition = (s2['BuyersInControlPrice'] != 0) & (s2['Entry'] != 0)\n",
    "    s2.loc[buyers_condition, 'Actual_Ideal'] = s2['Target'] + s2['Actual_100%_dis']\n",
    "    s2.loc[buyers_condition, 'Predicted_Ideal'] = s2['Target'] + s2['Predicted_100%_dis']\n",
    "\n",
    "    # Save the modified DataFrame to the output directory\n",
    "    output_filepath = os.path.join(output_directory, f'Processed_100%_{target_filename}')\n",
    "    s2.to_csv(output_filepath, index=False)\n",
    "\n",
    "    print(f'Saved processed file: {output_filepath}')\n",
    "\n",
    "# Example usage:\n",
    "\n",
    "output_directory = 'C:\\\\Users\\\\dell\\\\Desktop\\\\Non_imputed\\\\Non_imputed_100%_calculation'\n",
    "target_filename = 'newModeltest_Agressive_data_non_imputed (1).csv'\n",
    "\n",
    "process_specific_file(data_folder, output_directory, target_filename)"
   ]
  },
  {
   "cell_type": "code",
   "execution_count": null,
   "metadata": {},
   "outputs": [],
   "source": []
  }
 ],
 "metadata": {
  "kernelspec": {
   "display_name": "base",
   "language": "python",
   "name": "python3"
  },
  "language_info": {
   "codemirror_mode": {
    "name": "ipython",
    "version": 3
   },
   "file_extension": ".py",
   "mimetype": "text/x-python",
   "name": "python",
   "nbconvert_exporter": "python",
   "pygments_lexer": "ipython3",
   "version": "3.12.4"
  }
 },
 "nbformat": 4,
 "nbformat_minor": 2
}
