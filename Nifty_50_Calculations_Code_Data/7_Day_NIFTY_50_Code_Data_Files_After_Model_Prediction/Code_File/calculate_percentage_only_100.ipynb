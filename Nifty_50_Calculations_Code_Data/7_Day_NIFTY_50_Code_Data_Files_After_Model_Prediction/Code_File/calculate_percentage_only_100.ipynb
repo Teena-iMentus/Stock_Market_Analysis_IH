{
 "cells": [
  {
   "cell_type": "code",
   "execution_count": 26,
   "metadata": {},
   "outputs": [],
   "source": [
    "import pandas as pd\n",
    "pd.set_option('display.max_columns',40)\n",
    "import os\n",
    "os.chdir(\"C:\\\\Users\\\\dell\\\\Desktop\\\\Exp_NIFTY50\\\\Data\")"
   ]
  },
  {
   "cell_type": "code",
   "execution_count": 27,
   "metadata": {},
   "outputs": [
    {
     "data": {
      "text/plain": [
       "['7day_Exp(NIFTY50)_dataset_1.csv',\n",
       " '7day_Exp(NIFTY50)_dataset_2.csv',\n",
       " '7day_Exp(NIFTY50)_dataset_3.csv',\n",
       " '7day_Exp(NIFTY50)_dataset_4.csv']"
      ]
     },
     "execution_count": 27,
     "metadata": {},
     "output_type": "execute_result"
    }
   ],
   "source": [
    "# Path to your data folder in Google Drive\n",
    "data_folder = \"C:\\\\Users\\\\dell\\\\Desktop\\\\Exp_NIFTY50\\\\Data\"\n",
    "\n",
    "# List files in the specified folder to confirm access\n",
    "folder_path = os.path.join(data_folder)  # Update 'path_to_your_data_folder' with your actual folder path\n",
    "file_list = os.listdir(folder_path)\n",
    "file_list"
   ]
  },
  {
   "cell_type": "code",
   "execution_count": 28,
   "metadata": {},
   "outputs": [],
   "source": [
    "s = pd.read_csv('7day_Exp(NIFTY50)_dataset_4.csv')"
   ]
  },
  {
   "cell_type": "code",
   "execution_count": 29,
   "metadata": {},
   "outputs": [
    {
     "data": {
      "text/plain": [
       "(1737, 23)"
      ]
     },
     "execution_count": 29,
     "metadata": {},
     "output_type": "execute_result"
    }
   ],
   "source": [
    "s.shape"
   ]
  },
  {
   "cell_type": "code",
   "execution_count": 30,
   "metadata": {},
   "outputs": [
    {
     "data": {
      "text/plain": [
       "Index(['Time Stamp', 'Open', 'High', 'Low', 'Close', 'SellersLevel4',\n",
       "       'SellersLevel3', 'SellersLevel2', 'SellersLevel1', 'SellersLevel0',\n",
       "       'BuyersLevel0', 'BuyersLevel1', 'BuyersLevel2', 'BuyersLevel3',\n",
       "       'BuyersLevel4', 'BuyersInControlPrice', 'SellersInControlPrice',\n",
       "       'Entry', 'Defence', 'Stop', 'Target', 'Actual_100%_dis',\n",
       "       'Predicted_100%_dis'],\n",
       "      dtype='object')"
      ]
     },
     "execution_count": 30,
     "metadata": {},
     "output_type": "execute_result"
    }
   ],
   "source": [
    "s.columns"
   ]
  },
  {
   "cell_type": "code",
   "execution_count": 31,
   "metadata": {},
   "outputs": [
    {
     "data": {
      "text/plain": [
       "0"
      ]
     },
     "execution_count": 31,
     "metadata": {},
     "output_type": "execute_result"
    }
   ],
   "source": [
    "s.duplicated().sum()"
   ]
  },
  {
   "cell_type": "code",
   "execution_count": 7,
   "metadata": {},
   "outputs": [],
   "source": [
    "s.drop_duplicates(inplace=True,keep='first')"
   ]
  },
  {
   "cell_type": "code",
   "execution_count": 8,
   "metadata": {},
   "outputs": [
    {
     "data": {
      "text/plain": [
       "0"
      ]
     },
     "execution_count": 8,
     "metadata": {},
     "output_type": "execute_result"
    }
   ],
   "source": [
    "s.duplicated().sum()"
   ]
  },
  {
   "cell_type": "code",
   "execution_count": 32,
   "metadata": {},
   "outputs": [
    {
     "data": {
      "text/plain": [
       "(1737, 23)"
      ]
     },
     "execution_count": 32,
     "metadata": {},
     "output_type": "execute_result"
    }
   ],
   "source": [
    "s.shape"
   ]
  },
  {
   "cell_type": "code",
   "execution_count": 33,
   "metadata": {},
   "outputs": [
    {
     "name": "stdout",
     "output_type": "stream",
     "text": [
      "Saved processed file: C:\\Users\\dell\\Desktop\\Exp_NIFTY50\\7day_Exp_dataset4_100%_percentage\\Processed_100%_7day_Exp(NIFTY50)_dataset_4.csv\n"
     ]
    },
    {
     "name": "stderr",
     "output_type": "stream",
     "text": [
      "C:\\Users\\dell\\AppData\\Local\\Temp\\ipykernel_5756\\2551375106.py:20: FutureWarning: Setting an item of incompatible dtype is deprecated and will raise an error in a future version of pandas. Value '[24703.65 24703.65 24703.65 24703.65 24703.65 24703.65 24703.65 24703.65\n",
      " 24703.65 24703.65 24703.65 24703.65 24703.65 24703.65 24703.65 24703.65\n",
      " 24703.65 24703.65 24703.65 24703.65 24703.65 24703.65 24703.65 24703.65\n",
      " 24703.65 24703.65 24703.65 24703.65 24703.65 24703.65 24703.65 24703.65\n",
      " 24703.65 24703.65 24703.65 24703.65 24703.65 24703.65 24703.65 24703.65\n",
      " 24703.65 24703.65 24703.65 24703.65 24703.65 24703.65 24703.65 24703.65\n",
      " 24703.65 24703.65 24703.65 24703.65 24703.65 24703.65 24703.65 24703.65\n",
      " 24703.65 24703.65 24703.65 24703.65 24786.35 24918.55 24918.55 24928.7\n",
      " 24918.55 24918.55 24918.55 24918.55 24918.55 24918.55 24918.55 24918.55\n",
      " 24918.55 24918.55 24918.55 24903.8  25001.9  25001.9  24821.7  24815.25\n",
      " 24790.95 24790.95 24780.8  24780.8  24780.8  24774.65 24928.7  24928.7\n",
      " 24774.65 24762.15 24928.7  24928.7  24928.7  24928.7  24738.6  24738.6\n",
      " 24738.6  24928.7  24928.7  24734.8  24734.8  24734.8  24573.   24573.\n",
      " 24573.   24573.   24573.   24573.   24573.   24573.   24573.   24573.\n",
      " 24573.   24573.   24573.   24573.   24573.   24573.   24573.   24573.\n",
      " 24573.   24573.   24573.   24573.   24573.   24573.   24573.   24573.\n",
      " 24573.   24573.   24573.   24573.   24573.   24573.   24573.   24573.\n",
      " 24573.   24573.   24573.   24573.   24573.   24573.   24573.   24573.\n",
      " 24573.   24573.   24573.   24573.   24573.   24573.   24573.   24573.\n",
      " 24573.   24573.   24573.   24573.   24573.   24573.   24568.35 24550.\n",
      " 24550.   24516.7  24449.35 24407.75 24407.75 24407.75 24407.75 24407.75\n",
      " 24407.75 25015.05 24407.75 24407.75 24407.75 24407.75 24407.75 24407.75\n",
      " 24407.75 24407.75 24407.75 24407.75 24407.75 24407.75 24407.75 24354.6\n",
      " 24354.6  24354.6  24354.6  24354.6  24354.6  24354.6  24354.6  24354.6\n",
      " 24354.6  24278.05 24250.85 24238.85 24208.95 24126.3  24126.3  24126.3\n",
      " 24126.3  24712.55 24083.8  24083.8  24083.8  24083.8  24083.8  24083.8\n",
      " 24083.8  24083.8  24083.8  24083.8  24083.8  24083.8  24083.8  24083.8\n",
      " 24083.8  24083.8  24083.8  24083.8  24083.8  24083.8  24083.8  24083.8\n",
      " 24083.8  24083.8  24083.8  24083.8  24083.8  24083.8  24083.8  24083.8\n",
      " 24083.8  24083.8  24083.8  24083.8  24083.8  24083.8  24083.8  24083.8\n",
      " 24083.8  24083.8  24083.8  24083.8  24083.8  24083.8  24083.8  24083.8\n",
      " 24083.8  24083.8  24083.8  24083.8  24083.8  24083.8  24083.8  24083.8\n",
      " 24083.8  24083.8  24083.8  24083.8  24083.8  24083.8  24083.8  24083.8\n",
      " 24083.8  24083.8  24083.8  24083.8  24083.8  24083.8  24083.8  24083.8\n",
      " 24083.8  24083.8  24083.8  24083.8  24083.8  24083.8  24083.8  24083.8\n",
      " 24083.8  24083.8  24083.8  23836.05 23836.05 23836.05 23836.05 23836.05\n",
      " 23836.05 23836.05 23836.05 23836.05 23836.05 23836.05 23836.05 23836.05\n",
      " 23836.05 23836.05 23836.05 23836.05 23836.05 23836.05 23836.05 23836.05\n",
      " 23836.05 23836.05 23836.05 23836.05 23836.05 23836.05 23836.05 23836.05]' has dtype incompatible with int64, please explicitly cast to a compatible dtype first.\n",
      "  s2.loc[sellers_condition, 'Actual_Ideal'] = s2['Target'] + s2['Actual_100%_dis']\n",
      "C:\\Users\\dell\\AppData\\Local\\Temp\\ipykernel_5756\\2551375106.py:21: FutureWarning: Setting an item of incompatible dtype is deprecated and will raise an error in a future version of pandas. Value '[24724.138 24722.476 24723.309 24722.477 24722.477 24722.477 24722.477\n",
      " 24722.477 24722.477 25634.582 25675.232 25675.232 25675.232 25634.582\n",
      " 25634.582 25634.582 25634.582 25634.582 25634.582 25675.232 25634.582\n",
      " 25634.582 25634.582 25634.582 25634.582 25639.443 25660.285 25378.94\n",
      " 25524.413 25501.811 25505.891 25513.252 24766.432 24808.206 24843.411\n",
      " 24846.034 24826.523 24733.175 24719.597 24636.101 24621.427 24656.024\n",
      " 24669.959 24567.384 24567.384 24670.223 24605.577 24494.777 24472.66\n",
      " 24303.424 24274.586 24294.079 24285.06  24260.146 24276.325 24274.586\n",
      " 24295.682 24264.672 24176.213 24107.907 24212.782 24736.343 24647.89\n",
      " 24648.169 24670.56  24670.56  24663.875 24715.014 24666.128 24652.962\n",
      " 24625.22  24652.962 24581.719 24618.866 24525.845 24459.722 24442.608\n",
      " 24448.608 24426.996 24426.996 24444.433 24441.696 24441.696 24426.996\n",
      " 24433.082 24431.408 24431.408 24419.758 24431.408 24432.508 24432.508\n",
      " 24425.308 24428.108 24428.108 24431.408 24431.408 24431.408 24425.308\n",
      " 24412.158 24418.244 24418.244 24425.844 24370.058 24425.844 24425.844\n",
      " 24414.308 24375.68  24375.478 24375.882 24375.478 24346.438 24327.855\n",
      " 24332.72  24332.72  24332.72  24332.72  24351.427 24351.427 24351.427\n",
      " 24351.427 24364.378 24335.54  24344.885 24335.54  24337.04  24337.04\n",
      " 24299.432 24321.108 24321.108 24362.86  24362.86  24362.86  24321.108\n",
      " 24362.86  24391.698 24738.878 24727.249 24680.901 24681.087 24691.699\n",
      " 24691.699 24692.359 24683.004 24711.549 24749.369 24749.369 24749.765\n",
      " 24749.369 24749.369 24749.765 24629.579 24526.216 24594.694 24667.913\n",
      " 24653.536 24570.389 24585.832 24643.629 24644.135 24614.105 24467.703\n",
      " 24467.018 24629.725 24676.975 24663.368 24554.866 24539.967 24505.983\n",
      " 24493.391 24493.189 24493.391 24359.547 24359.143 24300.242 24178.297\n",
      " 24178.297 24178.297 24149.459 24314.899 24149.459 24161.263 24179.17\n",
      " 24146.963 23927.958 23993.04  23977.043 23979.597 23967.612 23967.612\n",
      " 23967.612 23967.612 23967.612 23983.888 24106.754 24128.302 24037.026\n",
      " 24090.272 24090.272 24090.964 24075.525 24064.551 24791.675 24266.102\n",
      " 24177.136 24243.062 24166.009 24502.431 24497.629 24503.415 24187.376\n",
      " 24177.136 24132.876 24134.26  24136.682 24176.07  24181.606 24182.298\n",
      " 24220.267 24739.806 24728.279 24740.467 24739.478 24722.703 24474.051\n",
      " 24340.249 24340.929 24280.156 24227.735 24296.318 24169.648 24268.076\n",
      " 24270.593 24264.014 24276.252 24389.285 24396.013 24396.013 24402.829\n",
      " 24278.434 24275.169 24272.277 24398.528 24409.556 24402.751 24381.714\n",
      " 24276.198 24276.198 24275.613 24275.613 24275.613 24253.884 24233.332\n",
      " 24104.432 24109.023 24389.904 24231.783 24231.783 24231.783 24199.916\n",
      " 24199.916 24199.916 24220.27  24220.27  24220.481 24220.481 24207.509\n",
      " 24214.683 24211.284 24205.026 24199.267 24197.794 24208.37  24204.12\n",
      " 24208.37  24204.12  24180.672 24180.883 24194.978 24181.516 24181.305\n",
      " 24181.516 24191.634 24172.952 24184.003 24181.018 24144.411 24145.233\n",
      " 24146.557 24146.557 24170.09  24166.023 24224.483 24224.483 24224.483\n",
      " 24223.801 24222.662 24217.945 24151.391 24151.641 24151.694 24151.641\n",
      " 24148.417 24148.417 24147.662 24138.429 24137.344 24136.796 24211.413\n",
      " 24212.755 24156.779 24162.557 24162.683]' has dtype incompatible with int64, please explicitly cast to a compatible dtype first.\n",
      "  s2.loc[sellers_condition, 'Predicted_Ideal'] = s2['Target'] + s2['Predicted_100%_dis']\n"
     ]
    }
   ],
   "source": [
    "import os\n",
    "import pandas as pd\n",
    "\n",
    "def process_specific_file(input_directory, output_directory, target_filename):\n",
    "    # Ensure the output directory exists\n",
    "    os.makedirs(output_directory, exist_ok=True)\n",
    "\n",
    "    # Define the specific file to process\n",
    "    filepath = os.path.join(input_directory, target_filename)\n",
    "\n",
    "    # Load the DataFrame\n",
    "    s2 = pd.read_csv(filepath)\n",
    "\n",
    "    # Apply calculations based on control prices and entry values\n",
    "    s2['Actual_Ideal'] = 0\n",
    "    s2['Predicted_Ideal'] = 0\n",
    "\n",
    "    # Apply calculations for SellersInControlPrice\n",
    "    sellers_condition = (s2['SellersInControlPrice'] != 0) & (s2['Entry'] != 0)\n",
    "    s2.loc[sellers_condition, 'Actual_Ideal'] = s2['Target'] + s2['Actual_100%_dis']\n",
    "    s2.loc[sellers_condition, 'Predicted_Ideal'] = s2['Target'] + s2['Predicted_100%_dis']\n",
    "\n",
    "    # Apply calculations for BuyersInControlPrice\n",
    "    buyers_condition = (s2['BuyersInControlPrice'] != 0) & (s2['Entry'] != 0)\n",
    "    s2.loc[buyers_condition, 'Actual_Ideal'] = s2['Target'] + s2['Actual_100%_dis']\n",
    "    s2.loc[buyers_condition, 'Predicted_Ideal'] = s2['Target'] + s2['Predicted_100%_dis']\n",
    "\n",
    "    # Save the modified DataFrame to the output directory\n",
    "    output_filepath = os.path.join(output_directory, f'Processed_100%_{target_filename}')\n",
    "    s2.to_csv(output_filepath, index=False)\n",
    "\n",
    "    print(f'Saved processed file: {output_filepath}')\n",
    "\n",
    "# Example usage:\n",
    "\n",
    "output_directory = 'C:\\\\Users\\\\dell\\\\Desktop\\\\Exp_NIFTY50\\\\7day_Exp_dataset4_100%_percentage'\n",
    "target_filename = '7day_Exp(NIFTY50)_dataset_4.csv'\n",
    "\n",
    "process_specific_file(data_folder, output_directory, target_filename)"
   ]
  },
  {
   "cell_type": "code",
   "execution_count": 1,
   "metadata": {},
   "outputs": [],
   "source": [
    "import pandas as pd\n",
    "pd.set_option('display.max_columns',40)\n",
    "import os\n",
    "os.chdir(\"C:\\\\Users\\\\dell\\\\Desktop\\\\Non_imputed\\\\Data\")"
   ]
  },
  {
   "cell_type": "code",
   "execution_count": 2,
   "metadata": {},
   "outputs": [
    {
     "data": {
      "text/plain": [
       "['newModeltest_Agressive_data_non_imputed (1).csv']"
      ]
     },
     "execution_count": 2,
     "metadata": {},
     "output_type": "execute_result"
    }
   ],
   "source": [
    "# Path to your data folder in Google Drive\n",
    "data_folder = \"C:\\\\Users\\\\dell\\\\Desktop\\\\Non_imputed\\\\Data\"\n",
    "\n",
    "# List files in the specified folder to confirm access\n",
    "folder_path = os.path.join(data_folder)  # Update 'path_to_your_data_folder' with your actual folder path\n",
    "file_list = os.listdir(folder_path)\n",
    "file_list"
   ]
  },
  {
   "cell_type": "code",
   "execution_count": 3,
   "metadata": {},
   "outputs": [],
   "source": [
    "s = pd.read_csv('newModeltest_Agressive_data_non_imputed (1).csv')"
   ]
  },
  {
   "cell_type": "code",
   "execution_count": 4,
   "metadata": {},
   "outputs": [
    {
     "data": {
      "text/plain": [
       "(85172, 23)"
      ]
     },
     "execution_count": 4,
     "metadata": {},
     "output_type": "execute_result"
    }
   ],
   "source": [
    "s.shape"
   ]
  },
  {
   "cell_type": "code",
   "execution_count": 5,
   "metadata": {},
   "outputs": [
    {
     "data": {
      "text/plain": [
       "Index(['Time Stamp', 'Open', 'High', 'Low', 'Close', 'SellersLevel4',\n",
       "       'SellersLevel3', 'SellersLevel2', 'SellersLevel1', 'SellersLevel0',\n",
       "       'BuyersLevel0', 'BuyersLevel1', 'BuyersLevel2', 'BuyersLevel3',\n",
       "       'BuyersLevel4', 'BuyersInControlPrice', 'SellersInControlPrice',\n",
       "       'Entry', 'Defence', 'Stop', 'Target', 'Actual_100%_dis',\n",
       "       'Predicted_100%_dis'],\n",
       "      dtype='object')"
      ]
     },
     "execution_count": 5,
     "metadata": {},
     "output_type": "execute_result"
    }
   ],
   "source": [
    "s.columns"
   ]
  },
  {
   "cell_type": "code",
   "execution_count": 6,
   "metadata": {},
   "outputs": [
    {
     "data": {
      "text/plain": [
       "22"
      ]
     },
     "execution_count": 6,
     "metadata": {},
     "output_type": "execute_result"
    }
   ],
   "source": [
    "s.duplicated().sum()"
   ]
  },
  {
   "cell_type": "code",
   "execution_count": 7,
   "metadata": {},
   "outputs": [],
   "source": [
    "s.drop_duplicates(inplace=True,keep='first')"
   ]
  },
  {
   "cell_type": "code",
   "execution_count": 8,
   "metadata": {},
   "outputs": [
    {
     "data": {
      "text/plain": [
       "0"
      ]
     },
     "execution_count": 8,
     "metadata": {},
     "output_type": "execute_result"
    }
   ],
   "source": [
    "s.duplicated().sum()"
   ]
  },
  {
   "cell_type": "code",
   "execution_count": 9,
   "metadata": {},
   "outputs": [
    {
     "data": {
      "text/plain": [
       "(85150, 23)"
      ]
     },
     "execution_count": 9,
     "metadata": {},
     "output_type": "execute_result"
    }
   ],
   "source": [
    "s.shape"
   ]
  },
  {
   "cell_type": "code",
   "execution_count": 12,
   "metadata": {},
   "outputs": [
    {
     "name": "stderr",
     "output_type": "stream",
     "text": [
      "C:\\Users\\dell\\AppData\\Local\\Temp\\ipykernel_9428\\1781557659.py:20: FutureWarning: Setting an item of incompatible dtype is deprecated and will raise an error in a future version of pandas. Value '[4625.   4625.   4628.75 ... 5785.5  5785.5  5784.  ]' has dtype incompatible with int64, please explicitly cast to a compatible dtype first.\n",
      "  s2.loc[sellers_condition, 'Actual_Ideal'] = s2['Target'] - s2['Actual_100%_dis']\n",
      "C:\\Users\\dell\\AppData\\Local\\Temp\\ipykernel_9428\\1781557659.py:21: FutureWarning: Setting an item of incompatible dtype is deprecated and will raise an error in a future version of pandas. Value '[4662.275 4768.48  4722.82  ... 6592.37  6592.37  6590.87 ]' has dtype incompatible with int64, please explicitly cast to a compatible dtype first.\n",
      "  s2.loc[sellers_condition, 'Predicted_Ideal'] = s2['Target'] - s2['Predicted_100%_dis']\n"
     ]
    },
    {
     "name": "stdout",
     "output_type": "stream",
     "text": [
      "Saved processed file: C:\\Users\\dell\\Desktop\\Non_imputed\\Non_imputed_100%_calculation\\Processed_100%_newModeltest_Agressive_data_non_imputed (1).csv\n"
     ]
    }
   ],
   "source": [
    "import os\n",
    "import pandas as pd\n",
    "\n",
    "def process_specific_file(input_directory, output_directory, target_filename):\n",
    "    # Ensure the output directory exists\n",
    "    os.makedirs(output_directory, exist_ok=True)\n",
    "\n",
    "    # Define the specific file to process\n",
    "    filepath = os.path.join(input_directory, target_filename)\n",
    "\n",
    "    # Load the DataFrame\n",
    "    s2 = pd.read_csv(filepath)\n",
    "\n",
    "    # Apply calculations based on control prices and entry values\n",
    "    s2['Actual_Ideal'] = 0\n",
    "    s2['Predicted_Ideal'] = 0\n",
    "\n",
    "    # Apply calculations for SellersInControlPrice\n",
    "    sellers_condition = (s2['SellersInControlPrice'] != 0) & (s2['Entry'] != 0)\n",
    "    s2.loc[sellers_condition, 'Actual_Ideal'] = s2['Target'] - s2['Actual_100%_dis']\n",
    "    s2.loc[sellers_condition, 'Predicted_Ideal'] = s2['Target'] - s2['Predicted_100%_dis']\n",
    "\n",
    "    # Apply calculations for BuyersInControlPrice\n",
    "    buyers_condition = (s2['BuyersInControlPrice'] != 0) & (s2['Entry'] != 0)\n",
    "    s2.loc[buyers_condition, 'Actual_Ideal'] = s2['Target'] + s2['Actual_100%_dis']\n",
    "    s2.loc[buyers_condition, 'Predicted_Ideal'] = s2['Target'] + s2['Predicted_100%_dis']\n",
    "\n",
    "    # Save the modified DataFrame to the output directory\n",
    "    output_filepath = os.path.join(output_directory, f'Processed_100%_{target_filename}')\n",
    "    s2.to_csv(output_filepath, index=False)\n",
    "\n",
    "    print(f'Saved processed file: {output_filepath}')\n",
    "\n",
    "# Example usage:\n",
    "\n",
    "output_directory = 'C:\\\\Users\\\\dell\\\\Desktop\\\\Non_imputed\\\\Non_imputed_100%_calculation'\n",
    "target_filename = 'newModeltest_Agressive_data_non_imputed (1).csv'\n",
    "\n",
    "process_specific_file(data_folder, output_directory, target_filename)"
   ]
  },
  {
   "cell_type": "code",
   "execution_count": null,
   "metadata": {},
   "outputs": [],
   "source": []
  }
 ],
 "metadata": {
  "kernelspec": {
   "display_name": "base",
   "language": "python",
   "name": "python3"
  },
  "language_info": {
   "codemirror_mode": {
    "name": "ipython",
    "version": 3
   },
   "file_extension": ".py",
   "mimetype": "text/x-python",
   "name": "python",
   "nbconvert_exporter": "python",
   "pygments_lexer": "ipython3",
   "version": "3.12.4"
  }
 },
 "nbformat": 4,
 "nbformat_minor": 2
}
