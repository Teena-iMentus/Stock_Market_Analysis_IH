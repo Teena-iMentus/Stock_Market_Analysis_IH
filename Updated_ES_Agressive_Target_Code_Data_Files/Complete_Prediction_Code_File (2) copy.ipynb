{
 "cells": [
  {
   "cell_type": "markdown",
   "metadata": {
    "id": "qN5Br7o0weHY"
   },
   "source": [
    "**Aggressive**\n"
   ]
  },
  {
   "cell_type": "code",
   "execution_count": 251,
   "metadata": {
    "executionInfo": {
     "elapsed": 972,
     "status": "ok",
     "timestamp": 1724221929447,
     "user": {
      "displayName": "Teena Agrawal",
      "userId": "03827538251341852901"
     },
     "user_tz": -330
    },
    "id": "2Akmr1jJoa8t"
   },
   "outputs": [],
   "source": [
    "import pandas as pd\n",
    "pd.set_option('display.max_columns',40)\n",
    "import os\n",
    "os.chdir(r\"C:\\Users\\dell\\Desktop\\Updated_ES_Agressive\\Updated_ES_Agressive(4)_100%_profit\")"
   ]
  },
  {
   "cell_type": "code",
   "execution_count": 252,
   "metadata": {
    "colab": {
     "base_uri": "https://localhost:8080/"
    },
    "executionInfo": {
     "elapsed": 560,
     "status": "ok",
     "timestamp": 1724221936164,
     "user": {
      "displayName": "Teena Agrawal",
      "userId": "03827538251341852901"
     },
     "user_tz": -330
    },
    "id": "LTxerUqnoa_V",
    "outputId": "26b7595a-03fe-4814-f60b-a9c82ae33365"
   },
   "outputs": [
    {
     "data": {
      "text/plain": [
       "['processed_100%_profit_aggressive(4).csv']"
      ]
     },
     "execution_count": 252,
     "metadata": {},
     "output_type": "execute_result"
    }
   ],
   "source": [
    "# Path to your data folder in Google Drive\n",
    "data_folder_1 = r\"C:\\Users\\dell\\Desktop\\Updated_ES_Agressive\\Updated_ES_Agressive(4)_100%_profit\"\n",
    "\n",
    "# List files in the specified folder to confirm access\n",
    "folder_path = os.path.join(data_folder_1)  # Update 'path_to_your_data_folder' with your actual folder path\n",
    "file_list = os.listdir(folder_path)\n",
    "file_list"
   ]
  },
  {
   "cell_type": "code",
   "execution_count": 253,
   "metadata": {
    "executionInfo": {
     "elapsed": 525,
     "status": "ok",
     "timestamp": 1724221981896,
     "user": {
      "displayName": "Teena Agrawal",
      "userId": "03827538251341852901"
     },
     "user_tz": -330
    },
    "id": "PBfwdnneot8r"
   },
   "outputs": [],
   "source": [
    "s = pd.read_csv(\"processed_100%_profit_aggressive(4).csv\")\n",
    "# s1 = pd.read_csv(\"Processed_10%_Updated_RF_Agressive_10%_results (1).csv\")\n",
    "# s2 = pd.read_csv(\"Processed_20%_Updated_RF_Agressive_20%_results (1).csv\")\n",
    "# s3 = pd.read_csv(\"Processed_50%_Updated_RF_Agressive_50%_results (1).csv\")\n",
    "# s4 = pd.read_csv(\"Processed_80%_Updated_RF_Agressive_80%_results (1).csv\")\n",
    "# s5 = pd.read_csv(\"Processed_100%_Updated_RF_Agressive_100%_results (1).csv\")"
   ]
  },
  {
   "cell_type": "code",
   "execution_count": 254,
   "metadata": {
    "colab": {
     "base_uri": "https://localhost:8080/"
    },
    "executionInfo": {
     "elapsed": 4,
     "status": "ok",
     "timestamp": 1724221984948,
     "user": {
      "displayName": "Teena Agrawal",
      "userId": "03827538251341852901"
     },
     "user_tz": -330
    },
    "id": "m1Xqm4Cpot_P",
    "outputId": "6c29069c-3d8f-4c3c-9f12-d4c0d31370b4"
   },
   "outputs": [
    {
     "name": "stdout",
     "output_type": "stream",
     "text": [
      "Index(['Time Stamp', 'Open', 'High', 'Low', 'Close', 'SellersLevel4',\n",
      "       'SellersLevel3', 'SellersLevel2', 'SellersLevel1', 'SellersLevel0',\n",
      "       'BuyersLevel0', 'BuyersLevel1', 'BuyersLevel2', 'BuyersLevel3',\n",
      "       'BuyersLevel4', 'BuyersInControlPrice', 'SellersInControlPrice',\n",
      "       'Entry', 'Defence', 'Stop', 'Target', 'Actual_100%_dis',\n",
      "       'Predicted_100%_dis', 'Actual_Agressive', 'Predicted_Agressive',\n",
      "       'Profit', 'Actual_Aggressive_profit'],\n",
      "      dtype='object')\n"
     ]
    }
   ],
   "source": [
    "print(s.columns)\n",
    "# print(s1.columns)\n",
    "# print(s2.columns)\n",
    "# print(s3.columns)\n",
    "# print(s4.columns)\n",
    "# print(s5.columns)"
   ]
  },
  {
   "cell_type": "code",
   "execution_count": 5,
   "metadata": {
    "id": "8KcLZ37gouBj"
   },
   "outputs": [],
   "source": [
    "# s.columns"
   ]
  },
  {
   "cell_type": "code",
   "execution_count": 255,
   "metadata": {},
   "outputs": [
    {
     "data": {
      "text/plain": [
       "(1599, 27)"
      ]
     },
     "execution_count": 255,
     "metadata": {},
     "output_type": "execute_result"
    }
   ],
   "source": [
    "s.shape"
   ]
  },
  {
   "cell_type": "code",
   "execution_count": 256,
   "metadata": {},
   "outputs": [
    {
     "data": {
      "text/plain": [
       "0"
      ]
     },
     "execution_count": 256,
     "metadata": {},
     "output_type": "execute_result"
    }
   ],
   "source": [
    "s.duplicated().sum()"
   ]
  },
  {
   "cell_type": "code",
   "execution_count": 66,
   "metadata": {},
   "outputs": [],
   "source": [
    "s.drop_duplicates(inplace=True)"
   ]
  },
  {
   "cell_type": "code",
   "execution_count": 59,
   "metadata": {},
   "outputs": [
    {
     "data": {
      "text/plain": [
       "0"
      ]
     },
     "execution_count": 59,
     "metadata": {},
     "output_type": "execute_result"
    }
   ],
   "source": [
    "s.duplicated().sum()"
   ]
  },
  {
   "cell_type": "code",
   "execution_count": 257,
   "metadata": {},
   "outputs": [],
   "source": [
    "s.reset_index(drop=True,inplace=True)"
   ]
  },
  {
   "cell_type": "code",
   "execution_count": 9,
   "metadata": {
    "colab": {
     "base_uri": "https://localhost:8080/"
    },
    "executionInfo": {
     "elapsed": 291764,
     "status": "ok",
     "timestamp": 1724223925573,
     "user": {
      "displayName": "Teena Agrawal",
      "userId": "03827538251341852901"
     },
     "user_tz": -330
    },
    "id": "oKytjvQrc8v1",
    "outputId": "aafdcd00-a20b-4cea-c978-2c125923dd0f"
   },
   "outputs": [],
   "source": [
    "# import os\n",
    "# import pandas as pd\n",
    "# from tqdm import tqdm\n",
    "\n",
    "# def apply_trading_logic(df, target_col, percent):\n",
    "#     # Initialize new columns with 'Aggressive' in the column names\n",
    "#     df[f'PAT_Profit_{percent}'] = 0\n",
    "#     df[f'PAT_D_Profit_{percent}'] = 0\n",
    "#     df[f'Target_Predicted_Aggressive_{percent}_Loss'] = 0\n",
    "#     df[f'Target_Predicted_Aggressive_{percent}_Target_Buyer'] = 0\n",
    "#     df[f'Target_Predicted_Aggressive_{percent}_Defence_Target_Buyer'] = 0\n",
    "#     df[f'Target_Predicted_Aggressive_{percent}_Target_Seller'] = 0\n",
    "#     df[f'Target_Predicted_Aggressive_{percent}_Defence_Target_Seller'] = 0\n",
    "#     df[f'Target_Predicted_Aggressive_{percent}_Defence_Target'] = 0\n",
    "#     df[f'Target_Predicted_Aggressive_{percent}_Aggresive_T'] = 0\n",
    "\n",
    "#     # Iterate over each row with tqdm for progress tracking\n",
    "#     for i in tqdm(range(len(df))):\n",
    "#         row = df.iloc[i]\n",
    "\n",
    "#         # Entry Value Check\n",
    "#         if row['Entry'] != 0:\n",
    "#             entry = row['Entry']\n",
    "#             defence = row['Defence']\n",
    "\n",
    "#             # Buyers Logic\n",
    "#             if row['BuyersInControlPrice'] != 0:\n",
    "#                 # Defence Check\n",
    "#                 low_future_rows = df.iloc[i+1:]['Low']\n",
    "#                 matched_low_index = low_future_rows[low_future_rows == defence].index\n",
    "#                 if not matched_low_index.empty:\n",
    "#                     matched_low_index = matched_low_index[0]\n",
    "#                     max_high = df.loc[i:matched_low_index, 'High'].max()\n",
    "#                     max_close = df.loc[i:matched_low_index, 'Close'].max()\n",
    "\n",
    "#                     df.loc[i, f'Target_Predicted_Aggressive_{percent}_Target_Buyer'] = max_close\n",
    "#                     df.loc[i, f'Target_Predicted_Aggressive_{percent}_Aggresive_T'] = max_high\n",
    "\n",
    "#                     # Target_Predicted_X_dis vs. Max High Value Comparison\n",
    "#                     if row[target_col] <= max_high:\n",
    "#                         df.loc[i, f'PAT_Profit_{percent}'] = round(abs(row[target_col] - entry),2)\n",
    "#                     else:\n",
    "#                         stop = row['Stop']\n",
    "#                         if stop != 0:\n",
    "#                             df.loc[i, f'Target_Predicted_Aggressive_{percent}_Defence_Target_Buyer'] = ((entry + defence) / 2) + 0.25\n",
    "#                             matched_stop_index = low_future_rows[low_future_rows == stop].index\n",
    "#                             if not matched_stop_index.empty:\n",
    "#                                 matched_stop_index = matched_stop_index[0]\n",
    "#                                 max_high_stop = df.loc[i:matched_stop_index, 'High'].max()\n",
    "#                                 max_close_stop = df.loc[i:matched_stop_index, 'Close'].max()\n",
    "\n",
    "#                                 # Defence Target vs. Max High Value Comparison\n",
    "#                                 if df.loc[i, f'Target_Predicted_Aggressive_{percent}_Defence_Target_Buyer'] <= max_high_stop:\n",
    "#                                     df.loc[i, f'PAT_D_Profit_{percent}'] = abs(df.loc[i, f'Target_Predicted_Aggressive_{percent}_Defence_Target_Buyer'] - entry)\n",
    "#                                 else:\n",
    "#                                     df.loc[i, f'Target_Predicted_Aggressive_{percent}_Loss'] = abs(df.loc[i, f'Target_Predicted_Aggressive_{percent}_Defence_Target_Buyer'] - entry)\n",
    "\n",
    "#             # Sellers Logic\n",
    "#             if row['SellersInControlPrice'] != 0:\n",
    "#                 # Defence Check\n",
    "#                 high_future_rows = df.iloc[i+1:]['High']\n",
    "#                 matched_high_index = high_future_rows[high_future_rows == defence].index\n",
    "#                 if not matched_high_index.empty:\n",
    "#                     matched_high_index = matched_high_index[0]\n",
    "#                     min_low = df.loc[i:matched_high_index, 'Low'].min()\n",
    "#                     min_close = df.loc[i:matched_high_index, 'Close'].min()\n",
    "\n",
    "#                     df.loc[i, f'Target_Predicted_Aggressive_{percent}_Target_Seller'] = min_close\n",
    "#                     df.loc[i, f'Target_Predicted_Aggressive_{percent}_Aggresive_T'] = min_low\n",
    "\n",
    "#                     # Target_Predicted_X_dis vs. Min Low Value Comparison\n",
    "#                     if row[target_col] >= min_low:\n",
    "#                         df.loc[i, f'PAT_Profit_{percent}'] = round(abs(entry - row[target_col]),2)\n",
    "#                     else:\n",
    "#                         stop = row['Stop']\n",
    "#                         if stop != 0:\n",
    "#                             df.loc[i, f'Target_Predicted_Aggressive_{percent}_Defence_Target_Seller'] = ((entry + defence) / 2) - 0.25\n",
    "#                             matched_stop_index = high_future_rows[high_future_rows == stop].index\n",
    "#                             if not matched_stop_index.empty:\n",
    "#                                 matched_stop_index = matched_stop_index[0]\n",
    "#                                 min_low_stop = df.loc[i:matched_stop_index, 'Low'].min()\n",
    "#                                 min_close_stop = df.loc[i:matched_stop_index, 'Close'].min()\n",
    "\n",
    "#                                 # Defence Target vs. Min Low Value Comparison\n",
    "#                                 if df.loc[i, f'Target_Predicted_Aggressive_{percent}_Defence_Target_Seller'] >= min_low_stop:\n",
    "#                                     df.loc[i, f'PAT_D_Profit_{percent}'] = abs(entry - df.loc[i, f'Target_Predicted_Aggressive_{percent}_Defence_Target_Seller'])\n",
    "#                                 else:\n",
    "#                                     df.loc[i, f'Target_Predicted_Aggressive_{percent}_Loss'] = abs(df.loc[i, f'Target_Predicted_Aggressive_{percent}_Defence_Target_Seller'] - entry)\n",
    "\n",
    "#         # Additional Calculations\n",
    "#         df.loc[i, f'Target_Predicted_Aggressive_{percent}_Ideal_T'] = df.loc[i, f'Target_Predicted_Aggressive_{percent}_Target_Buyer'] + df.loc[i, f'Target_Predicted_Aggressive_{percent}_Target_Seller']\n",
    "#         df.loc[i, f'Target_Predicted_Aggressive_{percent}_Defence_Target'] = df.loc[i, f'Target_Predicted_Aggressive_{percent}_Defence_Target_Buyer'] + df.loc[i, f'Target_Predicted_Aggressive_{percent}_Defence_Target_Seller']\n",
    "\n",
    "#     return df\n",
    "\n",
    "# # def process_files(input_dir, output_dir):\n",
    "# #     # List all CSV files in the input directory\n",
    "# #     files = [f for f in os.listdir(input_dir) if f.endswith('.csv')]\n",
    "\n",
    "# #     for file in files:\n",
    "# #         # Extract the percentage from the filename\n",
    "# #         percent = file.split('_')[1].replace('%', '')\n",
    "\n",
    "# #         # Load the DataFrame\n",
    "# #         df = pd.read_csv(os.path.join(input_dir, file))\n",
    "\n",
    "# #         # Determine the Target_Predicted_X_dis column to use\n",
    "# #         target_col = f'Predicted_Agressive_{percent}_dis'\n",
    "# #         # Target_Predicted_Agressive_100_dis\n",
    "\n",
    "# #         # Apply trading logic\n",
    "# #         df = apply_trading_logic(df, target_col, percent)\n",
    "\n",
    "# #         # Drop unnecessary columns before saving\n",
    "# #         columns_to_drop = [\n",
    "# #             f'Target_Predicted_Aggressive_{percent}_Target_Buyer',\n",
    "# #             f'Target_Predicted_Aggressive_{percent}_Defence_Target_Buyer',\n",
    "# #             f'Target_Predicted_Aggressive_{percent}_Target_Seller',\n",
    "# #             f'Target_Predicted_Aggressive_{percent}_Defence_Target_Seller'\n",
    "# #         ]\n",
    "# #         df.drop(columns=columns_to_drop, inplace=True)\n",
    "\n",
    "# #         # Save the processed DataFrame to the output directory\n",
    "# #         output_file = f'Processed_{percent}_{file}'\n",
    "# #         df.to_csv(os.path.join(output_dir, output_file), index=False)\n",
    "\n",
    "# # Example usage\n",
    "\n",
    "# # output_dir = \"C:\\\\Users\\\\dell\\\\Desktop\\\\Non_imputed\\\\Non_imputed_100%_prediction\"\n",
    "# # process_files(data_folder_1, output_dir)\n"
   ]
  },
  {
   "cell_type": "code",
   "execution_count": 258,
   "metadata": {},
   "outputs": [],
   "source": [
    "import os\n",
    "import pandas as pd\n",
    "from tqdm import tqdm\n",
    "\n",
    "def apply_trading_logic(df, target_col, percent):\n",
    "    \"\"\"\n",
    "    Apply trading logic to calculate profit, loss, and defense targets for buyers and sellers.\n",
    "\n",
    "    Parameters:\n",
    "        df (pd.DataFrame): Input DataFrame.\n",
    "        target_col (str): The column containing the target prediction.\n",
    "        percent (int): Percentage value for column naming.\n",
    "\n",
    "    Returns:\n",
    "        pd.DataFrame: DataFrame with updated trading logic columns.\n",
    "    \"\"\"\n",
    "    # Initialize columns for results\n",
    "    df[f'PAT_Profit_{percent}'] = 0\n",
    "    df[f'PAT_D_Profit_{percent}'] = 0\n",
    "    df[f'Target_Predicted_Aggressive_{percent}_Loss'] = 0\n",
    "    df[f'Target_Predicted_Aggressive_{percent}_Target_Buyer'] = 0\n",
    "    df[f'Target_Predicted_Aggressive_{percent}_Defence_Target_Buyer'] = 0\n",
    "    df[f'Target_Predicted_Aggressive_{percent}_Target_Seller'] = 0\n",
    "    df[f'Target_Predicted_Aggressive_{percent}_Defence_Target_Seller'] = 0\n",
    "    df[f'Target_Predicted_Aggressive_{percent}_Defence_Target'] = 0\n",
    "    df[f'Target_Predicted_Aggressive_{percent}_Aggresive_T'] = 0\n",
    "    df[f'PAT_Profit_Timestamp_{percent}'] = ''\n",
    "    df[f'PAT_D_Profit_Timestamp_{percent}'] = ''\n",
    "    df[f'Target_Predicted_Aggressive_{percent}_Loss_Timestamp'] = ''\n",
    "\n",
    "    # Iterate over each row with tqdm for progress tracking\n",
    "    for i in tqdm(range(len(df))):\n",
    "        row = df.iloc[i]\n",
    "\n",
    "        # Entry Value Check\n",
    "        if row['Entry'] != 0:\n",
    "            entry = row['Entry']\n",
    "            defence = row['Defence']\n",
    "            stop = row['Stop']\n",
    "\n",
    "            # Buyers Logic\n",
    "            if row['BuyersInControlPrice'] != 0:\n",
    "                # Defence Check\n",
    "                low_future_rows = df.iloc[i + 1:][['Low', 'Time Stamp']]\n",
    "                matched_low_index = low_future_rows[low_future_rows['Low'] <= defence].index\n",
    "\n",
    "                if not matched_low_index.empty:\n",
    "                    matched_low_index = matched_low_index[0]\n",
    "                    max_high = df.loc[i:matched_low_index, 'High'].max()\n",
    "                    max_close = df.loc[i:matched_low_index, 'Close'].max()\n",
    "\n",
    "                    df.loc[i, f'Target_Predicted_Aggressive_{percent}_Target_Buyer'] = max_close\n",
    "                    df.loc[i, f'Target_Predicted_Aggressive_{percent}_Aggresive_T'] = max_high\n",
    "\n",
    "                    max_high_timestamp = df.loc[df['High'] == max_high, 'Time Stamp'].values[0]\n",
    "                    \n",
    "\n",
    "                    # Target_Predicted_X_dis vs. Max High Value Comparison\n",
    "                    if row[target_col] <= max_high:\n",
    "                        df.loc[i, f'PAT_Profit_{percent}'] = round((row[target_col] - entry), 2)\n",
    "                        df.loc[i, f'PAT_Profit_Timestamp_{percent}'] = max_high_timestamp\n",
    "                    else:\n",
    "                        if stop != 0:\n",
    "                            defence_target = ((entry + defence) / 2) + 0.25\n",
    "                            df.loc[i, f'Target_Predicted_Aggressive_{percent}_Defence_Target_Buyer'] = defence_target\n",
    "\n",
    "                            matched_stop_index = low_future_rows[low_future_rows['Low'] <= stop].index\n",
    "                            if not matched_stop_index.empty:\n",
    "                                matched_stop_index = matched_stop_index[0]\n",
    "                                max_high_stop = df.loc[i:matched_stop_index, 'High'].max()\n",
    "                                max_high_stop_timestamp = df.loc[df['High'] == max_high_stop, 'Time Stamp'].values[0]\n",
    "\n",
    "                                \n",
    "\n",
    "                                # Defence Target vs. Max High Value Comparison\n",
    "                                if defence_target <= max_high_stop:\n",
    "                                    df.loc[i, f'PAT_D_Profit_{percent}'] = abs(defence_target - entry)\n",
    "                                    df.loc[i, f'PAT_D_Profit_Timestamp_{percent}'] = max_high_stop_timestamp\n",
    "                                else:\n",
    "                                    df.loc[i, f'Target_Predicted_Aggressive_{percent}_Loss'] = abs(defence_target - entry)\n",
    "                                    df.loc[i, f'Target_Predicted_Aggressive_{percent}_Loss_Timestamp'] = max_high_stop_timestamp\n",
    "\n",
    "            # Sellers Logic\n",
    "            if row['SellersInControlPrice'] != 0:\n",
    "                high_future_rows = df.iloc[i + 1:][['High', 'Time Stamp']]\n",
    "                matched_high_index = high_future_rows[high_future_rows['High'] >= defence].index\n",
    "\n",
    "                if not matched_high_index.empty:\n",
    "                    matched_high_index = matched_high_index[0]\n",
    "                    min_low = df.loc[i:matched_high_index, 'Low'].min()\n",
    "                    min_close = df.loc[i:matched_high_index, 'Close'].min()\n",
    "\n",
    "                    df.loc[i, f'Target_Predicted_Aggressive_{percent}_Target_Seller'] = min_close\n",
    "                    df.loc[i, f'Target_Predicted_Aggressive_{percent}_Aggresive_T'] = min_low\n",
    "\n",
    "                    min_low_timestamp = df.loc[df['Low'] == min_low, 'Time Stamp'].values[0]\n",
    "                    \n",
    "\n",
    "                    # Target_Predicted_X_dis vs. Min Low Value Comparison\n",
    "                    if row[target_col] >= min_low:\n",
    "                        df.loc[i, f'PAT_Profit_{percent}'] = round((entry - row[target_col]), 2)\n",
    "                        df.loc[i, f'PAT_Profit_Timestamp_{percent}'] = min_low_timestamp\n",
    "                    else:\n",
    "                        if stop != 0:\n",
    "                            defence_target = ((entry + defence) / 2) - 0.25\n",
    "                            df.loc[i, f'Target_Predicted_Aggressive_{percent}_Defence_Target_Seller'] = defence_target\n",
    "\n",
    "                            matched_stop_index = high_future_rows[high_future_rows['High'] >= stop].index\n",
    "                            if not matched_stop_index.empty:\n",
    "                                matched_stop_index = matched_stop_index[0]\n",
    "                                min_low_stop = df.loc[i:matched_stop_index, 'Low'].min()\n",
    "                                min_low_stop_timestamp = df.loc[df['Low'] == min_low_stop, 'Time Stamp'].values[0]\n",
    "\n",
    "                                df.loc[i, f'Target_Predicted_Aggressive_{percent}_Loss_Timestamp'] = min_low_stop_timestamp\n",
    "\n",
    "                                # Defence Target vs. Min Low Value Comparison\n",
    "                                if defence_target >= min_low_stop:\n",
    "                                    df.loc[i, f'PAT_D_Profit_{percent}'] = abs(entry - defence_target)\n",
    "                                    df.loc[i, f'PAT_D_Profit_Timestamp_{percent}'] = min_low_stop_timestamp\n",
    "                                else:\n",
    "                                    df.loc[i, f'Target_Predicted_Aggressive_{percent}_Loss'] = abs(defence_target - entry)\n",
    "                                    df.loc[i, f'Target_Predicted_Aggressive_{percent}_Loss_Timestamp'] = min_low_stop_timestamp\n",
    "# \n",
    "    #  Additional Calculations\n",
    "        df.loc[i, f'Target_Predicted_Aggressive_{percent}_Ideal_T'] = df.loc[i, f'Target_Predicted_Aggressive_{percent}_Target_Buyer'] + df.loc[i, f'Target_Predicted_Aggressive_{percent}_Target_Seller']\n",
    "        df.loc[i, f'Target_Predicted_Aggressive_{percent}_Defence_Target'] = df.loc[i, f'Target_Predicted_Aggressive_{percent}_Defence_Target_Buyer'] + df.loc[i, f'Target_Predicted_Aggressive_{percent}_Defence_Target_Seller']\n",
    "        \n",
    "    return df\n",
    "\n",
    "\n",
    "# def process_files(input_dir, output_dir):\n",
    "#     \"\"\"\n",
    "#     Process CSV files in the input directory by applying trading logic.\n",
    "\n",
    "#     Parameters:\n",
    "#         input_dir (str): Directory containing input CSV files.\n",
    "#         output_dir (str): Directory to save processed CSV files.\n",
    "#     \"\"\"\n",
    "#     # List all CSV files in the input directory\n",
    "#     files = [f for f in os.listdir(input_dir) if f.endswith('.csv')]\n",
    "\n",
    "#     for file in files:\n",
    "#         # Extract the percentage from the filename\n",
    "#         percent = int(file.split('_')[1].replace('%', ''))\n",
    "\n",
    "#         # Load the DataFrame\n",
    "#         df = pd.read_csv(os.path.join(input_dir, file))\n",
    "\n",
    "#         # Determine the Target_Predicted_X_dis column to use\n",
    "#         target_col = f'Predicted_Aggressive_{percent}_dis'\n",
    "\n",
    "#         # Apply trading logic\n",
    "#         df = apply_trading_logic(df, target_col, percent)\n",
    "\n",
    "#         # Save the processed DataFrame to the output directory\n",
    "#         output_file = f'Processed_{file}'\n",
    "#         df.to_csv(os.path.join(output_dir, output_file), index=False)\n",
    "\n",
    "\n",
    "# # Example usage\n",
    "# input_dir = \"path_to_input_directory\"\n",
    "# output_dir = \"path_to_output_directory\"\n",
    "# process_files(input_dir, output_dir)\n"
   ]
  },
  {
   "cell_type": "code",
   "execution_count": 259,
   "metadata": {},
   "outputs": [
    {
     "name": "stderr",
     "output_type": "stream",
     "text": [
      "  7%|▋         | 106/1599 [00:00<00:04, 346.37it/s]C:\\Users\\dell\\AppData\\Local\\Temp\\ipykernel_12824\\3549346948.py:52: FutureWarning: Setting an item of incompatible dtype is deprecated and will raise an error in a future version of pandas. Value '5599.25' has dtype incompatible with int64, please explicitly cast to a compatible dtype first.\n",
      "  df.loc[i, f'Target_Predicted_Aggressive_{percent}_Target_Buyer'] = max_close\n",
      "C:\\Users\\dell\\AppData\\Local\\Temp\\ipykernel_12824\\3549346948.py:53: FutureWarning: Setting an item of incompatible dtype is deprecated and will raise an error in a future version of pandas. Value '5599.5' has dtype incompatible with int64, please explicitly cast to a compatible dtype first.\n",
      "  df.loc[i, f'Target_Predicted_Aggressive_{percent}_Aggresive_T'] = max_high\n",
      "C:\\Users\\dell\\AppData\\Local\\Temp\\ipykernel_12824\\3549346948.py:65: FutureWarning: Setting an item of incompatible dtype is deprecated and will raise an error in a future version of pandas. Value '5598.75' has dtype incompatible with int64, please explicitly cast to a compatible dtype first.\n",
      "  df.loc[i, f'Target_Predicted_Aggressive_{percent}_Defence_Target_Buyer'] = defence_target\n",
      "C:\\Users\\dell\\AppData\\Local\\Temp\\ipykernel_12824\\3549346948.py:77: FutureWarning: Setting an item of incompatible dtype is deprecated and will raise an error in a future version of pandas. Value '0.5' has dtype incompatible with int64, please explicitly cast to a compatible dtype first.\n",
      "  df.loc[i, f'PAT_D_Profit_{percent}'] = abs(defence_target - entry)\n",
      "C:\\Users\\dell\\AppData\\Local\\Temp\\ipykernel_12824\\3549346948.py:126: FutureWarning: Setting an item of incompatible dtype is deprecated and will raise an error in a future version of pandas. Value '5598.75' has dtype incompatible with int64, please explicitly cast to a compatible dtype first.\n",
      "  df.loc[i, f'Target_Predicted_Aggressive_{percent}_Defence_Target'] = df.loc[i, f'Target_Predicted_Aggressive_{percent}_Defence_Target_Buyer'] + df.loc[i, f'Target_Predicted_Aggressive_{percent}_Defence_Target_Seller']\n",
      "100%|██████████| 1599/1599 [00:02<00:00, 681.98it/s]\n"
     ]
    }
   ],
   "source": [
    "d=apply_trading_logic(s,'Predicted_Agressive','100')"
   ]
  },
  {
   "cell_type": "code",
   "execution_count": 260,
   "metadata": {},
   "outputs": [],
   "source": [
    "d.to_csv(r'C:\\Users\\dell\\Desktop\\Updated_ES_Agressive\\Updated_ES_Agressive(4)_100%_prediction\\Processessed_100%_prediction(4).csv',index=False)"
   ]
  },
  {
   "cell_type": "code",
   "execution_count": 261,
   "metadata": {},
   "outputs": [],
   "source": [
    "s=pd.read_csv(r\"C:\\Users\\dell\\Desktop\\Updated_ES_Agressive\\Updated_ES_Agressive(4)_100%_prediction\\Processessed_100%_prediction(4).csv\")"
   ]
  },
  {
   "cell_type": "code",
   "execution_count": 262,
   "metadata": {},
   "outputs": [
    {
     "data": {
      "text/plain": [
       "Index(['Time Stamp', 'Open', 'High', 'Low', 'Close', 'SellersLevel4',\n",
       "       'SellersLevel3', 'SellersLevel2', 'SellersLevel1', 'SellersLevel0',\n",
       "       'BuyersLevel0', 'BuyersLevel1', 'BuyersLevel2', 'BuyersLevel3',\n",
       "       'BuyersLevel4', 'BuyersInControlPrice', 'SellersInControlPrice',\n",
       "       'Entry', 'Defence', 'Stop', 'Target', 'Actual_100%_dis',\n",
       "       'Predicted_100%_dis', 'Actual_Agressive', 'Predicted_Agressive',\n",
       "       'Profit', 'Actual_Aggressive_profit', 'PAT_Profit_100',\n",
       "       'PAT_D_Profit_100', 'Target_Predicted_Aggressive_100_Loss',\n",
       "       'Target_Predicted_Aggressive_100_Target_Buyer',\n",
       "       'Target_Predicted_Aggressive_100_Defence_Target_Buyer',\n",
       "       'Target_Predicted_Aggressive_100_Target_Seller',\n",
       "       'Target_Predicted_Aggressive_100_Defence_Target_Seller',\n",
       "       'Target_Predicted_Aggressive_100_Defence_Target',\n",
       "       'Target_Predicted_Aggressive_100_Aggresive_T',\n",
       "       'PAT_Profit_Timestamp_100', 'PAT_D_Profit_Timestamp_100',\n",
       "       'Target_Predicted_Aggressive_100_Loss_Timestamp',\n",
       "       'Target_Predicted_Aggressive_100_Ideal_T'],\n",
       "      dtype='object')"
      ]
     },
     "execution_count": 262,
     "metadata": {},
     "output_type": "execute_result"
    }
   ],
   "source": [
    "s.columns"
   ]
  },
  {
   "cell_type": "code",
   "execution_count": 263,
   "metadata": {},
   "outputs": [],
   "source": [
    "s.drop(columns=['Target_Predicted_Aggressive_100_Target_Buyer','Target_Predicted_Aggressive_100_Defence_Target_Buyer','Target_Predicted_Aggressive_100_Target_Seller','Target_Predicted_Aggressive_100_Defence_Target_Seller'],inplace=True,axis=1)"
   ]
  },
  {
   "cell_type": "code",
   "execution_count": 264,
   "metadata": {},
   "outputs": [
    {
     "data": {
      "text/plain": [
       "Index(['Time Stamp', 'Open', 'High', 'Low', 'Close', 'SellersLevel4',\n",
       "       'SellersLevel3', 'SellersLevel2', 'SellersLevel1', 'SellersLevel0',\n",
       "       'BuyersLevel0', 'BuyersLevel1', 'BuyersLevel2', 'BuyersLevel3',\n",
       "       'BuyersLevel4', 'BuyersInControlPrice', 'SellersInControlPrice',\n",
       "       'Entry', 'Defence', 'Stop', 'Target', 'Actual_100%_dis',\n",
       "       'Predicted_100%_dis', 'Actual_Agressive', 'Predicted_Agressive',\n",
       "       'Profit', 'Actual_Aggressive_profit', 'PAT_Profit_100',\n",
       "       'PAT_D_Profit_100', 'Target_Predicted_Aggressive_100_Loss',\n",
       "       'Target_Predicted_Aggressive_100_Defence_Target',\n",
       "       'Target_Predicted_Aggressive_100_Aggresive_T',\n",
       "       'PAT_Profit_Timestamp_100', 'PAT_D_Profit_Timestamp_100',\n",
       "       'Target_Predicted_Aggressive_100_Loss_Timestamp',\n",
       "       'Target_Predicted_Aggressive_100_Ideal_T'],\n",
       "      dtype='object')"
      ]
     },
     "execution_count": 264,
     "metadata": {},
     "output_type": "execute_result"
    }
   ],
   "source": [
    "s.columns"
   ]
  },
  {
   "cell_type": "code",
   "execution_count": 265,
   "metadata": {},
   "outputs": [],
   "source": [
    "s.drop(columns=['Target_Predicted_Aggressive_100_Aggresive_T'],inplace=True,axis=1)"
   ]
  },
  {
   "cell_type": "code",
   "execution_count": 266,
   "metadata": {},
   "outputs": [],
   "source": [
    "s.rename({'Target_Predicted_Aggressive_100_Loss':'PAT:Loss_100'},inplace=True,axis=1)"
   ]
  },
  {
   "cell_type": "code",
   "execution_count": 267,
   "metadata": {},
   "outputs": [],
   "source": [
    "s.rename({'Target_Predicted_Aggressive_100_Loss':'PAT_Loss_100'},inplace=True,axis=1)"
   ]
  },
  {
   "cell_type": "code",
   "execution_count": 268,
   "metadata": {},
   "outputs": [],
   "source": [
    "s.rename({'PAT:Loss_100':'PAT_Loss_100'},inplace=True,axis=1)"
   ]
  },
  {
   "cell_type": "code",
   "execution_count": 269,
   "metadata": {},
   "outputs": [],
   "source": [
    "s.rename({'Target_Predicted_Aggressive_100_Loss_Timestamp':'PAT_Loss_Timestamp_100'},inplace=True,axis=1)"
   ]
  },
  {
   "cell_type": "code",
   "execution_count": 270,
   "metadata": {},
   "outputs": [
    {
     "data": {
      "text/plain": [
       "Index(['Time Stamp', 'Open', 'High', 'Low', 'Close', 'SellersLevel4',\n",
       "       'SellersLevel3', 'SellersLevel2', 'SellersLevel1', 'SellersLevel0',\n",
       "       'BuyersLevel0', 'BuyersLevel1', 'BuyersLevel2', 'BuyersLevel3',\n",
       "       'BuyersLevel4', 'BuyersInControlPrice', 'SellersInControlPrice',\n",
       "       'Entry', 'Defence', 'Stop', 'Target', 'Actual_100%_dis',\n",
       "       'Predicted_100%_dis', 'Actual_Agressive', 'Predicted_Agressive',\n",
       "       'Profit', 'Actual_Aggressive_profit', 'PAT_Profit_100',\n",
       "       'PAT_D_Profit_100', 'PAT_Loss_100',\n",
       "       'Target_Predicted_Aggressive_100_Defence_Target',\n",
       "       'PAT_Profit_Timestamp_100', 'PAT_D_Profit_Timestamp_100',\n",
       "       'PAT_Loss_Timestamp_100', 'Target_Predicted_Aggressive_100_Ideal_T'],\n",
       "      dtype='object')"
      ]
     },
     "execution_count": 270,
     "metadata": {},
     "output_type": "execute_result"
    }
   ],
   "source": [
    "s.columns"
   ]
  },
  {
   "cell_type": "code",
   "execution_count": 271,
   "metadata": {
    "id": "LDg9uMInc8yj"
   },
   "outputs": [],
   "source": [
    "import pandas as pd\n",
    "from tqdm import tqdm\n",
    "\n",
    "def apply_trading_logic(df):\n",
    "    # Initialize the new columns with 0\n",
    "    df['T_Profit'] = 0\n",
    "    df['D_Profit'] = 0\n",
    "    df['Loss'] = 0\n",
    "    df['Ideal_Target_Buyer'] = 0\n",
    "    df['Defence_Target_Buyer'] = 0\n",
    "    df['Ideal_Target_Seller'] = 0\n",
    "    df['Defence_Target_Seller'] = 0\n",
    "\n",
    "    # Initialize mismatch counters\n",
    "    buyers_mismatch_count = 0\n",
    "    sellers_mismatch_count = 0\n",
    "    buyers_stop_mismatch_count = 0\n",
    "    sellers_stop_mismatch_count = 0\n",
    "\n",
    "    # Iterate over each row with tqdm for progress tracking\n",
    "    for i in tqdm(range(len(df))):\n",
    "        row = df.iloc[i]\n",
    "\n",
    "        # Entry Value Check\n",
    "        if row['Entry'] != 0:\n",
    "            entry = row['Entry']\n",
    "            defence = row['Defence']\n",
    "\n",
    "            # Buyers Logic\n",
    "            if row['BuyersInControlPrice'] != 0:\n",
    "                # Defence Check with <= condition\n",
    "                low_future_rows = df.iloc[i+1:]['Low']\n",
    "                matched_low_index = low_future_rows[low_future_rows <= defence].index\n",
    "                if not matched_low_index.empty:\n",
    "                    matched_low_index = matched_low_index[0]\n",
    "                    max_high = df.loc[i:matched_low_index, 'High'].max()\n",
    "                    max_close = df.loc[i:matched_low_index, 'Close'].max()\n",
    "\n",
    "                    df.loc[i, 'Ideal_Target_Buyer'] = max_close\n",
    "\n",
    "                    # Target vs. Max High Value Comparison\n",
    "                    if row['Target'] <= max_high:\n",
    "                        df.loc[i, 'T_Profit'] = abs(row['Target'] - entry)\n",
    "                    else:\n",
    "                        stop = row['Stop']\n",
    "                        if stop != 0:\n",
    "                            df.loc[i, 'Defence_Target_Buyer'] = ((entry + defence) / 2) + 0.25\n",
    "                            matched_stop_index = low_future_rows[low_future_rows <= stop].index\n",
    "                            if not matched_stop_index.empty:\n",
    "                                matched_stop_index = matched_stop_index[0]\n",
    "                                max_high_stop = df.loc[i:matched_stop_index, 'High'].max()\n",
    "\n",
    "                                # Defence Target vs. Max High Value Comparison\n",
    "                                if df.loc[i, 'Defence_Target_Buyer'] <= max_high_stop:\n",
    "                                    df.loc[i, 'D_Profit'] = abs(df.loc[i, 'Defence_Target_Buyer'] - entry)\n",
    "                                else:\n",
    "                                    df.loc[i, 'Loss'] = abs(df.loc[i, 'Defence_Target_Buyer'] - entry)\n",
    "                            else:\n",
    "                                buyers_stop_mismatch_count += 1\n",
    "                else:\n",
    "                    buyers_mismatch_count += 1\n",
    "\n",
    "            # Sellers Logic\n",
    "            if row['SellersInControlPrice'] != 0:\n",
    "                # Defence Check with >= condition\n",
    "                high_future_rows = df.iloc[i+1:]['High']\n",
    "                matched_high_index = high_future_rows[high_future_rows >= defence].index\n",
    "                if not matched_high_index.empty:\n",
    "                    matched_high_index = matched_high_index[0]\n",
    "                    min_low = df.loc[i:matched_high_index, 'Low'].min()\n",
    "                    min_close = df.loc[i:matched_high_index, 'Close'].min()\n",
    "\n",
    "                    df.loc[i, 'Ideal_Target_Seller'] = min_close\n",
    "\n",
    "                    # Target vs. Min Low Value Comparison\n",
    "                    if row['Target'] >= min_low:\n",
    "                        df.loc[i, 'T_Profit'] = abs(entry - row['Target'])\n",
    "                    else:\n",
    "                        stop = row['Stop']\n",
    "                        if stop != 0:\n",
    "                            df.loc[i, 'Defence_Target_Seller'] = ((entry + defence) / 2) - 0.25\n",
    "                            matched_stop_index = high_future_rows[high_future_rows >= stop].index\n",
    "                            if not matched_stop_index.empty:\n",
    "                                matched_stop_index = matched_stop_index[0]\n",
    "                                min_low_stop = df.loc[i:matched_stop_index, 'Low'].min()\n",
    "\n",
    "                                # Defence Target vs. Min Low Value Comparison\n",
    "                                if df.loc[i, 'Defence_Target_Seller'] >= min_low_stop:\n",
    "                                    df.loc[i, 'D_Profit'] = abs(entry - df.loc[i, 'Defence_Target_Seller'])\n",
    "                                else:\n",
    "                                    df.loc[i, 'Loss'] = abs(df.loc[i, 'Defence_Target_Seller'] - entry)\n",
    "                            else:\n",
    "                                sellers_stop_mismatch_count += 1\n",
    "                else:\n",
    "                    sellers_mismatch_count += 1\n",
    "\n",
    "    # Print mismatch counts\n",
    "    print(f\"Buyers mismatch count: {buyers_mismatch_count}\")\n",
    "    print(f\"Sellers mismatch count: {sellers_mismatch_count}\")\n",
    "    print(f\"Buyers stop mismatch count: {buyers_stop_mismatch_count}\")\n",
    "    print(f\"Sellers stop mismatch count: {sellers_stop_mismatch_count}\")\n",
    "\n",
    "    # Drop unnecessary columns if they exist\n",
    "    columns_to_drop = [\"Ideal_Target_Buyer\", \"Ideal_Target_Seller\", \"Defence_Target_Buyer\", \"Defence_Target_Seller\"]\n",
    "    df.drop(columns=[col for col in columns_to_drop if col in df.columns], inplace=True)\n",
    "\n",
    "    return df\n"
   ]
  },
  {
   "cell_type": "code",
   "execution_count": 272,
   "metadata": {
    "id": "4kjgIbc9VWWK"
   },
   "outputs": [
    {
     "name": "stderr",
     "output_type": "stream",
     "text": [
      "  0%|          | 0/1599 [00:00<?, ?it/s]"
     ]
    },
    {
     "name": "stderr",
     "output_type": "stream",
     "text": [
      "C:\\Users\\dell\\AppData\\Local\\Temp\\ipykernel_12824\\850206605.py:39: FutureWarning: Setting an item of incompatible dtype is deprecated and will raise an error in a future version of pandas. Value '5599.25' has dtype incompatible with int64, please explicitly cast to a compatible dtype first.\n",
      "  df.loc[i, 'Ideal_Target_Buyer'] = max_close\n",
      "C:\\Users\\dell\\AppData\\Local\\Temp\\ipykernel_12824\\850206605.py:47: FutureWarning: Setting an item of incompatible dtype is deprecated and will raise an error in a future version of pandas. Value '5598.75' has dtype incompatible with int64, please explicitly cast to a compatible dtype first.\n",
      "  df.loc[i, 'Defence_Target_Buyer'] = ((entry + defence) / 2) + 0.25\n",
      "C:\\Users\\dell\\AppData\\Local\\Temp\\ipykernel_12824\\850206605.py:55: FutureWarning: Setting an item of incompatible dtype is deprecated and will raise an error in a future version of pandas. Value '0.5' has dtype incompatible with int64, please explicitly cast to a compatible dtype first.\n",
      "  df.loc[i, 'D_Profit'] = abs(df.loc[i, 'Defence_Target_Buyer'] - entry)\n",
      " 14%|█▍        | 226/1599 [00:00<00:00, 2217.22it/s]C:\\Users\\dell\\AppData\\Local\\Temp\\ipykernel_12824\\850206605.py:43: FutureWarning: Setting an item of incompatible dtype is deprecated and will raise an error in a future version of pandas. Value '2.75' has dtype incompatible with int64, please explicitly cast to a compatible dtype first.\n",
      "  df.loc[i, 'T_Profit'] = abs(row['Target'] - entry)\n",
      "100%|██████████| 1599/1599 [00:00<00:00, 4873.75it/s]"
     ]
    },
    {
     "name": "stdout",
     "output_type": "stream",
     "text": [
      "Buyers mismatch count: 0\n",
      "Sellers mismatch count: 0\n",
      "Buyers stop mismatch count: 0\n",
      "Sellers stop mismatch count: 0\n"
     ]
    },
    {
     "name": "stderr",
     "output_type": "stream",
     "text": [
      "\n"
     ]
    }
   ],
   "source": [
    "data=apply_trading_logic(s)"
   ]
  },
  {
   "cell_type": "code",
   "execution_count": 273,
   "metadata": {},
   "outputs": [
    {
     "data": {
      "text/plain": [
       "Index(['Time Stamp', 'Open', 'High', 'Low', 'Close', 'SellersLevel4',\n",
       "       'SellersLevel3', 'SellersLevel2', 'SellersLevel1', 'SellersLevel0',\n",
       "       'BuyersLevel0', 'BuyersLevel1', 'BuyersLevel2', 'BuyersLevel3',\n",
       "       'BuyersLevel4', 'BuyersInControlPrice', 'SellersInControlPrice',\n",
       "       'Entry', 'Defence', 'Stop', 'Target', 'Actual_100%_dis',\n",
       "       'Predicted_100%_dis', 'Actual_Agressive', 'Predicted_Agressive',\n",
       "       'Profit', 'Actual_Aggressive_profit', 'PAT_Profit_100',\n",
       "       'PAT_D_Profit_100', 'PAT_Loss_100',\n",
       "       'Target_Predicted_Aggressive_100_Defence_Target',\n",
       "       'PAT_Profit_Timestamp_100', 'PAT_D_Profit_Timestamp_100',\n",
       "       'PAT_Loss_Timestamp_100', 'Target_Predicted_Aggressive_100_Ideal_T',\n",
       "       'T_Profit', 'D_Profit', 'Loss'],\n",
       "      dtype='object')"
      ]
     },
     "execution_count": 273,
     "metadata": {},
     "output_type": "execute_result"
    }
   ],
   "source": [
    "data.columns"
   ]
  },
  {
   "cell_type": "code",
   "execution_count": 274,
   "metadata": {},
   "outputs": [],
   "source": [
    "data.drop(columns=['T_Profit','D_Profit'],inplace=True,axis=1)"
   ]
  },
  {
   "cell_type": "code",
   "execution_count": 275,
   "metadata": {},
   "outputs": [
    {
     "data": {
      "text/plain": [
       "Index(['Time Stamp', 'Open', 'High', 'Low', 'Close', 'SellersLevel4',\n",
       "       'SellersLevel3', 'SellersLevel2', 'SellersLevel1', 'SellersLevel0',\n",
       "       'BuyersLevel0', 'BuyersLevel1', 'BuyersLevel2', 'BuyersLevel3',\n",
       "       'BuyersLevel4', 'BuyersInControlPrice', 'SellersInControlPrice',\n",
       "       'Entry', 'Defence', 'Stop', 'Target', 'Actual_100%_dis',\n",
       "       'Predicted_100%_dis', 'Actual_Agressive', 'Predicted_Agressive',\n",
       "       'Profit', 'Actual_Aggressive_profit', 'PAT_Profit_100',\n",
       "       'PAT_D_Profit_100', 'PAT_Loss_100',\n",
       "       'Target_Predicted_Aggressive_100_Defence_Target',\n",
       "       'PAT_Profit_Timestamp_100', 'PAT_D_Profit_Timestamp_100',\n",
       "       'PAT_Loss_Timestamp_100', 'Target_Predicted_Aggressive_100_Ideal_T',\n",
       "       'Loss'],\n",
       "      dtype='object')"
      ]
     },
     "execution_count": 275,
     "metadata": {},
     "output_type": "execute_result"
    }
   ],
   "source": [
    "data.columns"
   ]
  },
  {
   "cell_type": "code",
   "execution_count": 276,
   "metadata": {},
   "outputs": [],
   "source": [
    "data.to_csv(r\"C:\\Users\\dell\\Desktop\\Updated_ES_Agressive\\Updated_ES_Agressive(4)_100%_prediction\\Processed_distnce_updated_agressive_target_4_version_updated_ES.csv\",index=False)"
   ]
  }
 ],
 "metadata": {
  "colab": {
   "authorship_tag": "ABX9TyM7mAe/T7OGEd2tg89Mopv0",
   "provenance": []
  },
  "kernelspec": {
   "display_name": "base",
   "language": "python",
   "name": "python3"
  },
  "language_info": {
   "codemirror_mode": {
    "name": "ipython",
    "version": 3
   },
   "file_extension": ".py",
   "mimetype": "text/x-python",
   "name": "python",
   "nbconvert_exporter": "python",
   "pygments_lexer": "ipython3",
   "version": "3.12.4"
  }
 },
 "nbformat": 4,
 "nbformat_minor": 0
}
