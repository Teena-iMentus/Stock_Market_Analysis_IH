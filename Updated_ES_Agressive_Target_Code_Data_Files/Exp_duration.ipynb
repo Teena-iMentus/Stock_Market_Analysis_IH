{
 "cells": [
  {
   "cell_type": "code",
   "execution_count": 36,
   "metadata": {},
   "outputs": [
    {
     "data": {
      "text/plain": [
       "['Exp_dist_final_dataset4_updated_ES_Agressive(100%).csv']"
      ]
     },
     "execution_count": 36,
     "metadata": {},
     "output_type": "execute_result"
    }
   ],
   "source": [
    "import pandas as pd\n",
    "pd.set_option('display.max_columns',40)\n",
    "import os\n",
    "os.chdir(r\"C:\\Users\\dell\\Desktop\\Updated_ES_Agressive\\Updated_ES_Agressive(4)_100%_final\")\n",
    "# Path to your data folder in Google Drive\n",
    "data_folder = r\"C:\\Users\\dell\\Desktop\\Updated_ES_Agressive\\Updated_ES_Agressive(4)_100%_final\"\n",
    "# List files in the specified folder to confirm access\n",
    "folder_path = os.path.join(data_folder)  # Update 'path_to_your_data_folder' with your actual folder path\n",
    "file_list = os.listdir(folder_path)\n",
    "file_list"
   ]
  },
  {
   "cell_type": "code",
   "execution_count": 37,
   "metadata": {},
   "outputs": [],
   "source": [
    "data=pd.read_csv('Exp_dist_final_dataset4_updated_ES_Agressive(100%).csv')"
   ]
  },
  {
   "cell_type": "code",
   "execution_count": 38,
   "metadata": {},
   "outputs": [
    {
     "data": {
      "text/plain": [
       "Index(['Time Stamp', 'Open', 'High', 'Low', 'Close', 'SellersLevel4',\n",
       "       'SellersLevel3', 'SellersLevel2', 'SellersLevel1', 'SellersLevel0',\n",
       "       'BuyersLevel0', 'BuyersLevel1', 'BuyersLevel2', 'BuyersLevel3',\n",
       "       'BuyersLevel4', 'BuyersInControlPrice', 'SellersInControlPrice',\n",
       "       'Entry', 'Defence', 'Stop', 'Target', 'Actual_100%_dis',\n",
       "       'Predicted_100%_dis', 'Actual_Agressive_Target',\n",
       "       'Predicted_Agressive_Target', 'Actual_Profit',\n",
       "       'Actual_Aggressive_profit', 'PAT_Profit_100', 'PAT_D_Profit_100',\n",
       "       'PAT_Loss_100', 'Target_Predicted_Aggressive_100_Defence_Target',\n",
       "       'PAT_Profit_Timestamp_100', 'PAT_D_Profit_Timestamp_100',\n",
       "       'PAT_Loss_Timestamp_100', 'Actual_Loss'],\n",
       "      dtype='object')"
      ]
     },
     "execution_count": 38,
     "metadata": {},
     "output_type": "execute_result"
    }
   ],
   "source": [
    "data.columns"
   ]
  },
  {
   "cell_type": "code",
   "execution_count": 39,
   "metadata": {},
   "outputs": [
    {
     "name": "stdout",
     "output_type": "stream",
     "text": [
      "Output saved to duration_output_Dataset4_updated_ES_Agressive(100%).csv\n"
     ]
    }
   ],
   "source": [
    "import pandas as pd\n",
    "\n",
    "# Load the CSV file\n",
    "input_file = \"Exp_dist_final_dataset4_updated_ES_Agressive(100%).csv\"  # Replace with your input file path\n",
    "output_file = \"duration_output_Dataset4_updated_ES_Agressive(100%).csv\"  # Replace with your desired output file path\n",
    "\n",
    "# Read the data into a DataFrame\n",
    "df = pd.read_csv(input_file)\n",
    "\n",
    "# Ensure datetime columns are in datetime format\n",
    "df['Time Stamp'] = pd.to_datetime(df['Time Stamp'])\n",
    "df['PAT_Profit_Timestamp_100'] = pd.to_datetime(df['PAT_Profit_Timestamp_100'], errors='coerce')\n",
    "df['PAT_D_Profit_Timestamp_100'] = pd.to_datetime(df['PAT_D_Profit_Timestamp_100'], errors='coerce')\n",
    "df['PAT_Loss_Timestamp_100'] = pd.to_datetime(df['PAT_Loss_Timestamp_100'], errors='coerce')\n",
    "\n",
    "# Function to calculate duration in hours, minutes, and seconds\n",
    "def calculate_duration(start, end):\n",
    "    if pd.notnull(end) and pd.notnull(start):\n",
    "        delta = abs(end - start)\n",
    "        hours, remainder = divmod(delta.total_seconds(), 3600)\n",
    "        minutes, seconds = divmod(remainder, 60)\n",
    "        return f\"{int(hours)} Hours {int(minutes)} Minutes {int(seconds)} Seconds\"\n",
    "    return \"0\"  # Return \"0\" if timestamps are missing or invalid\n",
    "\n",
    "# Calculate durations\n",
    "df['PAT_Profit_Duration'] = df.apply(\n",
    "    lambda row: calculate_duration(row['Time Stamp'], row['PAT_Profit_Timestamp_100']), axis=1)\n",
    "df['PAT_D_Profit_Duration'] = df.apply(\n",
    "    lambda row: calculate_duration(row['Time Stamp'], row['PAT_D_Profit_Timestamp_100']), axis=1)\n",
    "df['PAT_Loss_Duration'] = df.apply(\n",
    "    lambda row: calculate_duration(row['Time Stamp'], row['PAT_Loss_Timestamp_100']), axis=1)\n",
    "\n",
    "# Save the updated DataFrame to a new CSV file\n",
    "df.to_csv(output_file, index=False)\n",
    "print(f\"Output saved to {output_file}\")\n"
   ]
  },
  {
   "cell_type": "code",
   "execution_count": 6,
   "metadata": {},
   "outputs": [],
   "source": [
    "a=pd.read_csv(r'C:\\Users\\dell\\Desktop\\Exp1_ES\\Exp_dataset1_dist_100%_final\\duration_output_Dataset1_version(100%).csv')"
   ]
  },
  {
   "cell_type": "code",
   "execution_count": 7,
   "metadata": {},
   "outputs": [
    {
     "data": {
      "text/plain": [
       "Index(['Time Stamp', 'Open', 'High', 'Low', 'Close', 'SellersLevel4',\n",
       "       'SellersLevel3', 'SellersLevel2', 'SellersLevel1', 'SellersLevel0',\n",
       "       'BuyersLevel0', 'BuyersLevel1', 'BuyersLevel2', 'BuyersLevel3',\n",
       "       'BuyersLevel4', 'BuyersInControlPrice', 'SellersInControlPrice',\n",
       "       'Entry', 'Defence', 'Stop', 'Target', 'Actual_100%_dis',\n",
       "       'Predicted_100%_dis', 'Actual_Ideal_Target', 'Predicted_Ideal_Target',\n",
       "       'Actual_Profit', 'Actual_ideal_profit', 'PIT_Profit_100',\n",
       "       'PIT_D_Profit_100', 'PIT_Loss_100', 'PIT_Defence_Target_100',\n",
       "       'PIT_Profit_Timestamp_100', 'PIT_D_Profit_Timestamp_100',\n",
       "       'PIT_Loss_Timestamp_100', 'Actual_Loss', 'PIT_Profit_Duration',\n",
       "       'PIT_D_Profit_Duration', 'PIT_Loss_Duration'],\n",
       "      dtype='object')"
      ]
     },
     "execution_count": 7,
     "metadata": {},
     "output_type": "execute_result"
    }
   ],
   "source": [
    "a.columns"
   ]
  },
  {
   "cell_type": "code",
   "execution_count": 9,
   "metadata": {},
   "outputs": [
    {
     "data": {
      "text/plain": [
       "0"
      ]
     },
     "execution_count": 9,
     "metadata": {},
     "output_type": "execute_result"
    }
   ],
   "source": [
    "a.duplicated().sum()"
   ]
  },
  {
   "cell_type": "code",
   "execution_count": 13,
   "metadata": {},
   "outputs": [
    {
     "name": "stdout",
     "output_type": "stream",
     "text": [
      "Number of rows with Entry > 0, Target > 0, but PIT_Profit_100, PIT_D_Profit_100, PIT_Loss_100 = 0: 37\n"
     ]
    }
   ],
   "source": [
    "import pandas as pd\n",
    "\n",
    "# Load your dataset\n",
    "input_file = r'C:\\Users\\dell\\Desktop\\Exp1_ES\\Exp_dataset4_dist_100%_final\\duration_output_Dataset4(100%).csv'  # Replace with your input CSV file path\n",
    "\n",
    "# Read the data into a DataFrame\n",
    "data = pd.read_csv(input_file)\n",
    "\n",
    "# Check conditions\n",
    "# We want Entry > 0, Target > 0, Preset > 0, and PIT_Profit_100, PIT_D_Profit_100, PIT_Loss_100 = 0\n",
    "condition = (\n",
    "    (data['Entry'] > 0) &\n",
    "    (data['Target'] > 0) &\n",
    "    (data['PIT_Profit_100'] == 0) &\n",
    "    (data['PIT_D_Profit_100'] == 0) &\n",
    "    (data['PIT_Loss_100'] == 0)\n",
    ")\n",
    "\n",
    "# Filter the DataFrame based on the condition\n",
    "filtered_data = data[condition]\n",
    "\n",
    "# Count the number of rows that match the condition\n",
    "count = filtered_data.shape[0]\n",
    "\n",
    "# Print the result\n",
    "print(f\"Number of rows with Entry > 0, Target > 0, but PIT_Profit_100, PIT_D_Profit_100, PIT_Loss_100 = 0: {count}\")"
   ]
  }
 ],
 "metadata": {
  "kernelspec": {
   "display_name": "base",
   "language": "python",
   "name": "python3"
  },
  "language_info": {
   "codemirror_mode": {
    "name": "ipython",
    "version": 3
   },
   "file_extension": ".py",
   "mimetype": "text/x-python",
   "name": "python",
   "nbconvert_exporter": "python",
   "pygments_lexer": "ipython3",
   "version": "3.12.4"
  }
 },
 "nbformat": 4,
 "nbformat_minor": 2
}
